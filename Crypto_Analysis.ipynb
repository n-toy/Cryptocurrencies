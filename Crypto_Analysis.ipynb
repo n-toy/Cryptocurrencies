{
 "cells": [
  {
   "cell_type": "code",
   "execution_count": 14,
   "metadata": {},
   "outputs": [],
   "source": [
    "import pandas as pd\n",
    "import pandas as pd\n",
    "from sklearn.preprocessing import StandardScaler\n",
    "from sklearn.decomposition import PCA\n",
    "from sklearn.cluster import KMeans\n",
    "import hvplot.pandas\n",
    "import plotly.express as px"
   ]
  },
  {
   "cell_type": "code",
   "execution_count": 2,
   "metadata": {},
   "outputs": [
    {
     "data": {
      "text/html": [
       "<div>\n",
       "<style scoped>\n",
       "    .dataframe tbody tr th:only-of-type {\n",
       "        vertical-align: middle;\n",
       "    }\n",
       "\n",
       "    .dataframe tbody tr th {\n",
       "        vertical-align: top;\n",
       "    }\n",
       "\n",
       "    .dataframe thead th {\n",
       "        text-align: right;\n",
       "    }\n",
       "</style>\n",
       "<table border=\"1\" class=\"dataframe\">\n",
       "  <thead>\n",
       "    <tr style=\"text-align: right;\">\n",
       "      <th></th>\n",
       "      <th>Unnamed: 0</th>\n",
       "      <th>CoinName</th>\n",
       "      <th>Algorithm</th>\n",
       "      <th>IsTrading</th>\n",
       "      <th>ProofType</th>\n",
       "      <th>TotalCoinsMined</th>\n",
       "      <th>TotalCoinSupply</th>\n",
       "    </tr>\n",
       "  </thead>\n",
       "  <tbody>\n",
       "    <tr>\n",
       "      <th>0</th>\n",
       "      <td>42</td>\n",
       "      <td>42 Coin</td>\n",
       "      <td>Scrypt</td>\n",
       "      <td>True</td>\n",
       "      <td>PoW/PoS</td>\n",
       "      <td>4.199995e+01</td>\n",
       "      <td>42</td>\n",
       "    </tr>\n",
       "    <tr>\n",
       "      <th>1</th>\n",
       "      <td>365</td>\n",
       "      <td>365Coin</td>\n",
       "      <td>X11</td>\n",
       "      <td>True</td>\n",
       "      <td>PoW/PoS</td>\n",
       "      <td>NaN</td>\n",
       "      <td>2300000000</td>\n",
       "    </tr>\n",
       "    <tr>\n",
       "      <th>2</th>\n",
       "      <td>404</td>\n",
       "      <td>404Coin</td>\n",
       "      <td>Scrypt</td>\n",
       "      <td>True</td>\n",
       "      <td>PoW/PoS</td>\n",
       "      <td>1.055185e+09</td>\n",
       "      <td>532000000</td>\n",
       "    </tr>\n",
       "    <tr>\n",
       "      <th>3</th>\n",
       "      <td>611</td>\n",
       "      <td>SixEleven</td>\n",
       "      <td>SHA-256</td>\n",
       "      <td>True</td>\n",
       "      <td>PoW</td>\n",
       "      <td>NaN</td>\n",
       "      <td>611000</td>\n",
       "    </tr>\n",
       "    <tr>\n",
       "      <th>4</th>\n",
       "      <td>808</td>\n",
       "      <td>808</td>\n",
       "      <td>SHA-256</td>\n",
       "      <td>True</td>\n",
       "      <td>PoW/PoS</td>\n",
       "      <td>0.000000e+00</td>\n",
       "      <td>0</td>\n",
       "    </tr>\n",
       "  </tbody>\n",
       "</table>\n",
       "</div>"
      ],
      "text/plain": [
       "  Unnamed: 0   CoinName Algorithm  IsTrading ProofType  TotalCoinsMined  \\\n",
       "0         42    42 Coin    Scrypt       True   PoW/PoS     4.199995e+01   \n",
       "1        365    365Coin       X11       True   PoW/PoS              NaN   \n",
       "2        404    404Coin    Scrypt       True   PoW/PoS     1.055185e+09   \n",
       "3        611  SixEleven   SHA-256       True       PoW              NaN   \n",
       "4        808        808   SHA-256       True   PoW/PoS     0.000000e+00   \n",
       "\n",
       "  TotalCoinSupply  \n",
       "0              42  \n",
       "1      2300000000  \n",
       "2       532000000  \n",
       "3          611000  \n",
       "4               0  "
      ]
     },
     "execution_count": 2,
     "metadata": {},
     "output_type": "execute_result"
    }
   ],
   "source": [
    "file_path = \"~\\Documents\\Data Bootcamp\\Cryptocurrencies\\Resources\\crypto_data.csv\"\n",
    "df_crypto = pd.read_csv(file_path)\n",
    "df_crypto.head()"
   ]
  },
  {
   "cell_type": "code",
   "execution_count": 3,
   "metadata": {},
   "outputs": [],
   "source": [
    "#Set unnamed: 0 as df_crypto index\n",
    "df_crypto = df_crypto.set_index('Unnamed: 0')\n",
    "\n",
    "#Remove all cryptocurrencies that aren’t trading.\n",
    "df_crypto = df_crypto[df_crypto[\"IsTrading\"]==True]\n",
    "#Remove all cryptocurrencies that don’t have an algorithm defined.\n",
    "df_crypto.Algorithm.unique()\n",
    "\n",
    "#All Crypto has an algorithm defined!\n",
    "\n",
    "#Remove the IsTrading column.\n",
    "df_crypto = df_crypto.drop([\"IsTrading\"],axis = 1)\n",
    "\n",
    "#Remove all cryptocurrencies with at least one null value\n",
    "df_crypto = df_crypto.dropna(axis = 0,how = \"any\")\n",
    "\n",
    "#Remove all cryptocurrencies without coins mined.\n",
    "df_crypto = df_crypto[df_crypto.TotalCoinsMined != 0]"
   ]
  },
  {
   "cell_type": "code",
   "execution_count": 4,
   "metadata": {},
   "outputs": [],
   "source": [
    "#Store the names of all cryptocurrencies on a DataFramed named coins_name, and use the crypto_df.index as the index for this new DataFrame.\n",
    "coins_name = pd.DataFrame(df_crypto.CoinName,columns = [\"CoinName\"])\n",
    "coins_name[\"index_col\"] = df_crypto.index.values\n",
    "coins_name = coins_name.set_index('index_col')\n",
    "\n",
    "#Remove the CoinName column.\n",
    "df_crypto = df_crypto.drop([\"CoinName\"],axis = 1)\n",
    "\n",
    "#Create dummies variables for all of the text features, and store the resulting data on a DataFrame named X.\n",
    "# I think by dummy variables it wants us to change string values into integers?\n",
    "#Copy the DF\n",
    "X = df_crypto.copy()\n",
    "#Use Pandas to assign integer values for each string\n",
    "#X[\"Unnamed: 0\"] = pd.Series(df_crypto[\"Unnamed: 0\"]).astype('category').cat.codes.values\n",
    "X.Algorithm = pd.Series(df_crypto.Algorithm).astype('category').cat.codes.values\n",
    "X.ProofType = pd.Series(df_crypto.ProofType).astype('category').cat.codes.values\n",
    "#X = X.drop(columns = ['TotalCoinsMined','TotalCoinSupply'])\n",
    "\n",
    "#Use the StandardScaler from sklearn  to standardize all of the data from the X DataFrame. \n",
    "X_scaled = StandardScaler().fit_transform(X)\n",
    "\n",
    "\n",
    "\n",
    "\n",
    "\n"
   ]
  },
  {
   "cell_type": "markdown",
   "metadata": {},
   "source": [
    "# Reduce Dimensionality using Principal Component Analysis"
   ]
  },
  {
   "cell_type": "code",
   "execution_count": 5,
   "metadata": {},
   "outputs": [],
   "source": [
    "#Initialize PCA Model with 3 components\n",
    "pca = PCA(n_components = 3)\n"
   ]
  },
  {
   "cell_type": "code",
   "execution_count": 6,
   "metadata": {},
   "outputs": [
    {
     "data": {
      "text/plain": [
       "array([[-0.41266543,  0.82315023,  0.35722699],\n",
       "       [-0.39130558,  0.82787259,  0.35833556],\n",
       "       [ 3.14315232,  2.18674766,  0.487273  ],\n",
       "       ...,\n",
       "       [ 0.02754817, -1.58427704,  1.41762995],\n",
       "       [-0.04208592, -1.24744988,  1.09935354],\n",
       "       [ 0.09716371, -0.69628935, -1.34263979]])"
      ]
     },
     "execution_count": 6,
     "metadata": {},
     "output_type": "execute_result"
    }
   ],
   "source": [
    "#attach PCA model to X Data frame (scaled df_crypto) for analysis\n",
    "crypto_pca = pca.fit_transform(X_scaled)\n",
    "crypto_pca"
   ]
  },
  {
   "cell_type": "code",
   "execution_count": 7,
   "metadata": {},
   "outputs": [
    {
     "data": {
      "text/plain": [
       "array([0.43456239, 0.28670335, 0.20580514])"
      ]
     },
     "execution_count": 7,
     "metadata": {},
     "output_type": "execute_result"
    }
   ],
   "source": [
    "pca.explained_variance_ratio_"
   ]
  },
  {
   "cell_type": "code",
   "execution_count": 8,
   "metadata": {},
   "outputs": [
    {
     "data": {
      "text/html": [
       "<div>\n",
       "<style scoped>\n",
       "    .dataframe tbody tr th:only-of-type {\n",
       "        vertical-align: middle;\n",
       "    }\n",
       "\n",
       "    .dataframe tbody tr th {\n",
       "        vertical-align: top;\n",
       "    }\n",
       "\n",
       "    .dataframe thead th {\n",
       "        text-align: right;\n",
       "    }\n",
       "</style>\n",
       "<table border=\"1\" class=\"dataframe\">\n",
       "  <thead>\n",
       "    <tr style=\"text-align: right;\">\n",
       "      <th></th>\n",
       "      <th>PC 1</th>\n",
       "      <th>PC 2</th>\n",
       "      <th>PC 3</th>\n",
       "    </tr>\n",
       "  </thead>\n",
       "  <tbody>\n",
       "    <tr>\n",
       "      <th>0</th>\n",
       "      <td>-0.412665</td>\n",
       "      <td>0.823150</td>\n",
       "      <td>0.357227</td>\n",
       "    </tr>\n",
       "    <tr>\n",
       "      <th>1</th>\n",
       "      <td>-0.391306</td>\n",
       "      <td>0.827873</td>\n",
       "      <td>0.358336</td>\n",
       "    </tr>\n",
       "    <tr>\n",
       "      <th>2</th>\n",
       "      <td>3.143152</td>\n",
       "      <td>2.186748</td>\n",
       "      <td>0.487273</td>\n",
       "    </tr>\n",
       "    <tr>\n",
       "      <th>3</th>\n",
       "      <td>-0.190301</td>\n",
       "      <td>-0.003829</td>\n",
       "      <td>-0.043688</td>\n",
       "    </tr>\n",
       "    <tr>\n",
       "      <th>4</th>\n",
       "      <td>-0.051013</td>\n",
       "      <td>-1.161387</td>\n",
       "      <td>1.020473</td>\n",
       "    </tr>\n",
       "    <tr>\n",
       "      <th>...</th>\n",
       "      <td>...</td>\n",
       "      <td>...</td>\n",
       "      <td>...</td>\n",
       "    </tr>\n",
       "    <tr>\n",
       "      <th>528</th>\n",
       "      <td>0.560750</td>\n",
       "      <td>-2.082122</td>\n",
       "      <td>-2.376795</td>\n",
       "    </tr>\n",
       "    <tr>\n",
       "      <th>529</th>\n",
       "      <td>-0.409905</td>\n",
       "      <td>0.823729</td>\n",
       "      <td>0.357770</td>\n",
       "    </tr>\n",
       "    <tr>\n",
       "      <th>530</th>\n",
       "      <td>0.027548</td>\n",
       "      <td>-1.584277</td>\n",
       "      <td>1.417630</td>\n",
       "    </tr>\n",
       "    <tr>\n",
       "      <th>531</th>\n",
       "      <td>-0.042086</td>\n",
       "      <td>-1.247450</td>\n",
       "      <td>1.099354</td>\n",
       "    </tr>\n",
       "    <tr>\n",
       "      <th>532</th>\n",
       "      <td>0.097164</td>\n",
       "      <td>-0.696289</td>\n",
       "      <td>-1.342640</td>\n",
       "    </tr>\n",
       "  </tbody>\n",
       "</table>\n",
       "<p>533 rows × 3 columns</p>\n",
       "</div>"
      ],
      "text/plain": [
       "         PC 1      PC 2      PC 3\n",
       "0   -0.412665  0.823150  0.357227\n",
       "1   -0.391306  0.827873  0.358336\n",
       "2    3.143152  2.186748  0.487273\n",
       "3   -0.190301 -0.003829 -0.043688\n",
       "4   -0.051013 -1.161387  1.020473\n",
       "..        ...       ...       ...\n",
       "528  0.560750 -2.082122 -2.376795\n",
       "529 -0.409905  0.823729  0.357770\n",
       "530  0.027548 -1.584277  1.417630\n",
       "531 -0.042086 -1.247450  1.099354\n",
       "532  0.097164 -0.696289 -1.342640\n",
       "\n",
       "[533 rows x 3 columns]"
      ]
     },
     "execution_count": 8,
     "metadata": {},
     "output_type": "execute_result"
    }
   ],
   "source": [
    "pcs_df = pd.DataFrame(\n",
    "    data = crypto_pca,columns = [\"PC 1\",\"PC 2\",\"PC 3\"]\n",
    ")\n",
    "\n",
    "pcs_df\n",
    "#pd.concat([df_crypto_pca.reset_index(drop = True),coins_name],axis = 1)"
   ]
  },
  {
   "cell_type": "code",
   "execution_count": 9,
   "metadata": {},
   "outputs": [
    {
     "data": {
      "text/html": [
       "<div>\n",
       "<style scoped>\n",
       "    .dataframe tbody tr th:only-of-type {\n",
       "        vertical-align: middle;\n",
       "    }\n",
       "\n",
       "    .dataframe tbody tr th {\n",
       "        vertical-align: top;\n",
       "    }\n",
       "\n",
       "    .dataframe thead th {\n",
       "        text-align: right;\n",
       "    }\n",
       "</style>\n",
       "<table border=\"1\" class=\"dataframe\">\n",
       "  <thead>\n",
       "    <tr style=\"text-align: right;\">\n",
       "      <th></th>\n",
       "      <th>PC 1</th>\n",
       "      <th>PC 2</th>\n",
       "      <th>PC 3</th>\n",
       "    </tr>\n",
       "    <tr>\n",
       "      <th>index_col</th>\n",
       "      <th></th>\n",
       "      <th></th>\n",
       "      <th></th>\n",
       "    </tr>\n",
       "  </thead>\n",
       "  <tbody>\n",
       "    <tr>\n",
       "      <th>42</th>\n",
       "      <td>-0.412665</td>\n",
       "      <td>0.823150</td>\n",
       "      <td>0.357227</td>\n",
       "    </tr>\n",
       "    <tr>\n",
       "      <th>404</th>\n",
       "      <td>-0.391306</td>\n",
       "      <td>0.827873</td>\n",
       "      <td>0.358336</td>\n",
       "    </tr>\n",
       "    <tr>\n",
       "      <th>1337</th>\n",
       "      <td>3.143152</td>\n",
       "      <td>2.186748</td>\n",
       "      <td>0.487273</td>\n",
       "    </tr>\n",
       "    <tr>\n",
       "      <th>BTC</th>\n",
       "      <td>-0.190301</td>\n",
       "      <td>-0.003829</td>\n",
       "      <td>-0.043688</td>\n",
       "    </tr>\n",
       "    <tr>\n",
       "      <th>ETH</th>\n",
       "      <td>-0.051013</td>\n",
       "      <td>-1.161387</td>\n",
       "      <td>1.020473</td>\n",
       "    </tr>\n",
       "    <tr>\n",
       "      <th>...</th>\n",
       "      <td>...</td>\n",
       "      <td>...</td>\n",
       "      <td>...</td>\n",
       "    </tr>\n",
       "    <tr>\n",
       "      <th>ZEPH</th>\n",
       "      <td>0.560750</td>\n",
       "      <td>-2.082122</td>\n",
       "      <td>-2.376795</td>\n",
       "    </tr>\n",
       "    <tr>\n",
       "      <th>GAP</th>\n",
       "      <td>-0.409905</td>\n",
       "      <td>0.823729</td>\n",
       "      <td>0.357770</td>\n",
       "    </tr>\n",
       "    <tr>\n",
       "      <th>BDX</th>\n",
       "      <td>0.027548</td>\n",
       "      <td>-1.584277</td>\n",
       "      <td>1.417630</td>\n",
       "    </tr>\n",
       "    <tr>\n",
       "      <th>ZEN</th>\n",
       "      <td>-0.042086</td>\n",
       "      <td>-1.247450</td>\n",
       "      <td>1.099354</td>\n",
       "    </tr>\n",
       "    <tr>\n",
       "      <th>XBC</th>\n",
       "      <td>0.097164</td>\n",
       "      <td>-0.696289</td>\n",
       "      <td>-1.342640</td>\n",
       "    </tr>\n",
       "  </tbody>\n",
       "</table>\n",
       "<p>533 rows × 3 columns</p>\n",
       "</div>"
      ],
      "text/plain": [
       "               PC 1      PC 2      PC 3\n",
       "index_col                              \n",
       "42        -0.412665  0.823150  0.357227\n",
       "404       -0.391306  0.827873  0.358336\n",
       "1337       3.143152  2.186748  0.487273\n",
       "BTC       -0.190301 -0.003829 -0.043688\n",
       "ETH       -0.051013 -1.161387  1.020473\n",
       "...             ...       ...       ...\n",
       "ZEPH       0.560750 -2.082122 -2.376795\n",
       "GAP       -0.409905  0.823729  0.357770\n",
       "BDX        0.027548 -1.584277  1.417630\n",
       "ZEN       -0.042086 -1.247450  1.099354\n",
       "XBC        0.097164 -0.696289 -1.342640\n",
       "\n",
       "[533 rows x 3 columns]"
      ]
     },
     "execution_count": 9,
     "metadata": {},
     "output_type": "execute_result"
    }
   ],
   "source": [
    "#Set pcs_df index as index from df_crypto\n",
    "pcs_df['index_col'] = df_crypto.index.values\n",
    "pcs_df = pcs_df.set_index('index_col')\n",
    "pcs_df"
   ]
  },
  {
   "cell_type": "markdown",
   "metadata": {},
   "source": [
    "# K Means Clustering"
   ]
  },
  {
   "cell_type": "code",
   "execution_count": 10,
   "metadata": {},
   "outputs": [
    {
     "data": {},
     "metadata": {},
     "output_type": "display_data"
    },
    {
     "data": {
      "application/vnd.holoviews_exec.v0+json": "",
      "text/html": [
       "<div id='1001'>\n",
       "\n",
       "\n",
       "\n",
       "\n",
       "\n",
       "  <div class=\"bk-root\" id=\"d8127881-1a63-412f-949f-f5add48f8f5a\" data-root-id=\"1001\"></div>\n",
       "</div>\n",
       "<script type=\"application/javascript\">(function(root) {\n",
       "  function embed_document(root) {\n",
       "  var docs_json = {\"fb1dfe56-a184-4dcf-baf8-ab09a40122d4\":{\"roots\":{\"references\":[{\"attributes\":{\"end\":2153.335745030428,\"reset_end\":2153.335745030428,\"reset_start\":31.48845589111849,\"start\":31.48845589111849,\"tags\":[[[\"inertia\",\"inertia\",null]]]},\"id\":\"1004\",\"type\":\"Range1d\"},{\"attributes\":{\"overlay\":{\"id\":\"1028\"}},\"id\":\"1026\",\"type\":\"BoxZoomTool\"},{\"attributes\":{\"children\":[{\"id\":\"1002\"},{\"id\":\"1006\"},{\"id\":\"1065\"}],\"margin\":[0,0,0,0],\"name\":\"Row01521\",\"tags\":[\"embedded\"]},\"id\":\"1001\",\"type\":\"Row\"},{\"attributes\":{\"data\":{\"inertia\":{\"__ndarray__\":\"vEg7gA/inkDI8WgakUOUQFiedmiE24pAQTCrzAz4gUBvKTsdn3d6QHob7PiH/nVAhcf14S2nckDyV13B29JuQCMmwtjjCWpA\",\"dtype\":\"float64\",\"order\":\"little\",\"shape\":[9]},\"k\":[1,2,3,4,5,6,7,8,9]},\"selected\":{\"id\":\"1037\"},\"selection_policy\":{\"id\":\"1056\"}},\"id\":\"1036\",\"type\":\"ColumnDataSource\"},{\"attributes\":{\"ticks\":[1,2,3,4,5,6,7,8,9]},\"id\":\"1044\",\"type\":\"FixedTicker\"},{\"attributes\":{\"axis_label\":\"k\",\"bounds\":\"auto\",\"formatter\":{\"id\":\"1045\"},\"major_label_orientation\":\"horizontal\",\"ticker\":{\"id\":\"1044\"}},\"id\":\"1015\",\"type\":\"LinearAxis\"},{\"attributes\":{\"line_color\":\"#1f77b3\",\"line_width\":2,\"x\":{\"field\":\"k\"},\"y\":{\"field\":\"inertia\"}},\"id\":\"1039\",\"type\":\"Line\"},{\"attributes\":{\"axis\":{\"id\":\"1015\"},\"grid_line_color\":null,\"ticker\":null},\"id\":\"1018\",\"type\":\"Grid\"},{\"attributes\":{\"align\":null,\"below\":[{\"id\":\"1015\"}],\"center\":[{\"id\":\"1018\"},{\"id\":\"1022\"}],\"left\":[{\"id\":\"1019\"}],\"margin\":null,\"min_border_bottom\":10,\"min_border_left\":10,\"min_border_right\":10,\"min_border_top\":10,\"plot_height\":300,\"plot_width\":700,\"renderers\":[{\"id\":\"1042\"}],\"sizing_mode\":\"fixed\",\"title\":{\"id\":\"1007\"},\"toolbar\":{\"id\":\"1029\"},\"x_range\":{\"id\":\"1003\"},\"x_scale\":{\"id\":\"1011\"},\"y_range\":{\"id\":\"1004\"},\"y_scale\":{\"id\":\"1013\"}},\"id\":\"1006\",\"subtype\":\"Figure\",\"type\":\"Plot\"},{\"attributes\":{\"source\":{\"id\":\"1036\"}},\"id\":\"1043\",\"type\":\"CDSView\"},{\"attributes\":{},\"id\":\"1045\",\"type\":\"BasicTickFormatter\"},{\"attributes\":{\"margin\":[5,5,5,5],\"name\":\"HSpacer01525\",\"sizing_mode\":\"stretch_width\"},\"id\":\"1002\",\"type\":\"Spacer\"},{\"attributes\":{\"axis\":{\"id\":\"1019\"},\"dimension\":1,\"grid_line_color\":null,\"ticker\":null},\"id\":\"1022\",\"type\":\"Grid\"},{\"attributes\":{},\"id\":\"1020\",\"type\":\"BasicTicker\"},{\"attributes\":{\"bottom_units\":\"screen\",\"fill_alpha\":0.5,\"fill_color\":\"lightgrey\",\"left_units\":\"screen\",\"level\":\"overlay\",\"line_alpha\":1.0,\"line_color\":\"black\",\"line_dash\":[4,4],\"line_width\":2,\"right_units\":\"screen\",\"top_units\":\"screen\"},\"id\":\"1028\",\"type\":\"BoxAnnotation\"},{\"attributes\":{\"axis_label\":\"inertia\",\"bounds\":\"auto\",\"formatter\":{\"id\":\"1049\"},\"major_label_orientation\":\"horizontal\",\"ticker\":{\"id\":\"1020\"}},\"id\":\"1019\",\"type\":\"LinearAxis\"},{\"attributes\":{\"margin\":[5,5,5,5],\"name\":\"HSpacer01526\",\"sizing_mode\":\"stretch_width\"},\"id\":\"1065\",\"type\":\"Spacer\"},{\"attributes\":{},\"id\":\"1049\",\"type\":\"BasicTickFormatter\"},{\"attributes\":{},\"id\":\"1013\",\"type\":\"LinearScale\"},{\"attributes\":{},\"id\":\"1011\",\"type\":\"LinearScale\"},{\"attributes\":{\"text\":\"K Means Elbow Curve\",\"text_color\":{\"value\":\"black\"},\"text_font_size\":{\"value\":\"12pt\"}},\"id\":\"1007\",\"type\":\"Title\"},{\"attributes\":{},\"id\":\"1023\",\"type\":\"SaveTool\"},{\"attributes\":{},\"id\":\"1027\",\"type\":\"ResetTool\"},{\"attributes\":{},\"id\":\"1056\",\"type\":\"UnionRenderers\"},{\"attributes\":{\"data_source\":{\"id\":\"1036\"},\"glyph\":{\"id\":\"1039\"},\"hover_glyph\":null,\"muted_glyph\":{\"id\":\"1041\"},\"nonselection_glyph\":{\"id\":\"1040\"},\"selection_glyph\":null,\"view\":{\"id\":\"1043\"}},\"id\":\"1042\",\"type\":\"GlyphRenderer\"},{\"attributes\":{},\"id\":\"1037\",\"type\":\"Selection\"},{\"attributes\":{\"active_drag\":\"auto\",\"active_inspect\":\"auto\",\"active_multi\":null,\"active_scroll\":\"auto\",\"active_tap\":\"auto\",\"tools\":[{\"id\":\"1005\"},{\"id\":\"1023\"},{\"id\":\"1024\"},{\"id\":\"1025\"},{\"id\":\"1026\"},{\"id\":\"1027\"}]},\"id\":\"1029\",\"type\":\"Toolbar\"},{\"attributes\":{\"line_alpha\":0.1,\"line_color\":\"#1f77b3\",\"line_width\":2,\"x\":{\"field\":\"k\"},\"y\":{\"field\":\"inertia\"}},\"id\":\"1040\",\"type\":\"Line\"},{\"attributes\":{},\"id\":\"1024\",\"type\":\"PanTool\"},{\"attributes\":{\"line_alpha\":0.2,\"line_color\":\"#1f77b3\",\"line_width\":2,\"x\":{\"field\":\"k\"},\"y\":{\"field\":\"inertia\"}},\"id\":\"1041\",\"type\":\"Line\"},{\"attributes\":{\"callback\":null,\"renderers\":[{\"id\":\"1042\"}],\"tags\":[\"hv_created\"],\"tooltips\":[[\"k\",\"@{k}\"],[\"inertia\",\"@{inertia}\"]]},\"id\":\"1005\",\"type\":\"HoverTool\"},{\"attributes\":{\"end\":9.0,\"reset_end\":9.0,\"reset_start\":1.0,\"start\":1.0,\"tags\":[[[\"k\",\"k\",null]]]},\"id\":\"1003\",\"type\":\"Range1d\"},{\"attributes\":{},\"id\":\"1025\",\"type\":\"WheelZoomTool\"}],\"root_ids\":[\"1001\"]},\"title\":\"Bokeh Application\",\"version\":\"2.2.1\"}};\n",
       "  var render_items = [{\"docid\":\"fb1dfe56-a184-4dcf-baf8-ab09a40122d4\",\"root_ids\":[\"1001\"],\"roots\":{\"1001\":\"d8127881-1a63-412f-949f-f5add48f8f5a\"}}];\n",
       "  root.Bokeh.embed.embed_items_notebook(docs_json, render_items);\n",
       "  }\n",
       "if (root.Bokeh !== undefined) {\n",
       "    embed_document(root);\n",
       "  } else {\n",
       "    var attempts = 0;\n",
       "    var timer = setInterval(function(root) {\n",
       "      if (root.Bokeh !== undefined) {\n",
       "        clearInterval(timer);\n",
       "        embed_document(root);\n",
       "      } else if (document.readyState == \"complete\") {\n",
       "        attempts++;\n",
       "        if (attempts > 100) {\n",
       "          clearInterval(timer);\n",
       "          console.log(\"Bokeh: ERROR: Unable to run BokehJS code because BokehJS library is missing\");\n",
       "        }\n",
       "      }\n",
       "    }, 10, root)\n",
       "  }\n",
       "})(window);</script>"
      ],
      "text/plain": [
       ":Curve   [k]   (inertia)"
      ]
     },
     "execution_count": 10,
     "metadata": {
      "application/vnd.holoviews_exec.v0+json": {
       "id": "1001"
      }
     },
     "output_type": "execute_result"
    }
   ],
   "source": [
    "#Create an elbow curve to find the best value for K, and use the pcs_df DataFrame.\n",
    "# Find the best value for K\n",
    "inertia = []\n",
    "k = list(range(1,10))\n",
    "\n",
    "#Calculate the intertia for the range of K values\n",
    "for i in k:\n",
    "    km = KMeans(n_clusters = i,random_state = 0)\n",
    "    km.fit(pcs_df)\n",
    "    inertia.append(km.inertia_)\n",
    "    \n",
    "# Craete the elbow curve\n",
    "elbow_data = {\"k\": k, \"inertia\": inertia}\n",
    "df_elbow = pd.DataFrame(elbow_data)\n",
    "df_elbow.hvplot.line(x = \"k\", y = \"inertia\",xticks = k, title = \"K Means Elbow Curve\")\n",
    "\n",
    "\n",
    "# I like 5 means cluster~!"
   ]
  },
  {
   "cell_type": "code",
   "execution_count": 11,
   "metadata": {
    "scrolled": true
   },
   "outputs": [
    {
     "name": "stdout",
     "output_type": "stream",
     "text": [
      "[0 0 4 0 3 0 0 3 3 3 1 3 0 1 0 0 0 0 0 0 3 4 0 0 0 0 0 3 0 0 0 0 0 0 1 3 3\n",
      " 0 0 0 0 0 1 0 0 3 0 0 0 0 1 0 0 0 0 0 0 0 0 3 1 0 0 1 0 0 0 0 0 3 0 0 0 0\n",
      " 0 0 1 0 0 1 0 1 0 0 0 0 0 0 0 0 0 3 0 0 1 0 0 0 4 3 1 3 0 0 3 0 1 0 0 0 1\n",
      " 0 0 0 0 0 1 3 0 0 0 0 3 0 0 0 0 0 0 3 0 0 0 1 0 0 1 3 0 3 0 0 0 0 3 0 3 0\n",
      " 0 0 0 0 3 0 1 0 3 0 0 0 1 0 1 1 0 0 0 0 0 3 0 0 1 0 0 0 1 0 1 3 0 0 3 0 0\n",
      " 0 0 3 0 0 1 0 0 0 0 1 0 0 3 1 1 0 1 0 3 3 1 0 0 0 0 0 1 0 0 0 1 0 0 0 0 0\n",
      " 0 0 3 0 1 0 0 1 0 0 3 3 0 0 0 0 0 0 3 1 0 0 1 0 3 0 0 3 1 3 0 3 0 0 1 0 3\n",
      " 1 0 0 0 0 1 0 0 1 0 1 0 0 1 0 1 3 3 3 3 3 3 3 0 3 0 0 0 0 0 0 0 3 0 0 4 3\n",
      " 1 0 0 0 0 1 0 0 1 0 0 0 0 0 0 0 3 1 1 0 3 3 0 0 3 1 3 0 0 3 0 3 0 0 0 1 0\n",
      " 1 0 3 3 3 0 1 3 0 3 0 3 3 3 1 1 0 3 0 0 0 0 3 0 3 1 3 0 0 0 1 0 0 3 1 3 0\n",
      " 4 0 0 3 0 3 3 1 1 0 0 0 0 3 1 0 0 1 1 3 3 0 3 3 0 0 3 1 3 1 1 0 1 0 0 1 3\n",
      " 1 0 3 3 1 0 1 3 3 3 3 0 1 3 0 3 0 1 1 1 1 3 0 3 0 0 1 0 1 3 1 0 0 3 3 0 4\n",
      " 1 0 1 1 0 3 1 0 0 0 0 1 3 1 3 0 0 1 3 0 3 3 3 3 0 0 3 0 3 1 0 0 1 0 0 0 0\n",
      " 0 0 0 0 1 0 0 0 3 0 3 0 1 0 0 0 0 0 0 0 0 0 0 3 0 0 1 0 0 0 0 1 1 0 3 1 3\n",
      " 0 3 1 3 1 1 1 1 2 1 1 0 3 3 1]\n"
     ]
    }
   ],
   "source": [
    "#Once you define the best value for K, run the K-means algorithm to predict the K clusters for the cryptocurrencies’ data. Use the pcs_df to run the K-means algorithm.\n",
    "#Initalize the model with K = 5\n",
    "\n",
    "model = KMeans(n_clusters = 5, random_state = 0)\n",
    "\n",
    "#Fit the model\n",
    "model.fit(pcs_df)\n",
    "\n",
    "#get predictions\n",
    "predictions = model.predict(pcs_df)\n",
    "print(predictions)"
   ]
  },
  {
   "cell_type": "code",
   "execution_count": 12,
   "metadata": {},
   "outputs": [
    {
     "data": {
      "text/html": [
       "<div>\n",
       "<style scoped>\n",
       "    .dataframe tbody tr th:only-of-type {\n",
       "        vertical-align: middle;\n",
       "    }\n",
       "\n",
       "    .dataframe tbody tr th {\n",
       "        vertical-align: top;\n",
       "    }\n",
       "\n",
       "    .dataframe thead th {\n",
       "        text-align: right;\n",
       "    }\n",
       "</style>\n",
       "<table border=\"1\" class=\"dataframe\">\n",
       "  <thead>\n",
       "    <tr style=\"text-align: right;\">\n",
       "      <th></th>\n",
       "      <th>Algorithm</th>\n",
       "      <th>ProofType</th>\n",
       "      <th>TotalCoinsMined</th>\n",
       "      <th>TotalCoinSupply</th>\n",
       "      <th>PC 1</th>\n",
       "      <th>PC 2</th>\n",
       "      <th>PC 3</th>\n",
       "      <th>CoinName</th>\n",
       "      <th>class</th>\n",
       "    </tr>\n",
       "  </thead>\n",
       "  <tbody>\n",
       "    <tr>\n",
       "      <th>42</th>\n",
       "      <td>Scrypt</td>\n",
       "      <td>PoW/PoS</td>\n",
       "      <td>4.199995e+01</td>\n",
       "      <td>42</td>\n",
       "      <td>-0.412665</td>\n",
       "      <td>0.823150</td>\n",
       "      <td>0.357227</td>\n",
       "      <td>42 Coin</td>\n",
       "      <td>0</td>\n",
       "    </tr>\n",
       "    <tr>\n",
       "      <th>404</th>\n",
       "      <td>Scrypt</td>\n",
       "      <td>PoW/PoS</td>\n",
       "      <td>1.055185e+09</td>\n",
       "      <td>532000000</td>\n",
       "      <td>-0.391306</td>\n",
       "      <td>0.827873</td>\n",
       "      <td>0.358336</td>\n",
       "      <td>404Coin</td>\n",
       "      <td>0</td>\n",
       "    </tr>\n",
       "    <tr>\n",
       "      <th>1337</th>\n",
       "      <td>X13</td>\n",
       "      <td>PoW/PoS</td>\n",
       "      <td>2.927942e+10</td>\n",
       "      <td>314159265359</td>\n",
       "      <td>3.143152</td>\n",
       "      <td>2.186748</td>\n",
       "      <td>0.487273</td>\n",
       "      <td>EliteCoin</td>\n",
       "      <td>4</td>\n",
       "    </tr>\n",
       "    <tr>\n",
       "      <th>BTC</th>\n",
       "      <td>SHA-256</td>\n",
       "      <td>PoW</td>\n",
       "      <td>1.792718e+07</td>\n",
       "      <td>21000000</td>\n",
       "      <td>-0.190301</td>\n",
       "      <td>-0.003829</td>\n",
       "      <td>-0.043688</td>\n",
       "      <td>Bitcoin</td>\n",
       "      <td>0</td>\n",
       "    </tr>\n",
       "    <tr>\n",
       "      <th>ETH</th>\n",
       "      <td>Ethash</td>\n",
       "      <td>PoW</td>\n",
       "      <td>1.076842e+08</td>\n",
       "      <td>0</td>\n",
       "      <td>-0.051013</td>\n",
       "      <td>-1.161387</td>\n",
       "      <td>1.020473</td>\n",
       "      <td>Ethereum</td>\n",
       "      <td>3</td>\n",
       "    </tr>\n",
       "    <tr>\n",
       "      <th>...</th>\n",
       "      <td>...</td>\n",
       "      <td>...</td>\n",
       "      <td>...</td>\n",
       "      <td>...</td>\n",
       "      <td>...</td>\n",
       "      <td>...</td>\n",
       "      <td>...</td>\n",
       "      <td>...</td>\n",
       "      <td>...</td>\n",
       "    </tr>\n",
       "    <tr>\n",
       "      <th>ZEPH</th>\n",
       "      <td>SHA-256</td>\n",
       "      <td>DPoS</td>\n",
       "      <td>2.000000e+09</td>\n",
       "      <td>2000000000</td>\n",
       "      <td>0.560750</td>\n",
       "      <td>-2.082122</td>\n",
       "      <td>-2.376795</td>\n",
       "      <td>ZEPHYR</td>\n",
       "      <td>1</td>\n",
       "    </tr>\n",
       "    <tr>\n",
       "      <th>GAP</th>\n",
       "      <td>Scrypt</td>\n",
       "      <td>PoW/PoS</td>\n",
       "      <td>1.493105e+07</td>\n",
       "      <td>250000000</td>\n",
       "      <td>-0.409905</td>\n",
       "      <td>0.823729</td>\n",
       "      <td>0.357770</td>\n",
       "      <td>Gapcoin</td>\n",
       "      <td>0</td>\n",
       "    </tr>\n",
       "    <tr>\n",
       "      <th>BDX</th>\n",
       "      <td>CryptoNight</td>\n",
       "      <td>PoW</td>\n",
       "      <td>9.802226e+08</td>\n",
       "      <td>1400222610</td>\n",
       "      <td>0.027548</td>\n",
       "      <td>-1.584277</td>\n",
       "      <td>1.417630</td>\n",
       "      <td>Beldex</td>\n",
       "      <td>3</td>\n",
       "    </tr>\n",
       "    <tr>\n",
       "      <th>ZEN</th>\n",
       "      <td>Equihash</td>\n",
       "      <td>PoW</td>\n",
       "      <td>7.296538e+06</td>\n",
       "      <td>21000000</td>\n",
       "      <td>-0.042086</td>\n",
       "      <td>-1.247450</td>\n",
       "      <td>1.099354</td>\n",
       "      <td>Horizen</td>\n",
       "      <td>3</td>\n",
       "    </tr>\n",
       "    <tr>\n",
       "      <th>XBC</th>\n",
       "      <td>Scrypt</td>\n",
       "      <td>PoS</td>\n",
       "      <td>1.283270e+05</td>\n",
       "      <td>1000000</td>\n",
       "      <td>0.097164</td>\n",
       "      <td>-0.696289</td>\n",
       "      <td>-1.342640</td>\n",
       "      <td>BitcoinPlus</td>\n",
       "      <td>1</td>\n",
       "    </tr>\n",
       "  </tbody>\n",
       "</table>\n",
       "<p>533 rows × 9 columns</p>\n",
       "</div>"
      ],
      "text/plain": [
       "        Algorithm ProofType  TotalCoinsMined TotalCoinSupply      PC 1  \\\n",
       "42         Scrypt   PoW/PoS     4.199995e+01              42 -0.412665   \n",
       "404        Scrypt   PoW/PoS     1.055185e+09       532000000 -0.391306   \n",
       "1337          X13   PoW/PoS     2.927942e+10    314159265359  3.143152   \n",
       "BTC       SHA-256       PoW     1.792718e+07        21000000 -0.190301   \n",
       "ETH        Ethash       PoW     1.076842e+08               0 -0.051013   \n",
       "...           ...       ...              ...             ...       ...   \n",
       "ZEPH      SHA-256      DPoS     2.000000e+09      2000000000  0.560750   \n",
       "GAP        Scrypt   PoW/PoS     1.493105e+07       250000000 -0.409905   \n",
       "BDX   CryptoNight       PoW     9.802226e+08      1400222610  0.027548   \n",
       "ZEN      Equihash       PoW     7.296538e+06        21000000 -0.042086   \n",
       "XBC        Scrypt       PoS     1.283270e+05         1000000  0.097164   \n",
       "\n",
       "          PC 2      PC 3     CoinName  class  \n",
       "42    0.823150  0.357227      42 Coin      0  \n",
       "404   0.827873  0.358336      404Coin      0  \n",
       "1337  2.186748  0.487273    EliteCoin      4  \n",
       "BTC  -0.003829 -0.043688      Bitcoin      0  \n",
       "ETH  -1.161387  1.020473     Ethereum      3  \n",
       "...        ...       ...          ...    ...  \n",
       "ZEPH -2.082122 -2.376795       ZEPHYR      1  \n",
       "GAP   0.823729  0.357770      Gapcoin      0  \n",
       "BDX  -1.584277  1.417630       Beldex      3  \n",
       "ZEN  -1.247450  1.099354      Horizen      3  \n",
       "XBC  -0.696289 -1.342640  BitcoinPlus      1  \n",
       "\n",
       "[533 rows x 9 columns]"
      ]
     },
     "execution_count": 12,
     "metadata": {},
     "output_type": "execute_result"
    }
   ],
   "source": [
    "#Create a new DataFrame named “clustered_df,” that includes the following columns: Algorithm, ProofType, TotalCoinsMined, TotalCoinSupply, PC 1, PC 2, PC 3, CoinName, and Class. You should maintain the index of the crypto_df DataFrames as is shown below:\n",
    "clustered_df = df_crypto.join(pcs_df,how = \"inner\").join(coins_name,how = \"inner\")\n",
    "clustered_df['class'] = model.labels_\n",
    "\n",
    "\n",
    "clustered_df\n"
   ]
  },
  {
   "cell_type": "code",
   "execution_count": 18,
   "metadata": {},
   "outputs": [
    {
     "data": {
      "application/vnd.plotly.v1+json": {
       "config": {
        "plotlyServerURL": "https://plot.ly"
       },
       "data": [
        {
         "customdata": [
          [
           "Scrypt",
           "PoW/PoS"
          ],
          [
           "Scrypt",
           "PoW/PoS"
          ],
          [
           "SHA-256",
           "PoW"
          ],
          [
           "Scrypt",
           "PoW"
          ],
          [
           "X11",
           "PoW/PoS"
          ],
          [
           "SHA-256",
           "PoW/PoS"
          ],
          [
           "Scrypt",
           "PoW"
          ],
          [
           "X15",
           "PoW/PoS"
          ],
          [
           "X11",
           "PoW"
          ],
          [
           "Scrypt",
           "PoW"
          ],
          [
           "Scrypt",
           "PoW/PoS"
          ],
          [
           "Scrypt",
           "PoW/PoS"
          ],
          [
           "SHA-256",
           "PoW"
          ],
          [
           "Scrypt",
           "PoW"
          ],
          [
           "Scrypt",
           "PoW"
          ],
          [
           "Scrypt",
           "PoW/PoS"
          ],
          [
           "Quark",
           "PoW"
          ],
          [
           "Scrypt",
           "PoW"
          ],
          [
           "Scrypt",
           "PoW/PoS"
          ],
          [
           "Scrypt",
           "PoW"
          ],
          [
           "Scrypt",
           "PoW/PoS"
          ],
          [
           "Scrypt",
           "PoW"
          ],
          [
           "X11",
           "PoW"
          ],
          [
           "SHA-256",
           "PoW"
          ],
          [
           "Scrypt",
           "PoW"
          ],
          [
           "Scrypt",
           "PoW"
          ],
          [
           "Scrypt",
           "PoW"
          ],
          [
           "Scrypt",
           "PoW"
          ],
          [
           "Scrypt",
           "PoS/PoW/PoT"
          ],
          [
           "Scrypt",
           "PoW"
          ],
          [
           "Scrypt",
           "PoW"
          ],
          [
           "Scrypt",
           "PoW"
          ],
          [
           "Scrypt",
           "PoW"
          ],
          [
           "Scrypt",
           "PoW/PoS"
          ],
          [
           "Scrypt",
           "PoW"
          ],
          [
           "X11",
           "PoW/PoS"
          ],
          [
           "SHA-256",
           "PoW"
          ],
          [
           "Scrypt",
           "PoW"
          ],
          [
           "Scrypt",
           "PoW"
          ],
          [
           "Scrypt",
           "PoW"
          ],
          [
           "SHA3",
           "PoW/PoS"
          ],
          [
           "Scrypt",
           "PoW"
          ],
          [
           "Scrypt",
           "PoW"
          ],
          [
           "SHA-256",
           "PoW/PoS"
          ],
          [
           "X13",
           "PoW/PoS"
          ],
          [
           "Scrypt",
           "PoW"
          ],
          [
           "SHA-256",
           "PoW"
          ],
          [
           "Scrypt",
           "PoW"
          ],
          [
           "X13",
           "PoW/PoS"
          ],
          [
           "Scrypt",
           "PoW/PoS"
          ],
          [
           "Scrypt",
           "PoW/PoS"
          ],
          [
           "Scrypt",
           "PoW/PoS"
          ],
          [
           "Scrypt",
           "PoW"
          ],
          [
           "Scrypt",
           "PoW"
          ],
          [
           "Scrypt",
           "PoW"
          ],
          [
           "X11",
           "PoW/PoS"
          ],
          [
           "SHA-256",
           "PoW"
          ],
          [
           "SHA-256",
           "PoW"
          ],
          [
           "X11",
           "PoW/PoS"
          ],
          [
           "SHA-256",
           "PoW"
          ],
          [
           "SHA-256",
           "PoW"
          ],
          [
           "SHA-256",
           "PoW"
          ],
          [
           "X11",
           "PoW"
          ],
          [
           "Scrypt",
           "PoW/PoS"
          ],
          [
           "Scrypt",
           "PoW/PoS"
          ],
          [
           "Scrypt",
           "PoW"
          ],
          [
           "Scrypt",
           "PoST"
          ],
          [
           "Scrypt",
           "PoW"
          ],
          [
           "X11",
           "PoW/PoS"
          ],
          [
           "SHA-256",
           "PoW"
          ],
          [
           "X13",
           "PoW/PoS"
          ],
          [
           "Scrypt",
           "PoW/PoS"
          ],
          [
           "Scrypt",
           "PoW"
          ],
          [
           "SHA-256",
           "PoW/PoS"
          ],
          [
           "Scrypt",
           "PoW"
          ],
          [
           "Scrypt",
           "PoW"
          ],
          [
           "X13",
           "PoW/PoS"
          ],
          [
           "Scrypt",
           "PoW"
          ],
          [
           "Scrypt",
           "PoW"
          ],
          [
           "Scrypt",
           "PoW/PoS"
          ],
          [
           "X13",
           "PoW/PoS"
          ],
          [
           "Scrypt",
           "PoW"
          ],
          [
           "Stanford Folding",
           "PoW"
          ],
          [
           "QuBit",
           "PoW"
          ],
          [
           "Scrypt",
           "PoW"
          ],
          [
           "Scrypt",
           "PoW/PoS"
          ],
          [
           "Scrypt",
           "PoW"
          ],
          [
           "Scrypt",
           "PoW"
          ],
          [
           "SHA-256",
           "PoW"
          ],
          [
           "Scrypt",
           "PoW"
          ],
          [
           "X11",
           "PoW/PoS"
          ],
          [
           "SHA3",
           "PoW/nPoS"
          ],
          [
           "X11",
           "PoW"
          ],
          [
           "SHA-256",
           "PoW"
          ],
          [
           "QUAIT",
           "PoW/PoS"
          ],
          [
           "X11",
           "PoW"
          ],
          [
           "Scrypt",
           "PoW"
          ],
          [
           "Scrypt",
           "PoW"
          ],
          [
           "X13",
           "PoW/PoS"
          ],
          [
           "SHA-256",
           "PoW/PoS"
          ],
          [
           "X15",
           "PoW/PoS"
          ],
          [
           "X11",
           "PoW"
          ],
          [
           "SHA-256",
           "PoW"
          ],
          [
           "Scrypt",
           "PoW"
          ],
          [
           "SHA-256",
           "PoW/PoS"
          ],
          [
           "X11",
           "PoW/PoS"
          ],
          [
           "Scrypt",
           "PoW"
          ],
          [
           "SHA-256",
           "PoW/PoS"
          ],
          [
           "SHA-256",
           "PoW"
          ],
          [
           "Scrypt",
           "PoW/PoS"
          ],
          [
           "X11",
           "PoW"
          ],
          [
           "Scrypt",
           "PoW"
          ],
          [
           "X11GOST",
           "PoW"
          ],
          [
           "X11",
           "PoW/PoS"
          ],
          [
           "SHA-256",
           "PoW/PoS"
          ],
          [
           "Scrypt",
           "PoW"
          ],
          [
           "X11",
           "PoW"
          ],
          [
           "X11",
           "PoW/PoS"
          ],
          [
           "SHA-256",
           "PoW/PoS"
          ],
          [
           "SHA-256",
           "PoW/PoS"
          ],
          [
           "X11",
           "PoW/PoS"
          ],
          [
           "Scrypt",
           "PoW"
          ],
          [
           "Scrypt",
           "PoW/PoS"
          ],
          [
           "Scrypt",
           "PoW/PoS"
          ],
          [
           "Scrypt",
           "PoW/PoS"
          ],
          [
           "X11",
           "PoW"
          ],
          [
           "X11",
           "PoW/PoS"
          ],
          [
           "Scrypt",
           "PoW/PoS"
          ],
          [
           "SHA-256",
           "PoW/PoS"
          ],
          [
           "SHA-256",
           "PoW"
          ],
          [
           "X11",
           "PoW/PoS"
          ],
          [
           "Scrypt",
           "PoW/PoS"
          ],
          [
           "Scrypt",
           "PoW/PoS"
          ],
          [
           "Scrypt",
           "PoW"
          ],
          [
           "SHA-256",
           "PoW"
          ],
          [
           "Scrypt",
           "PoW/PoW"
          ],
          [
           "Scrypt",
           "PoW"
          ],
          [
           "SHA-256D",
           "PoW/PoS"
          ],
          [
           "Scrypt",
           "PoW/PoS"
          ],
          [
           "X11",
           "PoW/PoS"
          ],
          [
           "X14",
           "PoW/PoS"
          ],
          [
           "SHA-256D",
           "PoW/PoS"
          ],
          [
           "X11",
           "PoW/PoS"
          ],
          [
           "Scrypt",
           "PoW"
          ],
          [
           "X11",
           "PoW"
          ],
          [
           "X13",
           "PoW/PoS"
          ],
          [
           "X11",
           "PoW/PoS"
          ],
          [
           "Scrypt",
           "PoW/PoS"
          ],
          [
           "Scrypt",
           "PoW/PoS"
          ],
          [
           "X11",
           "PoW"
          ],
          [
           "X11",
           "PoW/PoS"
          ],
          [
           "SHA-256",
           "PoW/PoS"
          ],
          [
           "Scrypt",
           "PoW/PoS"
          ],
          [
           "X11",
           "TPoS"
          ],
          [
           "Scrypt",
           "PoW/PoS"
          ],
          [
           "Scrypt",
           "PoW/PoS"
          ],
          [
           "X11",
           "PoW/PoS"
          ],
          [
           "Scrypt",
           "PoW/PoS"
          ],
          [
           "Scrypt",
           "PoW/PoS"
          ],
          [
           "Scrypt",
           "PoW/PoS"
          ],
          [
           "QuBit",
           "PoW/PoS"
          ],
          [
           "Scrypt",
           "PoW"
          ],
          [
           "Scrypt",
           "PoW/PoS"
          ],
          [
           "SHA-256",
           "PoW/PoS"
          ],
          [
           "X11",
           "PoW/PoS"
          ],
          [
           "Scrypt",
           "PoW/PoS"
          ],
          [
           "X11",
           "PoW"
          ],
          [
           "Scrypt",
           "PoW/PoS"
          ],
          [
           "Scrypt",
           "PoW/PoS "
          ],
          [
           "Scrypt",
           "PoW"
          ],
          [
           "X11",
           "PoW"
          ],
          [
           "Scrypt",
           "PoW/PoS"
          ],
          [
           "Scrypt",
           "PoW"
          ],
          [
           "X11",
           "PoW/PoS"
          ],
          [
           "X11",
           "PoW/PoS"
          ],
          [
           "Scrypt",
           "PoW"
          ],
          [
           "X11",
           "PoW/PoS"
          ],
          [
           "X11",
           "PoW/PoS"
          ],
          [
           "Scrypt",
           "PoW/PoS"
          ],
          [
           "Scrypt",
           "PoW/PoS"
          ],
          [
           "Scrypt",
           "PoW/PoS"
          ],
          [
           "X11",
           "PoW/PoS"
          ],
          [
           "Scrypt",
           "PoW"
          ],
          [
           "SHA-256",
           "PoW"
          ],
          [
           "Scrypt",
           "PoW/PoS"
          ],
          [
           "X15",
           "PoW/PoS"
          ],
          [
           "Scrypt",
           "PoW"
          ],
          [
           "X11",
           "PoW"
          ],
          [
           "Skein",
           "PoW/PoS"
          ],
          [
           "Scrypt",
           "PoW"
          ],
          [
           "X13",
           "PoW/PoS"
          ],
          [
           "Scrypt",
           "PoW"
          ],
          [
           "X11",
           "PoW"
          ],
          [
           "X11",
           "PoW"
          ],
          [
           "Scrypt",
           "PoW/PoS"
          ],
          [
           "X13",
           "PoW/PoS"
          ],
          [
           "Time Travel",
           "PoW"
          ],
          [
           "X11",
           "PoW"
          ],
          [
           "Skein",
           "PoW/PoS"
          ],
          [
           "SHA-256",
           "PoW"
          ],
          [
           "X11",
           "PoW/PoS"
          ],
          [
           "VeChainThor Authority",
           "Proof of Authority"
          ],
          [
           "Scrypt",
           "PoW"
          ],
          [
           "Scrypt",
           "PoW"
          ],
          [
           "Scrypt",
           "PoW"
          ],
          [
           "Scrypt",
           "PoW"
          ],
          [
           "Scrypt",
           "PoW"
          ],
          [
           "Scrypt",
           "PoW"
          ],
          [
           "Scrypt",
           "PoW/PoS"
          ],
          [
           "Scrypt",
           "PoW/PoS"
          ],
          [
           "X11",
           "PoW/PoS"
          ],
          [
           "X11",
           "PoW"
          ],
          [
           "Scrypt",
           "PoW/PoS"
          ],
          [
           "Scrypt",
           "PoW/PoS"
          ],
          [
           "SHA-256",
           "PoW/PoS"
          ],
          [
           "PHI1612",
           "PoW/PoS"
          ],
          [
           "Scrypt",
           "PoW/PoS"
          ],
          [
           "Quark",
           "PoW/PoS"
          ],
          [
           "Scrypt",
           "PoW"
          ],
          [
           "Scrypt",
           "PoW/PoS"
          ],
          [
           "X11",
           "PoW"
          ],
          [
           "X11",
           "PoW/PoS"
          ],
          [
           "X13",
           "PoW/PoS"
          ],
          [
           "Scrypt",
           "PoW/PoS"
          ],
          [
           "X11",
           "PoW"
          ],
          [
           "Scrypt",
           "PoW/PoS"
          ],
          [
           "Scrypt",
           "PoW/PoS"
          ],
          [
           "Scrypt",
           "PoW"
          ],
          [
           "X11",
           "PoW/PoS"
          ],
          [
           "X11",
           "PoW"
          ],
          [
           "Scrypt",
           "PoW"
          ],
          [
           "Scrypt",
           "PoW/PoS"
          ],
          [
           "Scrypt",
           "PoW/PoS"
          ],
          [
           "X11",
           "PoW"
          ],
          [
           "SHA-256",
           "PoW"
          ],
          [
           "Scrypt",
           "PoW and PoS"
          ],
          [
           "SkunkHash",
           "PoW"
          ],
          [
           "Scrypt",
           "PoW/PoS"
          ],
          [
           "Scrypt",
           "PoW"
          ],
          [
           "SHA-256 + Hive",
           "PoW + Hive"
          ],
          [
           "Scrypt",
           "PoW"
          ],
          [
           "Scrypt",
           "PoW"
          ],
          [
           "X11",
           "PoW"
          ],
          [
           "X11",
           "PoW/PoS"
          ],
          [
           "XEVAN",
           "PoW/PoS"
          ],
          [
           "Scrypt",
           "PoW"
          ],
          [
           "Scrypt",
           "PoW/PoS"
          ],
          [
           "Scrypt",
           "PoW/PoS"
          ],
          [
           "Scrypt",
           "PoW/PoS"
          ],
          [
           "X11",
           "PoW"
          ],
          [
           "Quark",
           "PoW/PoS"
          ],
          [
           "Scrypt",
           "PoW/PoS"
          ],
          [
           "Tribus",
           "PoW"
          ],
          [
           "Scrypt",
           "PoW/PoS"
          ],
          [
           "SHA-256D",
           "PoW/PoS"
          ],
          [
           "Scrypt",
           "PoW/PoS"
          ],
          [
           "X16R",
           "PoW"
          ],
          [
           "X11",
           "PoW"
          ],
          [
           "X16R",
           "PoW/PoS"
          ],
          [
           "Quark",
           "PoW/PoS"
          ],
          [
           "Scrypt",
           "PoW"
          ],
          [
           "Scrypt",
           "PoW/PoS"
          ],
          [
           "XEVAN",
           "PoW"
          ],
          [
           "X11",
           "PoW/PoS"
          ],
          [
           "SHA-256",
           "PoW"
          ],
          [
           "X11",
           "PoW"
          ],
          [
           "Scrypt",
           "PoW/PoS"
          ],
          [
           "SHA-512",
           "Zero-Knowledge Proof"
          ],
          [
           "X16R",
           "PoW"
          ],
          [
           "SHA-256",
           "PoW"
          ],
          [
           "XEVAN",
           "Pos"
          ],
          [
           "Quark",
           "PoW/PoS"
          ],
          [
           "Scrypt",
           "PoW"
          ],
          [
           "Scrypt",
           "PoW/PoS"
          ],
          [
           "Quark",
           "PoW/PoS"
          ],
          [
           "Scrypt",
           "PoW/PoS"
          ],
          [
           "QuBit",
           "PoW"
          ],
          [
           "Scrypt",
           "PoW/PoS"
          ],
          [
           "XEVAN",
           "PoW/PoS"
          ],
          [
           "SHA-256D",
           "PoW/PoS"
          ],
          [
           "X11",
           "PoW/PoS"
          ],
          [
           "SHA-256",
           "PoW"
          ],
          [
           "X13",
           "PoW"
          ],
          [
           "SHA-256",
           "PoW"
          ],
          [
           "X11",
           "PoW/PoS"
          ],
          [
           "Scrypt",
           "PoW/PoS"
          ],
          [
           "Scrypt",
           "PoW"
          ],
          [
           "X11",
           "PoW/PoS"
          ],
          [
           "Scrypt",
           "PoW/PoS"
          ],
          [
           "Scrypt",
           "PoW/PoS"
          ],
          [
           "Scrypt",
           "PoW/PoS"
          ],
          [
           "X11",
           "PoW/PoS"
          ],
          [
           "Scrypt",
           "PoW"
          ],
          [
           "Scrypt",
           "PoW/PoS"
          ],
          [
           "SHA-256",
           "PoW/PoS"
          ],
          [
           "X11",
           "PoW/PoS"
          ],
          [
           "SHA-256",
           "PoW"
          ],
          [
           "Scrypt",
           "PoW/PoS"
          ],
          [
           "Scrypt",
           "PoW"
          ],
          [
           "Scrypt",
           "PoW/PoS"
          ],
          [
           "X11",
           "PoW/PoS"
          ],
          [
           "Scrypt",
           "PoW/PoS"
          ],
          [
           "Scrypt",
           "PoW"
          ],
          [
           "Scrypt",
           "PoW"
          ],
          [
           "X11",
           "Proof of Trust"
          ],
          [
           "SHA-256",
           "PoW/PoS"
          ],
          [
           "Scrypt",
           "PoW/PoS"
          ],
          [
           "X13",
           "PoW/PoS"
          ],
          [
           "Scrypt",
           "PoW/PoS"
          ]
         ],
         "hovertemplate": "<b>%{hovertext}</b><br><br>class=%{marker.color}<br>PC 1=%{x}<br>PC 2=%{y}<br>PC 3=%{z}<br>Algorithm=%{customdata[0]}<br>ProofType=%{customdata[1]}<extra></extra>",
         "hovertext": [
          "42 Coin",
          "404Coin",
          "Bitcoin",
          "Litecoin",
          "Dash",
          "BitcoinDark",
          "ProsperCoin",
          "KoboCoin",
          "Spreadcoin",
          "Argentum",
          "Aurora Coin",
          "BlueCoin",
          "ZetaCoin",
          "SexCoin",
          "Quatloo",
          "EnergyCoin",
          "QuarkCoin",
          "Digitalcoin ",
          "BitBar",
          "Catcoin",
          "CryptoBullion",
          "CannaCoin",
          "CryptCoin",
          "DevCoin",
          "EarthCoin",
          "E-Gulden",
          "Einsteinium",
          "Emerald",
          "FlutterCoin",
          "Franko",
          "GrandCoin",
          "GlobalCoin",
          "GoldCoin",
          "HoboNickels",
          "Infinite Coin",
          "IOCoin",
          "IXcoin",
          "KrugerCoin",
          "LuckyCoin",
          "Litebar ",
          "MaxCoin",
          "MegaCoin",
          "MinCoin",
          "MazaCoin",
          "NavCoin",
          "NobleCoin",
          "Namecoin",
          "NyanCoin",
          "OpalCoin",
          "PotCoin",
          "PhoenixCoin",
          "Reddcoin",
          "RonPaulCoin",
          "StableCoin",
          "SmartCoin",
          "SyncCoin",
          "SysCoin",
          "TigerCoin",
          "TorCoin",
          "TerraCoin",
          "UnbreakableCoin",
          "Unobtanium",
          "UroCoin",
          "UnitaryStatus Dollar",
          "UltraCoin",
          "ViaCoin",
          "VeriCoin",
          "WorldCoin",
          "X11 Coin",
          "JouleCoin",
          "StealthCoin",
          "ZCC Coin",
          "MonaCoin",
          "Neutron",
          "Gulden",
          "PesetaCoin",
          "Kore",
          "Wild Beast Coin",
          "Flo",
          "8BIT Coin",
          "Sativa Coin",
          "ArtByte",
          "Folding Coin",
          "CypherPunkCoin",
          "OmniCron",
          "Vtorrent",
          "GreenCoin",
          "MasterCoin",
          "SoonCoin",
          "1Credit",
          "IslaCoin",
          "Nexus",
          "MarsCoin ",
          "Anarchists Prime",
          "Droidz",
          "BowsCoin",
          "Song Coin",
          "BitZeny",
          "Paycon",
          "Emercoin",
          "EverGreenCoin",
          "MindCoin",
          "I0coin",
          "Revolution VR",
          "EDRCoin",
          "Hitcoin",
          "Gamecredits",
          "DubaiCoin",
          "CarpeDiemCoin",
          "BillaryCoin",
          "Adzcoin",
          "YoCoin",
          "SibCoin",
          "EuropeCoin",
          "SwingCoin",
          "Francs",
          "BolivarCoin",
          "Ratecoin",
          "Revenu",
          "Clockcoin",
          "BitSend",
          "Omni",
          "PutinCoin",
          "iBankCoin",
          "Frankywillcoin",
          "PizzaCoin",
          "GoldBlocks",
          "CarterCoin",
          "BitTokens",
          "ZayedCoin",
          "MustangCoin",
          "ZoneCoin",
          "RootCoin",
          "DopeCoin",
          "DollarCoin",
          "Swiscoin",
          "Shilling",
          "BuzzCoin",
          "PesoBit",
          "Halloween Coin",
          "GanjaCoin V2",
          "LanaCoin",
          "InsaneCoin",
          "KiloCoin",
          "ArtexCoin",
          "EmberCoin",
          "XenixCoin",
          "PLNCoin",
          "AquariusCoin",
          "Kurrent",
          "Eternity",
          "Eurocoin",
          "BitcoinFast",
          "Stakenet",
          "BitConnect Coin",
          "MoneyCoin",
          "Enigma",
          "Russiacoin",
          "GameUnits",
          "GAKHcoin",
          "LiteCreed",
          "OsmiumCoin",
          "Klingon Empire Darsek",
          "Internet of People",
          "KushCoin",
          "Printerium",
          "PacCoin",
          "Impeach",
          "FirstCoin",
          "BeaverCoin",
          "VaultCoin",
          "OpenChat",
          "Canada eCoin",
          "VirtacoinPlus",
          "Impact",
          "EB3coin",
          "HappyCoin",
          "Condensate",
          "Independent Money System",
          "ArgusCoin",
          "LomoCoin",
          "GoldReserve",
          "BenjiRolls",
          "ILCoin",
          "Degas Coin",
          "HTML5 Coin",
          "EquiTrader",
          "DigitalPrice",
          "Bitcoin Planet",
          "Unify",
          "BritCoin",
          "SocialCoin",
          "ArcticCoin",
          "DAS",
          "Linda",
          "DeepOnion",
          "Bitcore",
          "Onix",
          "Cream",
          "Bitcoin Cash",
          "Monoeci",
          "Vechain",
          "Sojourn Coin",
          "NewYorkCoin",
          "FrazCoin",
          "Kronecoin",
          "AdCoin",
          "Linx",
          "CoinonatX",
          "Ethereum Dark",
          "Regalcoin",
          "Elements",
          "TerraNovaCoin",
          "WomenCoin",
          "Theresa May Coin",
          "LUXCoin",
          "Xios",
          "Bitcloud 2.0",
          "eBoost",
          "BlackholeCoin",
          "Pura",
          "Magnet",
          "Bitcoin Diamond",
          "Cash & Back Coin",
          "AC3",
          "GermanCoin",
          "LiteCoin Ultra",
          "PopularCoin",
          "PhantomX",
          "Sucre",
          "IrishCoin",
          "Trollcoin",
          "Litecoin Plus",
          "Pioneer Coin",
          "UnitedBitcoin",
          "My Big Coin",
          "MUNcoin",
          "Unified Society USDEX",
          "ShareChain",
          "LitecoinCash",
          "BitFlip",
          "LottoCoin",
          "Crypto Improvement Fund",
          "Pushi",
          "Ellerium",
          "Poseidon",
          "Briacoin",
          "Ignition",
          "Abjcoin",
          "FuturoCoin",
          "Carebit",
          "iDealCash",
          "KEYCO",
          "Swisscoin",
          "TheVig",
          "EmaratCoin",
          "Motion",
          "Axe",
          "Trivechain",
          "Giant",
          "HexCoin",
          "TPCash",
          "Urals Coin",
          "EUNO",
          "Project Pai",
          "Azart",
          "ThunderStake",
          "Kcash",
          "Xchange",
          "Bitcoin SV",
          "BitMoney",
          "HerbCoin",
          "Block-Logic",
          "Oduwa",
          "Galilel",
          "Credit",
          "SLICE",
          "Nasdacoin",
          "Beetle Coin",
          "Titan Coin",
          "Award",
          "BLAST",
          "Bitcoin Rhodium",
          "GlobalToken",
          "Insane Coin",
          "LiteDoge",
          "SolarCoin",
          "TruckCoin",
          "OrangeCoin",
          "BitstarCoin",
          "HyperCoin",
          "PinkCoin",
          "Crypto Escudo",
          "AudioCoin",
          "IncaKoin",
          "Piggy Coin",
          "Crown Coin",
          "Genstake",
          "SmileyCoin",
          "XiaoMiCoin",
          "CapriCoin",
          " ClubCoin",
          "Bata",
          "Pakcoin",
          "Creditbit ",
          "OKCash",
          "WhiteCoin",
          "Triangles Coin",
          "Gapcoin"
         ],
         "legendgroup": "0",
         "marker": {
          "color": [
           0,
           0,
           0,
           0,
           0,
           0,
           0,
           0,
           0,
           0,
           0,
           0,
           0,
           0,
           0,
           0,
           0,
           0,
           0,
           0,
           0,
           0,
           0,
           0,
           0,
           0,
           0,
           0,
           0,
           0,
           0,
           0,
           0,
           0,
           0,
           0,
           0,
           0,
           0,
           0,
           0,
           0,
           0,
           0,
           0,
           0,
           0,
           0,
           0,
           0,
           0,
           0,
           0,
           0,
           0,
           0,
           0,
           0,
           0,
           0,
           0,
           0,
           0,
           0,
           0,
           0,
           0,
           0,
           0,
           0,
           0,
           0,
           0,
           0,
           0,
           0,
           0,
           0,
           0,
           0,
           0,
           0,
           0,
           0,
           0,
           0,
           0,
           0,
           0,
           0,
           0,
           0,
           0,
           0,
           0,
           0,
           0,
           0,
           0,
           0,
           0,
           0,
           0,
           0,
           0,
           0,
           0,
           0,
           0,
           0,
           0,
           0,
           0,
           0,
           0,
           0,
           0,
           0,
           0,
           0,
           0,
           0,
           0,
           0,
           0,
           0,
           0,
           0,
           0,
           0,
           0,
           0,
           0,
           0,
           0,
           0,
           0,
           0,
           0,
           0,
           0,
           0,
           0,
           0,
           0,
           0,
           0,
           0,
           0,
           0,
           0,
           0,
           0,
           0,
           0,
           0,
           0,
           0,
           0,
           0,
           0,
           0,
           0,
           0,
           0,
           0,
           0,
           0,
           0,
           0,
           0,
           0,
           0,
           0,
           0,
           0,
           0,
           0,
           0,
           0,
           0,
           0,
           0,
           0,
           0,
           0,
           0,
           0,
           0,
           0,
           0,
           0,
           0,
           0,
           0,
           0,
           0,
           0,
           0,
           0,
           0,
           0,
           0,
           0,
           0,
           0,
           0,
           0,
           0,
           0,
           0,
           0,
           0,
           0,
           0,
           0,
           0,
           0,
           0,
           0,
           0,
           0,
           0,
           0,
           0,
           0,
           0,
           0,
           0,
           0,
           0,
           0,
           0,
           0,
           0,
           0,
           0,
           0,
           0,
           0,
           0,
           0,
           0,
           0,
           0,
           0,
           0,
           0,
           0,
           0,
           0,
           0,
           0,
           0,
           0,
           0,
           0,
           0,
           0,
           0,
           0,
           0,
           0,
           0,
           0,
           0,
           0,
           0,
           0,
           0,
           0,
           0,
           0,
           0,
           0,
           0,
           0,
           0,
           0,
           0,
           0,
           0,
           0,
           0,
           0,
           0,
           0,
           0,
           0,
           0,
           0,
           0,
           0,
           0,
           0,
           0,
           0,
           0,
           0,
           0,
           0,
           0,
           0,
           0,
           0,
           0,
           0,
           0,
           0
          ],
          "coloraxis": "coloraxis",
          "symbol": "circle"
         },
         "mode": "markers",
         "name": "0",
         "scene": "scene",
         "showlegend": true,
         "type": "scatter3d",
         "x": [
          -0.41266542545356133,
          -0.3913055807210595,
          -0.19030134717362865,
          -0.21967866006234657,
          -0.47370285277092583,
          -0.38172438302718925,
          -0.22118388243616563,
          -0.4905940203953469,
          -0.2825096723507889,
          -0.2206506116454245,
          -0.4122210307693851,
          -0.4030499948813657,
          -0.18648881870234674,
          -0.21699880513799213,
          -0.22035906975890882,
          -0.41080320202048554,
          -0.17923772120323636,
          -0.2204897405033107,
          -0.41265971408708174,
          -0.22116191566865323,
          -0.41263956607542107,
          -0.22127966029038157,
          -0.2826230500472359,
          0.30616663017038737,
          0.10509898951177393,
          -0.2209547464390162,
          -0.21513323566498946,
          -0.22086464063075723,
          -0.08704121317342216,
          -0.22135284990493626,
          -0.1937055760167859,
          -0.21978071632179136,
          -0.22012134184536658,
          -0.4100982671179468,
          2.0677790811280112,
          -0.47357241801240013,
          -0.19025349617542014,
          -0.21650191841890884,
          -0.22098885463840975,
          -0.22145363541813964,
          -0.4004891412982646,
          -0.22048098211040787,
          -0.22129483750537457,
          -0.33302431008389555,
          -0.4832953110042869,
          -0.033636924029758104,
          -0.19034963097105945,
          -0.21300320605896597,
          -0.4840660106433887,
          -0.4050386000360263,
          -0.41055290384854876,
          0.03094683281449624,
          -0.2212544618403156,
          -0.21858354797893143,
          -0.22057776456597575,
          -0.474062485656574,
          -0.1732599547025812,
          -0.18965015177232622,
          -0.47393948435186356,
          -0.1900127009395685,
          -0.18994011705182723,
          -0.19077991271797898,
          -0.2828628482719445,
          -0.3798178087883043,
          -0.41089163133140044,
          -0.22090057140120448,
          -0.15727234524316996,
          -0.2169837419049749,
          -0.4739015823495346,
          -0.18973623576666118,
          -0.4837945769293499,
          -0.4002897885115569,
          -0.2193865698477867,
          -0.3806856194986756,
          -0.19817480882171667,
          -0.217716548347734,
          -0.4841431224397654,
          -0.22145463977080712,
          -0.21755803101310373,
          -0.4126432146893404,
          -0.4840866079193158,
          -0.19935490717397356,
          -0.23115992918260803,
          -0.18045631771255727,
          -0.2212964157148555,
          -0.4122870961844827,
          -0.05035688736526317,
          -0.2214683772842535,
          -0.19038403851559713,
          0.711048053827157,
          -0.47403960776486065,
          -0.5918600699058452,
          -0.2820590360672467,
          -0.1900174055056407,
          -0.36643666779190787,
          -0.2824282008699561,
          -0.21886020686112437,
          -0.2178057575450487,
          -0.4834398634275657,
          -0.37117908499433744,
          -0.4940568988338251,
          -0.28247882351606535,
          -0.19025488641306038,
          -0.21617764260979558,
          -0.3816883555711792,
          -0.03854660498626974,
          -0.21957580791762668,
          -0.38178283899917764,
          0.357398895841714,
          -0.41210353418013923,
          -0.2813470531213934,
          -0.21976795633720755,
          -0.2874930382495191,
          -0.47001272530866517,
          -0.38149519946136373,
          -0.22118187499639905,
          -0.2824210947531472,
          -0.4712661711952578,
          -0.37969120592402683,
          -0.37639322901299693,
          -0.47228453866049136,
          -0.22146845384785127,
          -0.38008905333791226,
          -0.41214756107711586,
          -0.4101385751038666,
          -0.2826068614988974,
          -0.4733201860576748,
          -0.41109997443219826,
          -0.38174501247432396,
          -0.19059231722390454,
          -0.47402215343485765,
          -0.4124134950638018,
          -0.41263607151252296,
          -0.21768865156459108,
          -0.19053984944974114,
          -0.49863144501736417,
          -0.22101168527405493,
          0.10678149716198597,
          -0.412158146726991,
          -0.45485301134127754,
          -0.48688493396470195,
          -0.29974176429392924,
          -0.4734808583512462,
          -0.11715155076958222,
          -0.26534399206606035,
          0.9194108136180158,
          -0.47396514576147125,
          -0.41201617209013325,
          -0.4122026381896909,
          -0.27964147180281174,
          -0.4733624960893342,
          -0.38157626774640463,
          -0.41202459294179905,
          -0.9182331609573434,
          -0.4122139358789869,
          -0.4059050454835131,
          -0.4739995047301375,
          -0.4110790365937653,
          -0.41248110160898915,
          -0.4125816414537074,
          -0.37047752977565007,
          -0.22144298933791404,
          -0.4072346731693908,
          -0.38171579728736377,
          -0.4738820643419339,
          -0.41228381238235146,
          0.7388650416411314,
          -0.41243844232129423,
          -0.4736130219434365,
          -0.2214028318773185,
          -0.2722851104419977,
          -0.38739691240511687,
          -0.21895954875582163,
          -0.4728497104198744,
          -0.47127343782686826,
          -0.1799692940271899,
          -0.47272322590063426,
          -0.4671533323355328,
          -0.41236917175804344,
          -0.4123581542910745,
          -0.40252165656040634,
          -0.4733972227706527,
          -0.22081716433523482,
          -0.14550441344949736,
          -0.41127791767121913,
          1.032995040193796,
          -0.22054731367015143,
          -0.2813357634078867,
          -0.4268981121898296,
          -0.22101423986577948,
          -0.48366943996978484,
          -0.22064561491297677,
          -0.2818788642946304,
          -0.28264985308483803,
          0.2310154652187098,
          -0.483772150452247,
          -0.26193317833778373,
          -0.2698779541167169,
          -0.4262848383844372,
          -0.19030031190196184,
          -0.47377594398600875,
          0.9305134405138332,
          -0.11504654827161132,
          1.9425372724216448,
          -0.22113446192204203,
          -0.22036847390163192,
          -0.21997638972784198,
          -0.2199602012588872,
          -0.4118806553001618,
          -0.41255929875557795,
          -0.473678939179618,
          -0.2237355001173801,
          -0.4124886882903658,
          0.5740434431214645,
          -0.37956032132065226,
          -0.3351852098565695,
          -0.4124200364891673,
          -0.37435848157386764,
          -0.21895733046236843,
          -0.4122679264272666,
          -0.27668202558205923,
          -0.47202486726595694,
          -0.4793894648366129,
          -0.408857485659272,
          -0.276090835804621,
          0.16846710961556718,
          -0.4110175909363972,
          -0.11081548815561529,
          -0.47287211318763245,
          -0.2826164256730586,
          -0.22014704991320802,
          -0.3945993034722215,
          -0.41258698303687563,
          -0.2825196916684093,
          -0.19027592217296646,
          -0.34849197465233944,
          -0.24170855268522182,
          -0.4067600606643417,
          0.031201110524381542,
          -0.24145443219414847,
          -0.22089024417346922,
          0.1843753953462905,
          -0.2746155943282133,
          -0.4737763042761484,
          -0.5041465403147287,
          -0.22120957857977985,
          -0.4126222214496372,
          -0.41259685678224584,
          -0.41221182557294733,
          -0.28138626770257363,
          -0.37270863534959786,
          -0.33950013763842224,
          -0.26733735727011176,
          -0.15492658259567563,
          -0.39068313992844256,
          -0.41148713748526977,
          -0.30811651037653376,
          -0.28259270129181835,
          -0.4982491923092903,
          -0.3767086719046279,
          -0.22123852973691244,
          -0.402447450699337,
          -0.31122791504345293,
          -0.47309006518667124,
          -0.13772160739808714,
          -0.2825518106931045,
          -0.21417420406789345,
          -0.8818646964782875,
          -0.3073020200754599,
          -0.19030035843381582,
          -0.04697999235684661,
          -0.3757687490888739,
          -0.2197337468274315,
          -0.41222894777199476,
          -0.37638111446302464,
          0.8119868269313222,
          -0.17934342172878,
          -0.411503068955084,
          -0.4966825615151115,
          -0.32795469647782133,
          -0.4695719642337076,
          -0.18934544342217388,
          -0.2930749702523743,
          -0.1878022131046959,
          -0.4733986422800261,
          0.1739118593804388,
          0.7737183901145607,
          -0.47039180696998123,
          -0.4105846605035688,
          -0.4118041049679601,
          -0.4125196842078812,
          -0.4623913732529937,
          -0.19954143635363075,
          -0.29139453766235934,
          -0.10857151797859221,
          -0.4564473066778445,
          -0.19001192112492862,
          -0.4116054448392229,
          0.7330002660463506,
          -0.40249270262354847,
          -0.46890707572517043,
          -0.4094755955218441,
          -0.22135689270980127,
          -0.21858475467785596,
          -0.8560022627759749,
          -0.3797725601840115,
          -0.40581113897773485,
          -0.4842920148145136,
          -0.40990543434134746
         ],
         "y": [
          0.8231502329380385,
          0.8278725869093416,
          -0.003828542785742193,
          0.2537518190850369,
          1.3378144202429387,
          0.5659076197497592,
          0.25342345059576504,
          1.5100923194938367,
          0.768026622343105,
          0.25353620640951585,
          0.8232474957872377,
          0.825317509098891,
          -0.0029949643802057325,
          0.2543271206054686,
          0.2535956889232158,
          0.8235699699928407,
          -0.04540942244167045,
          0.25357520611885087,
          0.8231514337380186,
          0.25342840180944637,
          0.8231558884876505,
          0.25340322284840994,
          0.7680014136019685,
          0.10444278504558206,
          0.3246336632994355,
          0.25347509685110653,
          0.25473899531018784,
          0.2534935027707524,
          -0.12492591141269761,
          0.2533870557454946,
          0.2593747403522021,
          0.2537312387321975,
          0.2536540746076797,
          0.8237080933909784,
          0.7536711406488634,
          1.3378438196691658,
          -0.003817757379247509,
          0.25443644815576255,
          0.25346758206039377,
          0.25336604985815386,
          0.7378064820353714,
          0.25357824724141464,
          0.2534003453435478,
          0.5764695713811225,
          1.4237270564499234,
          0.2931036196862473,
          -0.00383942574329574,
          0.25521265598130166,
          1.423553344109445,
          0.8247966056615262,
          0.8236094273267267,
          0.923138503003922,
          0.2534075423056058,
          0.25396992647433264,
          0.2535548408485826,
          1.3377371674583298,
          -0.00013752049617865112,
          -0.003686267519871992,
          1.3377631611013996,
          -0.003767117207328849,
          -0.0037573329701065415,
          -0.0039328186113607826,
          0.7679504790055853,
          0.8302770645174671,
          0.8235327335304105,
          0.2534869615709507,
          0.06353838202964444,
          0.25432784724145624,
          1.3377724827672217,
          -0.003705322308431208,
          1.4236145240858693,
          0.8257665987769394,
          0.2538140001557911,
          0.5661337922775848,
          0.25832250755400366,
          0.2541798137166733,
          1.423533886860814,
          0.25336560232505884,
          0.2542166479228949,
          0.823155239154782,
          1.4235469710850934,
          0.2581741917186908,
          0.515218260607186,
          -0.08967680943967417,
          0.25340113670425574,
          0.823232045737846,
          0.29020025685764006,
          0.2533628535217298,
          -0.003847181053910286,
          0.4476276104545875,
          1.3377423242084845,
          1.307558369439714,
          0.7681259441633163,
          -0.003770212650035393,
          0.4372499444648773,
          0.7680448126110777,
          0.25391444918848516,
          0.2541452370490577,
          1.4236858225230438,
          0.5681152422404533,
          1.5093678180287313,
          0.7680342677312764,
          -0.003818070732753927,
          0.2545191290136919,
          0.565915740181361,
          1.4313061035354044,
          0.25377500151029836,
          0.565896434089706,
          0.11588193748403852,
          0.8232696127399551,
          0.7682775965276404,
          0.25371709520163377,
          0.8109381648991765,
          1.3385835152244607,
          0.5659561618482813,
          0.2534240761127521,
          0.7680457221036003,
          1.3383544660657596,
          0.5663311537871188,
          0.5670221950833294,
          1.3381138553525553,
          0.25336283678896643,
          0.830146707653626,
          0.8232592854887146,
          0.8237024691227991,
          0.7680038510885513,
          1.337895826286011,
          0.8234875043914117,
          0.5659031430110744,
          -0.0038921769454253823,
          1.3377457391919818,
          0.8232033829323959,
          0.8231568491957113,
          0.254180284667318,
          -0.003880507079342913,
          1.211825584587477,
          0.25346070564649303,
          0.7606284748567979,
          0.8232645713599053,
          1.341807326224502,
          1.4669361299055033,
          0.6711619749115982,
          1.3378630724273515,
          0.275145030771192,
          0.7718126284540292,
          1.7397438134288814,
          1.337758440805979,
          0.8232899025232638,
          0.823247275128029,
          0.7686371080963744,
          1.3378845593011264,
          0.5659413503862853,
          0.8232889631904015,
          2.66766838671836,
          0.8232471513614381,
          0.8245613972232695,
          1.337750498013717,
          0.8234828790531877,
          0.8231895291021781,
          0.8231685437004572,
          0.4803618487812355,
          0.2533682133501788,
          0.8242877764413806,
          0.5659097279869157,
          1.3377762151109727,
          0.8232327858925381,
          0.9809386123455405,
          0.8231975984170943,
          1.0136879594869617,
          0.25337715292677887,
          0.7701616062113605,
          0.8286725968731057,
          0.2539111348591684,
          1.3379932170042323,
          1.338346771490285,
          0.2620244780209822,
          1.338021726063737,
          1.3392079362793166,
          0.8232133365050968,
          0.8232145413304708,
          0.8252635454436638,
          1.3378801930346846,
          0.2535035945198614,
          0.005839502880089467,
          0.8234448010285305,
          1.8379888291308653,
          0.25355810493255626,
          0.7682773723989018,
          0.9520313336225699,
          0.2534619854896557,
          1.4236375379469761,
          0.2535354291143202,
          0.7681618817779128,
          0.7679952165701526,
          0.9595806604553406,
          1.4236163086071985,
          0.5965224465433937,
          0.7706868638772946,
          0.9521695628660829,
          -0.0038283094400194994,
          1.337800107653435,
          2.6167519022096193,
          0.2755329647567721,
          0.7411204049274019,
          0.2534347628131188,
          0.25359633805139303,
          0.25368194333476374,
          0.253685592145128,
          0.823318766767186,
          0.8231734266355998,
          1.3378189450181672,
          0.7809660377844385,
          0.8231873460972284,
          1.0412238922622261,
          0.5663818920217004,
          0.18007159734465347,
          0.8232019085236215,
          0.5235015954427163,
          0.2539116348528469,
          0.8232372684002357,
          0.7692830424244171,
          1.338171518909362,
          1.4245710769069104,
          0.8239721857323399,
          0.7693816842621283,
          0.9454825336448087,
          0.8234956903437569,
          0.2774383957295748,
          1.3379968199585273,
          0.7680025952191847,
          0.2536497070297841,
          0.8270665141906766,
          0.823167221328986,
          0.7680238448861386,
          -0.0038226677786694003,
          0.6333153730758985,
          0.4249398956120145,
          0.8244411291132376,
          0.3085830742086931,
          0.23282959606749598,
          0.25348634745330256,
          0.3416530727177195,
          0.7697228497033618,
          1.3377973454472805,
          1.59515875213325,
          0.25341765879696043,
          0.8231594517931052,
          0.8231648227809921,
          0.8232472809176026,
          0.7682659889509421,
          0.5238734635927796,
          0.838755022448412,
          0.6393403510169783,
          0.8794783472095725,
          0.6519457845947056,
          0.8234012778191019,
          0.9824319119857038,
          0.7680077349327689,
          1.5524486233102028,
          0.523005591170369,
          0.2534109420678442,
          0.8252802711214112,
          1.0257335585653522,
          1.337947694527628,
          0.007662932976253994,
          0.7680162593003036,
          0.8647744107668541,
          2.219467998496506,
          0.9826020098431465,
          -0.0038283199280966175,
          2.503275404580568,
          0.5232089924161564,
          0.2537331730110337,
          0.8232449790878397,
          0.5230770184078753,
          1.0862374634106677,
          -0.08944327241522465,
          0.823397686935224,
          1.5967649589551518,
          0.6652365632492301,
          1.3386766310930418,
          -0.0036205273441883034,
          0.8537192752277103,
          -0.0032906870312642,
          1.3378816035715633,
          0.9493054886769459,
          0.46069763343494674,
          1.338564522613061,
          0.8235846185363738,
          0.8233349818728589,
          0.8231830823870426,
          1.3402812611072008,
          0.2581321488543611,
          0.8486671501271896,
          0.627446013120508,
          1.3415345034077946,
          -0.003766941440506903,
          0.8233865522249564,
          0.45984359348308984,
          0.8253739008212538,
          1.3388631804135978,
          0.8238415189031428,
          0.25338722361491667,
          0.2539814218087764,
          2.4774112575958744,
          0.5663331890626361,
          0.8246432446075319,
          1.423502382988186,
          0.8237290607132091
         ],
         "z": [
          0.35722699423776055,
          0.358335564905742,
          -0.04368780606873768,
          -0.28004407959548183,
          -0.11570799958505006,
          0.5937659899207652,
          -0.2801784602663431,
          -0.2726562637810643,
          -0.7531633047083464,
          -0.28008524341350527,
          0.3572626294462102,
          0.35719786757006206,
          -0.043371200963473654,
          -0.2796861008387981,
          -0.2800067321292977,
          0.3572213531922708,
          -0.0037921986582030508,
          -0.280120651023388,
          0.35722807954466573,
          -0.2801785268069622,
          0.3572291212134424,
          -0.2801955045866926,
          -0.753167372070824,
          0.0010754096210556098,
          -0.25144023016979944,
          -0.2801791543534953,
          -0.27958193962921574,
          -0.28015516789496353,
          -0.7052122729334482,
          -0.2801994823788599,
          -0.2771749968014991,
          -0.2800746460549889,
          -0.28006866158212607,
          0.3574838658662426,
          -0.08734912386835696,
          -0.11570839469141138,
          -0.04368795101655686,
          -0.279653596947073,
          -0.2801812564348915,
          -0.2802209792587095,
          0.4362720510542287,
          -0.28013427605165836,
          -0.28020238356935,
          0.5989052555480004,
          -0.19458886207111475,
          -0.2477118780320482,
          -0.0436876598099051,
          -0.27950633428545235,
          -0.19458652750681957,
          0.35813015944674,
          0.3574367242238293,
          0.3558832263703439,
          -0.2801782464707883,
          -0.2796813004160836,
          -0.2801136932010735,
          -0.11575542680289598,
          -0.041827344995817466,
          -0.043632411836758395,
          -0.11573374759536095,
          -0.0436423670165488,
          -0.043558781675415006,
          -0.043732118476918776,
          -0.753206342890251,
          0.36065613416991743,
          0.357442161080408,
          -0.28017490765732384,
          -0.4927089518039709,
          -0.279652137431783,
          -0.11574378670720088,
          -0.04363658827016554,
          -0.19458734972007238,
          0.359394906718279,
          -0.2799983863275972,
          0.5938642917612917,
          -0.2765893992121688,
          -0.27986832902188963,
          -0.19455982912096745,
          -0.28021815771488706,
          -0.27988289288040763,
          0.35722692686541346,
          -0.19456441111233996,
          -0.2780854966713706,
          -0.5145733565188674,
          0.03509745913166589,
          -0.2802169976435927,
          0.357269956133793,
          -0.25868823189377715,
          -0.2802225456967792,
          -0.043687555584314613,
          -0.08015182267070095,
          -0.11575549830884677,
          1.0736749649979158,
          -0.753135999550011,
          -0.04361641725906387,
          0.7119744226728855,
          -0.7531613460974024,
          -0.27976814908798164,
          -0.27968365645945514,
          -0.19447815418896408,
          0.5958909280588283,
          -0.2733596666689558,
          -0.7531722197549752,
          -0.043687946805319455,
          -0.2797768042717397,
          0.5937658807882209,
          -0.058521295659502974,
          -0.28004439114998714,
          0.5937408048900404,
          0.0023014174910580324,
          0.35731791890203135,
          -0.7530256808411739,
          -0.27985778072769024,
          -0.7925700880827382,
          -0.11492082265055081,
          0.5938049928935791,
          -0.28018067174740335,
          -0.7531525460219896,
          -0.11559849444546044,
          0.5942025100839677,
          0.5948591573725788,
          -0.11545426404390428,
          -0.28022255214721925,
          0.3615391159003599,
          0.3573231981992012,
          0.357439879960641,
          -0.7531519833067761,
          -0.11564740753335402,
          0.35742073818051706,
          0.5937638470102158,
          -0.04371176630514488,
          -0.11574893497994192,
          0.3572725444150991,
          0.3572269052276641,
          -0.2797942812022319,
          -0.04370993530965517,
          0.788905299840386,
          -0.2801591332752319,
          0.5574843176965688,
          0.35722545752212037,
          -0.11250551703630497,
          -0.23378814887934718,
          0.5311614669442296,
          -0.11569102883749344,
          -0.2584859008838966,
          -0.7521567100090385,
          -0.19696327819664877,
          -0.11574722573763115,
          0.3573100235844349,
          0.35731821910287553,
          -0.7527132696692113,
          -0.11562522536769516,
          0.5937611304570107,
          0.35729783117520264,
          1.3717928072122216,
          0.3572873777221066,
          0.35864148128709694,
          -0.11574459278579993,
          0.35753976636885465,
          0.35725510600361615,
          0.35723405299269617,
          0.6727186665552046,
          -0.2802180027106242,
          0.35831324369823947,
          0.5937637585130516,
          -0.1157353462176912,
          0.35726994618666585,
          -0.5357612866939494,
          0.35727467835687593,
          0.5699447880838372,
          -0.2802167002957679,
          -0.751032984212217,
          0.3593558522712631,
          -0.2800109714874061,
          -0.11553856266304247,
          -0.1155212834258559,
          -0.2715280179119647,
          -0.11553894580353893,
          -0.11467365775270164,
          0.3572728779648883,
          0.35728913782134814,
          0.3594016673798833,
          -0.11566922817990137,
          -0.2801475478167985,
          -0.03835631551150743,
          0.3574543582005429,
          -0.07955731234737358,
          -0.28006791311669393,
          -0.7529904286357945,
          0.2391985460968734,
          -0.2801827744846901,
          -0.19452156677184504,
          -0.28006099914687366,
          -0.7530769995111269,
          -0.753165306020218,
          0.4655471998811947,
          -0.19454573958597812,
          -0.5955006272421044,
          -0.7508197358256368,
          0.2391966883989371,
          -0.043687809204730185,
          -0.11573532964819813,
          1.17210956741969,
          -0.2573895771380566,
          -0.28677900815703045,
          -0.2801808153686859,
          -0.28004199004635294,
          -0.28000789132425724,
          -0.28000794036154725,
          0.3573310319308311,
          0.3572359353524661,
          -0.11569704502176147,
          -0.7494157280513963,
          0.35726115707802136,
          0.4093731112745547,
          0.5939314558722858,
          0.9485851240370122,
          0.3572725642300534,
          0.6335669390802185,
          -0.2800109782069483,
          0.3572584041284312,
          -0.7524531754462371,
          -0.11544402362620755,
          -0.19413755941506228,
          0.3576785933742129,
          -0.752013886203257,
          0.4657366681906454,
          0.35755281264213556,
          -0.26953209489338203,
          -0.11564876481298791,
          -0.7531634224166366,
          -0.2800867687771889,
          0.3591571293667872,
          0.357235578132243,
          -0.7531566581576606,
          -0.04368972238864949,
          0.1448081846435765,
          -0.43784879307527164,
          0.3577207587656561,
          -0.25893528324841836,
          0.1311332472572199,
          -0.2801374471362054,
          -0.24085851579577575,
          -0.7521286249412608,
          -0.11570116088879565,
          -0.3521161779093595,
          -0.2801783824288868,
          0.35723347947443207,
          0.3572378134415178,
          0.35729178213012514,
          -0.7529902756507441,
          0.6335619414496341,
          0.3683013179381374,
          -0.6349215737125561,
          0.37894134700206533,
          0.515103747881284,
          0.3574086785538668,
          -0.9502346616966858,
          -0.7531608478010595,
          -0.3126536173250215,
          0.6331443381291466,
          -0.2801758571842392,
          0.3594014425992489,
          -0.9892414888284956,
          -0.11564810460383623,
          -0.03926205088343823,
          -0.7531521500638874,
          0.39632293865377305,
          2.177470414374997,
          -0.9500652746406444,
          -0.043687809063778255,
          0.6499070102905968,
          0.6332492225581946,
          -0.2799645183213265,
          0.35727198539379373,
          0.6331739678886678,
          0.518481276462473,
          0.03531462802609175,
          0.35740872681266794,
          -0.3511684113165213,
          0.5257201951637615,
          -0.11484276337354765,
          -0.04359586943424956,
          -0.8320321781768575,
          -0.0433711824858802,
          -0.11569127788225063,
          0.43263917184816547,
          -0.06688871910235882,
          -0.11576654804217947,
          0.35766177124248005,
          0.3573440415338402,
          0.3572265526731383,
          -0.11468808243786503,
          -0.27808493164663106,
          0.3800163488843325,
          0.5933090763405731,
          -0.11360338779040058,
          -0.043642369378723816,
          0.3572568643089499,
          -0.17284512867029245,
          0.35807833953878976,
          -0.11531232226793221,
          0.3575701957100144,
          -0.2802132225959965,
          -0.2798312639761459,
          1.159181405528335,
          0.5939431257766239,
          0.3578678515554987,
          -0.19458557825840916,
          0.3577699837762804
         ]
        },
        {
         "customdata": [
          [
           "X13",
           "PoW/PoS"
          ],
          [
           "Scrypt",
           "PoW"
          ],
          [
           "CryptoNight",
           "PoW"
          ],
          [
           "Scrypt",
           "PoW"
          ],
          [
           "CryptoNight",
           "PoW"
          ],
          [
           "CryptoNight Heavy",
           "PoW"
          ]
         ],
         "hovertemplate": "<b>%{hovertext}</b><br><br>class=%{marker.color}<br>PC 1=%{x}<br>PC 2=%{y}<br>PC 3=%{z}<br>Algorithm=%{customdata[0]}<br>ProofType=%{customdata[1]}<extra></extra>",
         "hovertext": [
          "EliteCoin",
          "MoonCoin",
          "ByteCoin",
          "gCn Coin",
          "TurtleCoin",
          "Qwertycoin"
         ],
         "legendgroup": "4",
         "marker": {
          "color": [
           4,
           4,
           4,
           4,
           4,
           4
          ],
          "coloraxis": "coloraxis",
          "symbol": "diamond"
         },
         "mode": "markers",
         "name": "4",
         "scene": "scene",
         "showlegend": true,
         "type": "scatter3d",
         "x": [
          3.1431523167574045,
          3.670818229681261,
          4.6536781432555525,
          4.273157062352415,
          10.938854473739445,
          3.369699849982
         ],
         "y": [
          2.186747662978523,
          1.0642166587568611,
          -0.5732470668474848,
          1.231822188223009,
          0.7022773521797298,
          -0.8186151586300773
         ],
         "z": [
          0.48727300119108435,
          0.5548594573286144,
          1.8073531910791196,
          0.14724124156684315,
          3.5868901435094767,
          1.7718174969344145
         ]
        },
        {
         "customdata": [
          [
           "Ethash",
           "PoW"
          ],
          [
           "CryptoNight-V7",
           "PoW"
          ],
          [
           "Ethash",
           "PoW"
          ],
          [
           "Equihash",
           "PoW"
          ],
          [
           "Multiple",
           "PoW"
          ],
          [
           "Multiple",
           "PoW"
          ],
          [
           "Groestl",
           "PoW"
          ],
          [
           "Groestl",
           "PoW/PoS"
          ],
          [
           "Multiple",
           "PoW"
          ],
          [
           "NeoScrypt",
           "PoW"
          ],
          [
           "HybridScryptHash256",
           "PoW"
          ],
          [
           "NeoScrypt",
           "PoW/PoS"
          ],
          [
           "Lyra2REv2",
           "PoW"
          ],
          [
           "CryptoNight",
           "PoW"
          ],
          [
           "Counterparty",
           "PoS"
          ],
          [
           "Groestl",
           "PoW/PoS"
          ],
          [
           "Multiple",
           "PoW"
          ],
          [
           "M7 POW",
           "PoW"
          ],
          [
           "Lyra2RE",
           "PoW"
          ],
          [
           "Ethash",
           "PoW"
          ],
          [
           "Blake2b",
           "PoW"
          ],
          [
           "BLAKE256",
           "PoW/PoS"
          ],
          [
           "1GB AES Pattern Search",
           "PoW"
          ],
          [
           "NIST5",
           "PoW/PoS"
          ],
          [
           "Dagger",
           "PoW"
          ],
          [
           "NIST5",
           "PoW/PoS"
          ],
          [
           "Equihash",
           "dPoW/PoW"
          ],
          [
           "CryptoNight",
           "PoW"
          ],
          [
           "Multiple",
           "PoW"
          ],
          [
           "Lyra2Z",
           "PoW"
          ],
          [
           "Ethash",
           "PoW"
          ],
          [
           "Equihash",
           "PoW"
          ],
          [
           "CryptoNight",
           "PoW"
          ],
          [
           "CryptoNight",
           "PoW"
          ],
          [
           "Lyra2RE",
           "PoW"
          ],
          [
           "CryptoNight-V7",
           "PoW"
          ],
          [
           "Equihash",
           "PoW"
          ],
          [
           "Lyra2RE",
           "PoW"
          ],
          [
           "Dagger-Hashimoto",
           "PoW"
          ],
          [
           "Blake2S",
           "PoW/PoS"
          ],
          [
           "NIST5",
           "PoW"
          ],
          [
           "CryptoNight-V7",
           "PoW"
          ],
          [
           "536",
           "PoW/PoS"
          ],
          [
           "Argon2d",
           "PoW"
          ],
          [
           "Blake2b",
           "PoW"
          ],
          [
           "Cloverhash",
           "PoW"
          ],
          [
           "CryptoNight",
           "PoW"
          ],
          [
           "NIST5",
           "PoW/PoS"
          ],
          [
           "NIST5",
           "PoW/PoS"
          ],
          [
           "CryptoNight",
           "PoW"
          ],
          [
           "Keccak",
           "PoW"
          ],
          [
           "CryptoNight",
           "PoW"
          ],
          [
           "Equihash",
           "PoW"
          ],
          [
           "NeoScrypt",
           "PoW/PoS"
          ],
          [
           "NeoScrypt",
           "PoW"
          ],
          [
           "Equihash",
           "PoW"
          ],
          [
           "NIST5",
           "PoW/PoS"
          ],
          [
           "Dagger",
           "PoW"
          ],
          [
           "NeoScrypt",
           "PoW"
          ],
          [
           "Ethash",
           "PoW"
          ],
          [
           "NeoScrypt",
           "PoW"
          ],
          [
           "NIST5",
           "PoW/PoS"
          ],
          [
           "Multiple",
           "PoW"
          ],
          [
           "CryptoNight",
           "PoW"
          ],
          [
           "CryptoNight",
           "PoW"
          ],
          [
           "Ethash",
           "PoW"
          ],
          [
           "CryptoNight-V7",
           "PoW"
          ],
          [
           "BLAKE256",
           "PoW"
          ],
          [
           "NeoScrypt",
           "PoW"
          ],
          [
           "NeoScrypt",
           "PoW"
          ],
          [
           "C11",
           "PoW"
          ],
          [
           "Ethash",
           "PoS"
          ],
          [
           "CryptoNight",
           "PoW"
          ],
          [
           "Dagger",
           "PoW"
          ],
          [
           "Lyra2REv2",
           "PoW"
          ],
          [
           "C11",
           "PoW/PoS"
          ],
          [
           "Ethash",
           "PoW"
          ],
          [
           "CryptoNight",
           "PoW"
          ],
          [
           "IMesh",
           "PoW"
          ],
          [
           "NIST5",
           "PoW/PoS"
          ],
          [
           "Equihash",
           "PoW"
          ],
          [
           "Lyra2Z",
           "PoW"
          ],
          [
           "CryptoNight",
           "PoW"
          ],
          [
           "NIST5",
           "PoW"
          ],
          [
           "Lyra2RE",
           "PoW"
          ],
          [
           "Lyra2Z",
           "PoW"
          ],
          [
           "CryptoNight",
           "PoW"
          ],
          [
           "CryptoNight Heavy",
           "PoW"
          ],
          [
           "CryptoNight",
           "PoW"
          ],
          [
           "Jump Consistent Hash",
           "PoW"
          ],
          [
           "CryptoNight",
           "PoW"
          ],
          [
           "DPoS",
           "PoS"
          ],
          [
           "HMQ1725",
           "PoW"
          ],
          [
           "Lyra2REv2",
           "PoW/PoS"
          ],
          [
           "CryptoNight-V7",
           "PoW"
          ],
          [
           "Cryptonight-GPU",
           "PoW"
          ],
          [
           "Keccak",
           "PoW/PoS"
          ],
          [
           "Equihash",
           "PoW"
          ],
          [
           "Lyra2Z",
           "PoW"
          ],
          [
           "CryptoNight",
           "PoW"
          ],
          [
           "Blake",
           "PoW"
          ],
          [
           "Blake",
           "PoW"
          ],
          [
           "Equihash",
           "PoS"
          ],
          [
           "Exosis",
           "PoW"
          ],
          [
           "Equihash",
           "PoW"
          ],
          [
           "Equihash",
           "PoW"
          ],
          [
           "NeoScrypt",
           "PoW"
          ],
          [
           "Blake",
           "PoW"
          ],
          [
           "Groestl",
           "PoW"
          ],
          [
           "NeoScrypt",
           "PoW/PoS"
          ],
          [
           "Multiple",
           "PoW"
          ],
          [
           "Equihash+Scrypt",
           "PoW"
          ],
          [
           "Ethash",
           "PoW"
          ],
          [
           "CryptoNight",
           "PoW"
          ],
          [
           "Equihash",
           "PoW"
          ]
         ],
         "hovertemplate": "<b>%{hovertext}</b><br><br>class=%{marker.color}<br>PC 1=%{x}<br>PC 2=%{y}<br>PC 3=%{z}<br>Algorithm=%{customdata[0]}<br>ProofType=%{customdata[1]}<extra></extra>",
         "hovertext": [
          "Ethereum",
          "Monero",
          "Ethereum Classic",
          "ZCash",
          "DigiByte",
          "MyriadCoin",
          "Riecoin",
          "Diamond",
          "Verge",
          "FeatherCoin",
          "MediterraneanCoin",
          "Orbitcoin",
          "Vertcoin",
          "DigitalNote ",
          "StorjCoin",
          "FairCoin",
          "Unitus",
          "Cryptonite",
          "Crypto",
          "Expanse",
          "Siacoin",
          "Decred",
          "HOdlcoin",
          "PWR Coin",
          "SoilCoin",
          "VIP Tokens",
          "Komodo",
          "Karbo",
          "Circuits of Value",
          "ZCoin",
          "Elementrem",
          "ZClassic",
          "Cannabis Industry Coin",
          "Bikercoins",
          "HexxCoin",
          "Citadel",
          "Zero",
          "Zoin",
          "DubaiCoin",
          "TajCoin",
          "Coinonat",
          "Quantum Resistant Ledger",
          "Espers",
          "Dynamic",
          "Nano",
          "ChanCoin",
          "Dinastycoin",
          "Denarius",
          "Virta Unique Coin",
          "LeviarCoin",
          "SmartCash",
          "Sumokoin",
          "BitcoinZ",
          "TrezarCoin",
          "VIVO Coin",
          "Bitcoin Gold",
          "NamoCoin",
          "Pirl",
          "Innova",
          "Ellaism",
          "GoByte",
          "Electra",
          "SHIELD",
          "UltraNote",
          "BitCoal",
          "DaxxCoin",
          "Lethean",
          "Photon",
          "SparksPay",
          "GunCoin",
          "Interzone",
          "1717 Masonic Commemorative Token",
          "Niobio Cash",
          "Travelflex",
          "KREDS",
          "Stipend",
          "Callisto Network",
          "BitTube",
          "Aidos Kuneen",
          "Bitspace",
          "Bitrolium",
          "Alpenschillling",
          "Monero Classic",
          "Jumpcoin",
          "Infinex",
          "GINcoin",
          "PlatinCoin",
          "Loki",
          "Newton Coin",
          "MassGrid",
          "PluraCoin",
          "Muse",
          "PlusOneCoin",
          "Absolute Coin",
          "Webchain",
          "Ryo",
          "XDNA",
          "CrypticCoin",
          "Actinium",
          "FREDEnergy",
          "Universal Molecule",
          "Lithium",
          "PirateCash",
          "Exosis",
          "Beam",
          "Bithereum",
          "UFO Coin",
          "BlakeCoin",
          "Groestlcoin",
          "FriendshipCoin",
          "JoinCoin",
          "Vollar",
          "Reality Clash",
          "Beldex",
          "Horizen"
         ],
         "legendgroup": "3",
         "marker": {
          "color": [
           3,
           3,
           3,
           3,
           3,
           3,
           3,
           3,
           3,
           3,
           3,
           3,
           3,
           3,
           3,
           3,
           3,
           3,
           3,
           3,
           3,
           3,
           3,
           3,
           3,
           3,
           3,
           3,
           3,
           3,
           3,
           3,
           3,
           3,
           3,
           3,
           3,
           3,
           3,
           3,
           3,
           3,
           3,
           3,
           3,
           3,
           3,
           3,
           3,
           3,
           3,
           3,
           3,
           3,
           3,
           3,
           3,
           3,
           3,
           3,
           3,
           3,
           3,
           3,
           3,
           3,
           3,
           3,
           3,
           3,
           3,
           3,
           3,
           3,
           3,
           3,
           3,
           3,
           3,
           3,
           3,
           3,
           3,
           3,
           3,
           3,
           3,
           3,
           3,
           3,
           3,
           3,
           3,
           3,
           3,
           3,
           3,
           3,
           3,
           3,
           3,
           3,
           3,
           3,
           3,
           3,
           3,
           3,
           3,
           3,
           3,
           3,
           3,
           3,
           3
          ],
          "coloraxis": "coloraxis",
          "symbol": "square"
         },
         "mode": "markers",
         "name": "3",
         "scene": "scene",
         "showlegend": true,
         "type": "scatter3d",
         "x": [
          -0.051012530005768525,
          -0.011450356650791051,
          -0.04879804407865558,
          -0.042084610252889065,
          0.26119075127958796,
          -0.07845238122329777,
          -0.06639008716622592,
          -0.2590783076865174,
          0.28458347906613307,
          -0.1279414139197414,
          -0.0755850925343844,
          -0.32559927095264074,
          -0.10729688645593857,
          0.20439686306091603,
          0.32811675178315636,
          -0.258367763235875,
          -0.12328666132457752,
          -0.08978359658344015,
          -0.10293146921825433,
          -0.05231185659000584,
          0.519841587696853,
          -0.15647452292577052,
          0.050690471000527,
          -0.16819576847553794,
          -0.026669550185001927,
          -0.31839474014617397,
          -0.8033537297563464,
          -0.0012580683210819785,
          -0.09697622114620191,
          -0.11370768782597819,
          -0.05197986604702535,
          -0.04211138697056035,
          -0.0012501399649894832,
          -0.001082802384242869,
          -0.10367652786152758,
          -0.009669460851904557,
          -0.04213213715162719,
          -0.10331277988233942,
          -0.03211992329235287,
          -0.16651867720633953,
          -0.12874612043037748,
          -0.00960167385830079,
          0.7052439747663025,
          0.039752970580677144,
          0.02445341985753444,
          0.009337676480140096,
          0.04617602406454136,
          -0.32040531119699633,
          -0.31840099241544,
          -0.0007161460357305581,
          -0.008980767620477495,
          -0.00044142242474787437,
          0.24931392765362734,
          -0.31886799734277815,
          -0.134168105647222,
          -0.041936021485032594,
          -0.29992373472904177,
          -0.0249612630328988,
          -0.13395222229482034,
          -0.0496108707113242,
          -0.13409423630561532,
          0.4132610715968649,
          -0.11029238508895053,
          1.1518780260796648,
          -0.0012830038945549594,
          0.056602292966892336,
          0.005097434109249119,
          1.4019217543041205,
          -0.1341732140298788,
          -0.12490008630901993,
          0.014284928129998388,
          0.26603450411402674,
          0.003954670301115713,
          -0.024422221849110165,
          -0.08803076055438698,
          -0.17694362700449795,
          0.016990232091828653,
          0.009869729523430184,
          -0.0827088717705908,
          -0.3198543435971297,
          -0.04061988574462517,
          -0.11058454207285125,
          -0.001048923532287984,
          -0.12885671177452265,
          -0.1034627610611417,
          -0.11382697765949702,
          0.004605201345436164,
          -0.0047839564896108916,
          2.488465188246678,
          -0.08469821407006836,
          0.01713379639314222,
          0.2971507746569759,
          -0.07276405152654722,
          -0.29937019617421223,
          0.006263471372819363,
          -0.01585916249790988,
          -0.28097427189348906,
          0.0987129771214806,
          -0.1129813602672922,
          0.10867557856887797,
          0.03031014250645912,
          0.029716263467634382,
          0.2774946898745303,
          -0.057539459614246925,
          -0.039205364245588105,
          -0.0417155369193418,
          -0.03608368822549097,
          0.10052761049722878,
          -0.06581784028582083,
          -0.32505938921238464,
          -0.12419315982763056,
          -0.024726358145417467,
          -0.052023267119067663,
          0.027548172381722205,
          -0.04208591948146178
         ],
         "y": [
          -1.161387336487703,
          -1.5047539046846863,
          -1.1609245412591622,
          -1.2474495837237793,
          -0.478155610323465,
          -0.5514217650579197,
          -1.0327615158345287,
          -0.46329656921499607,
          -0.47211378944639504,
          -0.474217496746203,
          -0.9467831762194195,
          0.09417102931767753,
          -0.6896980204642857,
          -1.5459042974024186,
          -2.5818802965409167,
          -0.46313565763809134,
          -0.5611811188147271,
          -0.5979835475276347,
          -0.7327463867766214,
          -1.1616831246701176,
          -1.6492157976960633,
          -1.3208822734939991,
          -2.019187380872657,
          0.08561428160374623,
          -1.3760830449244206,
          0.05174451345932761,
          1.0324617131933795,
          -1.590529265215871,
          -0.5554585188139655,
          -0.6470966905928839,
          -1.1616099046537782,
          -1.247455619079268,
          -1.590529381735871,
          -1.5904923567695548,
          -0.732904665510791,
          -1.5043845125614963,
          -1.2474596038844235,
          -0.7328245818383338,
          -1.333271266499579,
          -1.235078006157799,
          -0.5183845433490133,
          -1.5043553897636557,
          -1.2233744128152302,
          -1.933567534943656,
          -1.7609330176273752,
          -1.6762154189044665,
          -1.5801821946102474,
          0.051305183409999594,
          0.05173791276075886,
          -1.5904147324417428,
          -0.8004950947579231,
          -1.5903588484174553,
          -1.1854000139910685,
          0.09561966192887239,
          -0.4755674938474793,
          -1.2474160924629514,
          0.05571571341669022,
          -1.3757198616737398,
          -0.4755219495591097,
          -1.1611198622571748,
          -0.4755516746540437,
          0.21148065545066935,
          -0.5583664777862954,
          -1.3453248325226548,
          -1.5905353182075062,
          -1.1388619124069255,
          -1.5011970638387848,
          -1.5980795557272724,
          -0.47556760696180755,
          -0.4735603747596906,
          -1.719134582308441,
          -2.111397019428331,
          -1.5894107505562005,
          -1.3755886203265557,
          -0.6855313372261193,
          -1.1493537783616086,
          -1.1471846274890005,
          -1.588192426391487,
          -0.9043230977660719,
          0.05142244715384876,
          -1.2471279205935932,
          -0.6464409585472793,
          -1.5904835785017941,
          -0.5184047542299156,
          -0.7328593006402419,
          -0.6471216917695405,
          -1.5893098086690227,
          -1.547312748168338,
          -1.06119574234468,
          -0.8607607691212891,
          -1.5865551373708269,
          -2.3685991789324268,
          -0.9901518138421218,
          -0.12010280273810181,
          -1.5010641204513777,
          -1.4617274275834546,
          -0.24811708349655112,
          -1.2170259579638072,
          -0.6469438123815344,
          -1.5671472041234302,
          -1.847643170715843,
          -1.8477632033860905,
          -2.196902761041558,
          -1.118826648295808,
          -1.2468424574219066,
          -1.247368106963106,
          -0.4541472164692537,
          -1.8330096101730697,
          -1.032636167906164,
          0.09428295667758602,
          -0.5613859241640923,
          -1.1998614141004846,
          -1.1616193898385325,
          -1.5842770404482902,
          -1.247449878818195
         ],
         "z": [
          1.0204728629380473,
          1.335798625885275,
          1.0209292889768389,
          1.0993535330101794,
          0.5138107526264097,
          0.4729369781092304,
          0.9024125964696561,
          1.5396924255262647,
          0.5039368885584032,
          0.39055570113470095,
          0.8238348752706289,
          1.0272934778114593,
          0.5870909065951775,
          1.4360601953488135,
          0.3927119248091968,
          1.5396806135280312,
          0.46866198738776377,
          0.5120491383513306,
          0.6264682211062776,
          1.0205140841640552,
          1.5707734652567609,
          2.3280322837874974,
          1.8089595552898599,
          1.0662390650733502,
          1.2176187880976348,
          1.0668925262080065,
          3.649541264007736,
          1.4146512065936991,
          0.47122876940612307,
          0.5475415674809687,
          1.0205335868449883,
          1.099353614120856,
          1.4146754419800056,
          1.4146837566903872,
          0.6263474407042422,
          1.3362012303276751,
          1.0993448553753509,
          0.6263705982619803,
          1.178143360190518,
          2.2492363742247576,
          0.42935423954156937,
          1.3360245929727104,
          2.5145071083171953,
          1.7299505267085726,
          1.5730245288022393,
          1.4935246191744782,
          1.4188962680932722,
          1.0667221845099177,
          1.0669587071538282,
          1.4147466026400934,
          0.715926940902522,
          1.4148227144227135,
          1.1447379346549922,
          1.0281469335098623,
          0.3898930940440966,
          1.099353082912613,
          1.0692845690246235,
          1.2178921703375531,
          0.3899321373052432,
          1.0210861291658733,
          0.3899034562039124,
          1.1306397522407388,
          0.4700781899334392,
          1.5985951503308224,
          1.4146567956278386,
          1.0422008838240908,
          1.337952756916747,
          1.8848796340098908,
          0.3898798771167975,
          0.3909081741361881,
          1.5329248957436465,
          -0.041936854176717435,
          1.4153543769035062,
          1.2177663586202967,
          0.5892732332519163,
          2.1703678267669666,
          1.0346019738825176,
          1.4168008450555545,
          0.7840398088875005,
          1.0668087315558015,
          1.0994571607519663,
          0.548146531508926,
          1.414669098424797,
          0.4292944729723202,
          0.6263826970905584,
          0.54751788996523,
          1.4159346331497566,
          1.3755399427322845,
          1.8128810505481263,
          0.7449305067998724,
          1.4167788411122642,
          0.19458940121050639,
          0.8628622636105537,
          1.2244749968539934,
          1.3396044184496005,
          1.2965757722752667,
          1.343402766827278,
          1.115641764401761,
          0.5476774253804471,
          1.4321157809806278,
          1.6513495614502511,
          1.6511751683248723,
          0.03711783049213341,
          0.9811082470524654,
          1.09987807711859,
          1.0993742176185677,
          0.39835803679268633,
          1.6663428321577158,
          0.9024571764531372,
          1.0274162229107482,
          0.4686709084277283,
          1.0644552790064747,
          1.0205299303289161,
          1.4176299454465608,
          1.0993535369760283
         ]
        },
        {
         "customdata": [
          [
           "SHA-512",
           "PoS"
          ],
          [
           "SHA-256",
           "PoS"
          ],
          [
           "Scrypt",
           "PoC"
          ],
          [
           "PoS",
           "PoS"
          ],
          [
           "X11",
           "PoS"
          ],
          [
           "Scrypt",
           "PoS"
          ],
          [
           "Scrypt",
           "PoS"
          ],
          [
           "X11",
           "PoS"
          ],
          [
           "Multiple",
           "PoS"
          ],
          [
           "PHI1612",
           "PoS"
          ],
          [
           "Multiple",
           "PoS"
          ],
          [
           "Shabal256",
           "PoC"
          ],
          [
           "Scrypt",
           "PoS"
          ],
          [
           "Scrypt",
           "PoS"
          ],
          [
           "X11",
           "PoS"
          ],
          [
           "X11",
           "PoS/PoW"
          ],
          [
           "Scrypt",
           "PoS"
          ],
          [
           "Scrypt",
           "PoS"
          ],
          [
           "Scrypt",
           "PoS"
          ],
          [
           "Scrypt",
           "PoC"
          ],
          [
           "PoS",
           "PoS"
          ],
          [
           "POS 3.0",
           "PoS"
          ],
          [
           "X13",
           "PoS"
          ],
          [
           "X11",
           "PoS"
          ],
          [
           "Scrypt",
           "PoS"
          ],
          [
           "PoS",
           "PoS"
          ],
          [
           "PoS",
           "PoS"
          ],
          [
           "X13",
           "PoS"
          ],
          [
           "PoS",
           "PoS"
          ],
          [
           "DPoS",
           "DPoS"
          ],
          [
           "PoS",
           "PoS"
          ],
          [
           "PoS",
           "PoS"
          ],
          [
           "Scrypt",
           "PoS"
          ],
          [
           "Quark",
           "PoS"
          ],
          [
           "Scrypt",
           "PoS"
          ],
          [
           "X13",
           "PoS"
          ],
          [
           "Scrypt",
           "PoS"
          ],
          [
           "PoS",
           "PoS"
          ],
          [
           "PoS",
           "PoS"
          ],
          [
           "SHA-256",
           "PoS"
          ],
          [
           "Scrypt",
           "PoS"
          ],
          [
           "PoS",
           "PoS"
          ],
          [
           "SHA-256",
           "PoS"
          ],
          [
           "POS 3.0",
           "PoS"
          ],
          [
           "SkunkHash v2 Raptor",
           "PoS"
          ],
          [
           "Scrypt",
           "PoS"
          ],
          [
           "PoS",
           "PoS"
          ],
          [
           "SHA-512",
           "PoS"
          ],
          [
           "Ouroboros",
           "PoS"
          ],
          [
           "Lyra2REv2",
           "PoS"
          ],
          [
           "POS 2.0",
           "PoS"
          ],
          [
           "SHA-256",
           "PoS"
          ],
          [
           "DPoS",
           "DPoS"
          ],
          [
           "NIST5",
           "PoS"
          ],
          [
           "Quark",
           "PoS"
          ],
          [
           "Quark",
           "PoS"
          ],
          [
           "X11",
           "PoS"
          ],
          [
           "POS 3.0",
           "PoS"
          ],
          [
           "X13",
           "PoS"
          ],
          [
           "Proof-of-BibleHash",
           "POBh"
          ],
          [
           "Proof-of-Authority",
           "PoA"
          ],
          [
           "Scrypt",
           "PoS"
          ],
          [
           "VBFT",
           "PoS"
          ],
          [
           "Scrypt",
           "PoS"
          ],
          [
           "Green Protocol",
           "PoS"
          ],
          [
           "PoS",
           "PoS"
          ],
          [
           "Semux BFT consensus",
           "DPoS"
          ],
          [
           "PoS",
           "PoS"
          ],
          [
           "X16R",
           "PoS"
          ],
          [
           "XEVAN",
           "PoS/PoW"
          ],
          [
           "Scrypt",
           "PoS"
          ],
          [
           "Scrypt",
           "PoS"
          ],
          [
           "X15",
           "PoS"
          ],
          [
           "Scrypt",
           "HPoW"
          ],
          [
           "Quark",
           "PoS"
          ],
          [
           "SHA-256",
           "PoS"
          ],
          [
           "Quark",
           "PoS"
          ],
          [
           "Scrypt",
           "PoS"
          ],
          [
           "Quark",
           "PoS"
          ],
          [
           "X11",
           "PoS"
          ],
          [
           "Scrypt",
           "PoS"
          ],
          [
           "PoS",
           "PoS"
          ],
          [
           "X11",
           "PoS"
          ],
          [
           "ECC 256K1",
           "DPOS"
          ],
          [
           "XEVAN",
           "PoS"
          ],
          [
           "X11",
           "PoS"
          ],
          [
           "Quark",
           "PoS"
          ],
          [
           "X11",
           "PoS"
          ],
          [
           "DPoS",
           "DPoS"
          ],
          [
           "SHA-256",
           "PoS"
          ],
          [
           "PoS",
           "PoS"
          ],
          [
           "DPoS",
           "DPoS"
          ],
          [
           "Scrypt",
           "PoS"
          ],
          [
           "SHA3-256",
           "DPoC"
          ],
          [
           "DPoS",
           "DPoS"
          ],
          [
           "DPoS",
           "DPoS"
          ],
          [
           "SHA-256",
           "PoS"
          ],
          [
           "Leased POS",
           "LPoS"
          ],
          [
           "PoS",
           "PoS"
          ],
          [
           "PoS",
           "PoS/LPoS"
          ],
          [
           "SHA-256",
           "DPoS"
          ],
          [
           "Scrypt",
           "PoS"
          ]
         ],
         "hovertemplate": "<b>%{hovertext}</b><br><br>class=%{marker.color}<br>PC 1=%{x}<br>PC 2=%{y}<br>PC 3=%{z}<br>Algorithm=%{customdata[0]}<br>ProofType=%{customdata[1]}<extra></extra>",
         "hovertext": [
          "Bitshares",
          "PayCoin",
          "CasinoCoin",
          "Exclusive Coin",
          "HyperStake",
          "MintCoin",
          "Nautilus Coin",
          "SuperCoin",
          "TeslaCoin",
          "TittieCoin",
          "Crypti",
          "BurstCoin",
          "RubyCoin",
          "Dnotes",
          "Ucoin",
          "Squall Coin",
          "Diggits",
          "GPU Coin",
          "ZeitCoin",
          "SafeExchangeCoin",
          "Nebuchadnezzar",
          "Let it Ride",
          "MudraCoin",
          "Lutetium Coin",
          "BitCurrency",
          "Opair",
          "CoffeeCoin",
          "RoyalCoin",
          "TeamUP",
          "ARK",
          "FreeCoin",
          "Creatio",
          "PandaCoin",
          "Allsafe",
          "Zilbercoin",
          "FindCoin",
          "RenosCoin",
          "Atmos",
          "MacronCoin",
          "ProCurrency",
          "GrowthCoin",
          "Phreak",
          "Ultimate Secure Cash",
          "QTUM",
          "Signatum",
          "Draftcoin",
          "Stakecoin",
          "Obsidian",
          "Cardano",
          "Rupee",
          "KekCoin",
          "Infinity Economics",
          "Lamden Tau",
          "Bulwark",
          "Kalkulus",
          "Digiwage",
          "Monkey Project",
          "TokenPay",
          "Tokyo Coin",
          "BiblePay",
          "Poa Network",
          "Velox",
          "Ontology",
          "MedicCoin",
          "Bitcoin Green",
          "Deviant Coin",
          "Semux",
          "Zealium",
          "Proton",
          "Bitcoin Incognito",
          "HollyWoodCoin",
          "Xt3ch",
          "Dekado",
          "Lynx",
          "Poseidon Quark",
          "BitcoinWSpectrum",
          "Dystem",
          "Peony Coin",
          "Vitae",
          "ARENON",
          "MMOCoin",
          "Ketan",
          "PAXEX",
          "Acute Angle Cloud",
          "Bettex coin",
          "Junson Ming Chan Coin",
          "Crypto Sports",
          "Dash Platinum",
          "ALAX",
          "NeosCoin",
          "Radium",
          "Lisk",
          "HiCoin",
          "Fiii",
          "EOS",
          "Oxycoin",
          "TigerCash",
          "Waves",
          "Particl",
          "Nxt",
          "ZEPHYR",
          "BitcoinPlus"
         ],
         "legendgroup": "1",
         "marker": {
          "color": [
           1,
           1,
           1,
           1,
           1,
           1,
           1,
           1,
           1,
           1,
           1,
           1,
           1,
           1,
           1,
           1,
           1,
           1,
           1,
           1,
           1,
           1,
           1,
           1,
           1,
           1,
           1,
           1,
           1,
           1,
           1,
           1,
           1,
           1,
           1,
           1,
           1,
           1,
           1,
           1,
           1,
           1,
           1,
           1,
           1,
           1,
           1,
           1,
           1,
           1,
           1,
           1,
           1,
           1,
           1,
           1,
           1,
           1,
           1,
           1,
           1,
           1,
           1,
           1,
           1,
           1,
           1,
           1,
           1,
           1,
           1,
           1,
           1,
           1,
           1,
           1,
           1,
           1,
           1,
           1,
           1,
           1,
           1,
           1,
           1,
           1,
           1,
           1,
           1,
           1,
           1,
           1,
           1,
           1,
           1,
           1,
           1,
           1,
           1,
           1,
           1,
           1
          ],
          "coloraxis": "coloraxis",
          "symbol": "x"
         },
         "mode": "markers",
         "name": "1",
         "scene": "scene",
         "showlegend": true,
         "type": "scatter3d",
         "x": [
          0.19048330548240944,
          0.1281583925520773,
          1.1716192848406362,
          0.15863466347769872,
          0.06115442911769756,
          0.41937791689923104,
          0.09756047388879402,
          0.0365218663145388,
          0.19659183051035456,
          0.22176080480821778,
          0.1958769149186012,
          0.19996347184914462,
          0.09756299347473929,
          0.10486253042070982,
          0.03599796938767684,
          -0.09169474016270156,
          0.09967848074147088,
          0.1000047750188103,
          1.6600960218799294,
          0.21514248214578235,
          0.15905408670136134,
          0.16458865613005008,
          0.027624596705126823,
          0.052355956011917774,
          0.09971804821603271,
          0.16041909803819843,
          0.16120459254533853,
          0.02558486881228924,
          0.16186935159059934,
          0.6819593272389076,
          0.15981214212465303,
          0.15905408670136134,
          0.938400438408871,
          0.13327779805674148,
          0.09775334644088364,
          0.02588871580835139,
          0.09804610788009167,
          0.1613483806106906,
          0.1686776311440632,
          0.8895869472343597,
          0.12189011838965891,
          0.15902516296709415,
          0.13003478229854007,
          0.16619199175419472,
          0.07459711513281,
          0.09761047779788118,
          0.15923363545967698,
          0.11380554584208408,
          1.0274800599046678,
          0.210319399998357,
          0.16918101813445088,
          0.35526679971100655,
          0.6884825320171416,
          0.1897286566360435,
          0.13342590077092298,
          0.1345960484839375,
          0.03603409442649567,
          0.16422793855950787,
          0.03711561223040276,
          0.41902136350072344,
          0.2865397908467037,
          0.09879545197500708,
          0.06597243724784531,
          0.10626456261335886,
          0.25612198375588463,
          0.1597717456542968,
          0.47543024776881576,
          0.15952720690481131,
          0.010695191460664739,
          -0.12202038769861577,
          0.0980008940812548,
          0.09771308182556862,
          0.016659374744502846,
          2.526702211991337,
          0.13959623263257334,
          0.1297412650245806,
          0.13328663003590185,
          0.26826651751807357,
          0.1349797649522551,
          0.036603625654733025,
          0.10141775860789486,
          0.16081846026664853,
          0.03683632821694278,
          0.8164284605515629,
          0.005665518008848912,
          0.29618044851795305,
          0.13313139434979288,
          0.03596505503743499,
          0.7043234683623955,
          0.12812949816936697,
          0.15869776652969322,
          0.6824919806898284,
          0.34993003276365897,
          0.509486323449519,
          0.6944981506614264,
          0.696039191251574,
          0.15311868698455464,
          0.47738118284147607,
          0.15877670913998831,
          0.12009009854822157,
          0.5607499929072426,
          0.09716370741822784
         ],
         "y": [
          -0.8079848135194947,
          -0.9535180571248144,
          -0.6653276103255764,
          -1.210859457607511,
          -0.17597994862097566,
          -0.6236634998948584,
          -0.6962025492216205,
          -0.1815320209451579,
          -1.5105696284062733,
          -1.3291355038085786,
          -1.5107134623844836,
          -0.7897152969109473,
          -0.696199181388171,
          -0.6946404219721957,
          -0.18165356600590526,
          0.19815668381850285,
          -0.695739664657142,
          -0.6956870673627864,
          -0.3611428774757207,
          -0.8743629810549087,
          -1.210768382416666,
          -1.2535587144530342,
          -0.0955011090874473,
          -0.1780767791899556,
          -0.6957134414397198,
          -1.2104700594448916,
          -1.2102871287284105,
          -0.09592667774812821,
          -1.210182460693396,
          -3.507648017529308,
          -1.210602711491656,
          -1.210768382416666,
          -0.5123047527845144,
          -0.9964000617637436,
          -0.6961657943436138,
          -0.09586027282395967,
          -0.6960962469578376,
          -1.210266883148751,
          -1.208665035980066,
          -0.794871876365538,
          -0.6910620510543888,
          -1.2107766321884466,
          -0.9531275882746731,
          -1.2532088373354857,
          -0.4812220659543603,
          -0.6961914906974084,
          -1.2107351117333562,
          -0.8246603867392677,
          -1.1989545424014751,
          -1.6395687334818012,
          -1.2965569166682727,
          -0.9038840879179664,
          -3.506242608899893,
          -1.4680685855424644,
          -0.9963675453013496,
          -0.9961211039865933,
          -0.18164559662837412,
          -1.2536385477067864,
          -0.09346570482970619,
          -1.677880610177576,
          -1.5466265927353005,
          -0.6959428486649305,
          -0.26313796681428253,
          -0.6943244100250577,
          -2.025563684929835,
          -1.2106183925348586,
          -1.7927758974776906,
          -1.210672126112977,
          0.03281629043521467,
          0.4555305632420364,
          -0.6961049797686064,
          -0.6961729662755433,
          -0.009882659547697554,
          -1.186072699580893,
          -0.9950858001364691,
          -0.9531764717117684,
          -0.9963991093669884,
          -0.6606444148001277,
          -0.9960311549903923,
          -0.18152311043071384,
          -0.6953753268143209,
          -1.2104035795769896,
          -0.18147844748362724,
          -3.753972456565268,
          0.07571722242178591,
          -0.1230061079287865,
          -0.9964327784518027,
          -0.18166093284238877,
          -3.502758655276823,
          -0.953526040707666,
          -1.2108467918938464,
          -3.507534002349995,
          -0.6410487674757492,
          -2.078312757598072,
          -3.5048001902640515,
          -3.504452846429821,
          -0.9480630012199172,
          -2.4846345887994397,
          -1.210828935261825,
          -1.0154261988105062,
          -2.082122237403877,
          -0.6962893517743074
         ],
         "z": [
          -1.2166918777703362,
          -1.1061241167920013,
          -1.4699712566890522,
          -0.8696597994618711,
          -1.8157013253096823,
          -1.343618033730396,
          -1.342607517262958,
          -1.8156267095985776,
          -0.5935393350230346,
          -0.7464864964476406,
          -0.5937577094594984,
          -1.6293443295876993,
          -1.3426432082708086,
          -1.34156261954551,
          -1.8155810146320435,
          -1.390657161265323,
          -1.3424290763750955,
          -1.3421630952672774,
          -1.1290417318227748,
          -1.5505538937236143,
          -0.869616961952938,
          -0.8301732537524029,
          -1.8940200790647375,
          -1.8142257254726235,
          -1.3426497362534335,
          -0.8695020051639374,
          -0.8695793683767148,
          -1.8944494666954235,
          -0.8690057723473268,
          -1.0800839272065184,
          -0.8695530962092503,
          -0.869616961952938,
          -1.2734818253948383,
          -1.066703410400425,
          -1.3425224878659663,
          -1.894423867756646,
          -1.3425687476554382,
          -0.869424786059274,
          -0.8688080610204493,
          -0.9430531481789745,
          -1.3383060983139548,
          -0.8695948203363726,
          -1.1057161024197653,
          -0.8300314513804388,
          -1.5394239003386474,
          -1.342604965151543,
          -0.8695257612607471,
          -1.224198759181011,
          -0.6153258504258918,
          -0.47545642729378745,
          -0.7907840318707428,
          -1.0869910275447132,
          -1.0792766618833392,
          -0.6331086606623052,
          -1.0666928320245344,
          -1.0664758365541458,
          -1.8155789186599551,
          -0.8301909069869325,
          -1.892725588632759,
          -1.5747136107852164,
          -1.3335023275079125,
          -1.3423734719436873,
          -1.7346491188807562,
          -1.3415668665103861,
          -0.12072548334745851,
          -0.8694691686337406,
          -2.6567414681801504,
          -0.8694860710911553,
          -2.0126027354074383,
          -1.627103188954277,
          -1.3425871943312744,
          -1.3425466253009142,
          -1.9730908584643219,
          -2.2085575156753436,
          -1.0653221207390977,
          -1.1059353607623938,
          -1.0666902047524554,
          -1.3059331389299424,
          -1.0665211068931386,
          -1.8155056602474262,
          -1.3420814808713997,
          -0.869203280461097,
          -1.8154071221280896,
          -1.6214347911842388,
          -2.052007173109111,
          -1.816413254218817,
          -1.0667065617241018,
          -1.8155815765496286,
          -1.0782219463323062,
          -1.106105283364685,
          -0.869640142008409,
          -1.0800085316461279,
          -1.3213341773523746,
          -2.7794673478873717,
          -1.0803975842032703,
          -1.0804022522453416,
          -1.104021892528478,
          -1.246398708398983,
          -0.8696411880050907,
          -0.6550470614505157,
          -2.376794751657152,
          -1.3426397933734928
         ]
        },
        {
         "customdata": [
          [
           "TRC10",
           "DPoS"
          ]
         ],
         "hovertemplate": "<b>%{hovertext}</b><br><br>class=%{marker.color}<br>PC 1=%{x}<br>PC 2=%{y}<br>PC 3=%{z}<br>Algorithm=%{customdata[0]}<br>ProofType=%{customdata[1]}<extra></extra>",
         "hovertext": [
          "BitTorrent"
         ],
         "legendgroup": "2",
         "marker": {
          "color": [
           2
          ],
          "coloraxis": "coloraxis",
          "symbol": "cross"
         },
         "mode": "markers",
         "name": "2",
         "scene": "scene",
         "showlegend": true,
         "type": "scatter3d",
         "x": [
          25.459357630637196
         ],
         "y": [
          3.931404236581106
         ],
         "z": [
          -0.7858800338600167
         ]
        }
       ],
       "layout": {
        "coloraxis": {
         "colorbar": {
          "title": {
           "text": "class"
          }
         },
         "colorscale": [
          [
           0,
           "#0d0887"
          ],
          [
           0.1111111111111111,
           "#46039f"
          ],
          [
           0.2222222222222222,
           "#7201a8"
          ],
          [
           0.3333333333333333,
           "#9c179e"
          ],
          [
           0.4444444444444444,
           "#bd3786"
          ],
          [
           0.5555555555555556,
           "#d8576b"
          ],
          [
           0.6666666666666666,
           "#ed7953"
          ],
          [
           0.7777777777777778,
           "#fb9f3a"
          ],
          [
           0.8888888888888888,
           "#fdca26"
          ],
          [
           1,
           "#f0f921"
          ]
         ]
        },
        "legend": {
         "title": {
          "text": "class"
         },
         "tracegroupgap": 0,
         "x": 0,
         "y": 1
        },
        "margin": {
         "t": 60
        },
        "scene": {
         "domain": {
          "x": [
           0,
           1
          ],
          "y": [
           0,
           1
          ]
         },
         "xaxis": {
          "title": {
           "text": "PC 1"
          }
         },
         "yaxis": {
          "title": {
           "text": "PC 2"
          }
         },
         "zaxis": {
          "title": {
           "text": "PC 3"
          }
         }
        },
        "template": {
         "data": {
          "bar": [
           {
            "error_x": {
             "color": "#2a3f5f"
            },
            "error_y": {
             "color": "#2a3f5f"
            },
            "marker": {
             "line": {
              "color": "#E5ECF6",
              "width": 0.5
             }
            },
            "type": "bar"
           }
          ],
          "barpolar": [
           {
            "marker": {
             "line": {
              "color": "#E5ECF6",
              "width": 0.5
             }
            },
            "type": "barpolar"
           }
          ],
          "carpet": [
           {
            "aaxis": {
             "endlinecolor": "#2a3f5f",
             "gridcolor": "white",
             "linecolor": "white",
             "minorgridcolor": "white",
             "startlinecolor": "#2a3f5f"
            },
            "baxis": {
             "endlinecolor": "#2a3f5f",
             "gridcolor": "white",
             "linecolor": "white",
             "minorgridcolor": "white",
             "startlinecolor": "#2a3f5f"
            },
            "type": "carpet"
           }
          ],
          "choropleth": [
           {
            "colorbar": {
             "outlinewidth": 0,
             "ticks": ""
            },
            "type": "choropleth"
           }
          ],
          "contour": [
           {
            "colorbar": {
             "outlinewidth": 0,
             "ticks": ""
            },
            "colorscale": [
             [
              0,
              "#0d0887"
             ],
             [
              0.1111111111111111,
              "#46039f"
             ],
             [
              0.2222222222222222,
              "#7201a8"
             ],
             [
              0.3333333333333333,
              "#9c179e"
             ],
             [
              0.4444444444444444,
              "#bd3786"
             ],
             [
              0.5555555555555556,
              "#d8576b"
             ],
             [
              0.6666666666666666,
              "#ed7953"
             ],
             [
              0.7777777777777778,
              "#fb9f3a"
             ],
             [
              0.8888888888888888,
              "#fdca26"
             ],
             [
              1,
              "#f0f921"
             ]
            ],
            "type": "contour"
           }
          ],
          "contourcarpet": [
           {
            "colorbar": {
             "outlinewidth": 0,
             "ticks": ""
            },
            "type": "contourcarpet"
           }
          ],
          "heatmap": [
           {
            "colorbar": {
             "outlinewidth": 0,
             "ticks": ""
            },
            "colorscale": [
             [
              0,
              "#0d0887"
             ],
             [
              0.1111111111111111,
              "#46039f"
             ],
             [
              0.2222222222222222,
              "#7201a8"
             ],
             [
              0.3333333333333333,
              "#9c179e"
             ],
             [
              0.4444444444444444,
              "#bd3786"
             ],
             [
              0.5555555555555556,
              "#d8576b"
             ],
             [
              0.6666666666666666,
              "#ed7953"
             ],
             [
              0.7777777777777778,
              "#fb9f3a"
             ],
             [
              0.8888888888888888,
              "#fdca26"
             ],
             [
              1,
              "#f0f921"
             ]
            ],
            "type": "heatmap"
           }
          ],
          "heatmapgl": [
           {
            "colorbar": {
             "outlinewidth": 0,
             "ticks": ""
            },
            "colorscale": [
             [
              0,
              "#0d0887"
             ],
             [
              0.1111111111111111,
              "#46039f"
             ],
             [
              0.2222222222222222,
              "#7201a8"
             ],
             [
              0.3333333333333333,
              "#9c179e"
             ],
             [
              0.4444444444444444,
              "#bd3786"
             ],
             [
              0.5555555555555556,
              "#d8576b"
             ],
             [
              0.6666666666666666,
              "#ed7953"
             ],
             [
              0.7777777777777778,
              "#fb9f3a"
             ],
             [
              0.8888888888888888,
              "#fdca26"
             ],
             [
              1,
              "#f0f921"
             ]
            ],
            "type": "heatmapgl"
           }
          ],
          "histogram": [
           {
            "marker": {
             "colorbar": {
              "outlinewidth": 0,
              "ticks": ""
             }
            },
            "type": "histogram"
           }
          ],
          "histogram2d": [
           {
            "colorbar": {
             "outlinewidth": 0,
             "ticks": ""
            },
            "colorscale": [
             [
              0,
              "#0d0887"
             ],
             [
              0.1111111111111111,
              "#46039f"
             ],
             [
              0.2222222222222222,
              "#7201a8"
             ],
             [
              0.3333333333333333,
              "#9c179e"
             ],
             [
              0.4444444444444444,
              "#bd3786"
             ],
             [
              0.5555555555555556,
              "#d8576b"
             ],
             [
              0.6666666666666666,
              "#ed7953"
             ],
             [
              0.7777777777777778,
              "#fb9f3a"
             ],
             [
              0.8888888888888888,
              "#fdca26"
             ],
             [
              1,
              "#f0f921"
             ]
            ],
            "type": "histogram2d"
           }
          ],
          "histogram2dcontour": [
           {
            "colorbar": {
             "outlinewidth": 0,
             "ticks": ""
            },
            "colorscale": [
             [
              0,
              "#0d0887"
             ],
             [
              0.1111111111111111,
              "#46039f"
             ],
             [
              0.2222222222222222,
              "#7201a8"
             ],
             [
              0.3333333333333333,
              "#9c179e"
             ],
             [
              0.4444444444444444,
              "#bd3786"
             ],
             [
              0.5555555555555556,
              "#d8576b"
             ],
             [
              0.6666666666666666,
              "#ed7953"
             ],
             [
              0.7777777777777778,
              "#fb9f3a"
             ],
             [
              0.8888888888888888,
              "#fdca26"
             ],
             [
              1,
              "#f0f921"
             ]
            ],
            "type": "histogram2dcontour"
           }
          ],
          "mesh3d": [
           {
            "colorbar": {
             "outlinewidth": 0,
             "ticks": ""
            },
            "type": "mesh3d"
           }
          ],
          "parcoords": [
           {
            "line": {
             "colorbar": {
              "outlinewidth": 0,
              "ticks": ""
             }
            },
            "type": "parcoords"
           }
          ],
          "pie": [
           {
            "automargin": true,
            "type": "pie"
           }
          ],
          "scatter": [
           {
            "marker": {
             "colorbar": {
              "outlinewidth": 0,
              "ticks": ""
             }
            },
            "type": "scatter"
           }
          ],
          "scatter3d": [
           {
            "line": {
             "colorbar": {
              "outlinewidth": 0,
              "ticks": ""
             }
            },
            "marker": {
             "colorbar": {
              "outlinewidth": 0,
              "ticks": ""
             }
            },
            "type": "scatter3d"
           }
          ],
          "scattercarpet": [
           {
            "marker": {
             "colorbar": {
              "outlinewidth": 0,
              "ticks": ""
             }
            },
            "type": "scattercarpet"
           }
          ],
          "scattergeo": [
           {
            "marker": {
             "colorbar": {
              "outlinewidth": 0,
              "ticks": ""
             }
            },
            "type": "scattergeo"
           }
          ],
          "scattergl": [
           {
            "marker": {
             "colorbar": {
              "outlinewidth": 0,
              "ticks": ""
             }
            },
            "type": "scattergl"
           }
          ],
          "scattermapbox": [
           {
            "marker": {
             "colorbar": {
              "outlinewidth": 0,
              "ticks": ""
             }
            },
            "type": "scattermapbox"
           }
          ],
          "scatterpolar": [
           {
            "marker": {
             "colorbar": {
              "outlinewidth": 0,
              "ticks": ""
             }
            },
            "type": "scatterpolar"
           }
          ],
          "scatterpolargl": [
           {
            "marker": {
             "colorbar": {
              "outlinewidth": 0,
              "ticks": ""
             }
            },
            "type": "scatterpolargl"
           }
          ],
          "scatterternary": [
           {
            "marker": {
             "colorbar": {
              "outlinewidth": 0,
              "ticks": ""
             }
            },
            "type": "scatterternary"
           }
          ],
          "surface": [
           {
            "colorbar": {
             "outlinewidth": 0,
             "ticks": ""
            },
            "colorscale": [
             [
              0,
              "#0d0887"
             ],
             [
              0.1111111111111111,
              "#46039f"
             ],
             [
              0.2222222222222222,
              "#7201a8"
             ],
             [
              0.3333333333333333,
              "#9c179e"
             ],
             [
              0.4444444444444444,
              "#bd3786"
             ],
             [
              0.5555555555555556,
              "#d8576b"
             ],
             [
              0.6666666666666666,
              "#ed7953"
             ],
             [
              0.7777777777777778,
              "#fb9f3a"
             ],
             [
              0.8888888888888888,
              "#fdca26"
             ],
             [
              1,
              "#f0f921"
             ]
            ],
            "type": "surface"
           }
          ],
          "table": [
           {
            "cells": {
             "fill": {
              "color": "#EBF0F8"
             },
             "line": {
              "color": "white"
             }
            },
            "header": {
             "fill": {
              "color": "#C8D4E3"
             },
             "line": {
              "color": "white"
             }
            },
            "type": "table"
           }
          ]
         },
         "layout": {
          "annotationdefaults": {
           "arrowcolor": "#2a3f5f",
           "arrowhead": 0,
           "arrowwidth": 1
          },
          "coloraxis": {
           "colorbar": {
            "outlinewidth": 0,
            "ticks": ""
           }
          },
          "colorscale": {
           "diverging": [
            [
             0,
             "#8e0152"
            ],
            [
             0.1,
             "#c51b7d"
            ],
            [
             0.2,
             "#de77ae"
            ],
            [
             0.3,
             "#f1b6da"
            ],
            [
             0.4,
             "#fde0ef"
            ],
            [
             0.5,
             "#f7f7f7"
            ],
            [
             0.6,
             "#e6f5d0"
            ],
            [
             0.7,
             "#b8e186"
            ],
            [
             0.8,
             "#7fbc41"
            ],
            [
             0.9,
             "#4d9221"
            ],
            [
             1,
             "#276419"
            ]
           ],
           "sequential": [
            [
             0,
             "#0d0887"
            ],
            [
             0.1111111111111111,
             "#46039f"
            ],
            [
             0.2222222222222222,
             "#7201a8"
            ],
            [
             0.3333333333333333,
             "#9c179e"
            ],
            [
             0.4444444444444444,
             "#bd3786"
            ],
            [
             0.5555555555555556,
             "#d8576b"
            ],
            [
             0.6666666666666666,
             "#ed7953"
            ],
            [
             0.7777777777777778,
             "#fb9f3a"
            ],
            [
             0.8888888888888888,
             "#fdca26"
            ],
            [
             1,
             "#f0f921"
            ]
           ],
           "sequentialminus": [
            [
             0,
             "#0d0887"
            ],
            [
             0.1111111111111111,
             "#46039f"
            ],
            [
             0.2222222222222222,
             "#7201a8"
            ],
            [
             0.3333333333333333,
             "#9c179e"
            ],
            [
             0.4444444444444444,
             "#bd3786"
            ],
            [
             0.5555555555555556,
             "#d8576b"
            ],
            [
             0.6666666666666666,
             "#ed7953"
            ],
            [
             0.7777777777777778,
             "#fb9f3a"
            ],
            [
             0.8888888888888888,
             "#fdca26"
            ],
            [
             1,
             "#f0f921"
            ]
           ]
          },
          "colorway": [
           "#636efa",
           "#EF553B",
           "#00cc96",
           "#ab63fa",
           "#FFA15A",
           "#19d3f3",
           "#FF6692",
           "#B6E880",
           "#FF97FF",
           "#FECB52"
          ],
          "font": {
           "color": "#2a3f5f"
          },
          "geo": {
           "bgcolor": "white",
           "lakecolor": "white",
           "landcolor": "#E5ECF6",
           "showlakes": true,
           "showland": true,
           "subunitcolor": "white"
          },
          "hoverlabel": {
           "align": "left"
          },
          "hovermode": "closest",
          "mapbox": {
           "style": "light"
          },
          "paper_bgcolor": "white",
          "plot_bgcolor": "#E5ECF6",
          "polar": {
           "angularaxis": {
            "gridcolor": "white",
            "linecolor": "white",
            "ticks": ""
           },
           "bgcolor": "#E5ECF6",
           "radialaxis": {
            "gridcolor": "white",
            "linecolor": "white",
            "ticks": ""
           }
          },
          "scene": {
           "xaxis": {
            "backgroundcolor": "#E5ECF6",
            "gridcolor": "white",
            "gridwidth": 2,
            "linecolor": "white",
            "showbackground": true,
            "ticks": "",
            "zerolinecolor": "white"
           },
           "yaxis": {
            "backgroundcolor": "#E5ECF6",
            "gridcolor": "white",
            "gridwidth": 2,
            "linecolor": "white",
            "showbackground": true,
            "ticks": "",
            "zerolinecolor": "white"
           },
           "zaxis": {
            "backgroundcolor": "#E5ECF6",
            "gridcolor": "white",
            "gridwidth": 2,
            "linecolor": "white",
            "showbackground": true,
            "ticks": "",
            "zerolinecolor": "white"
           }
          },
          "shapedefaults": {
           "line": {
            "color": "#2a3f5f"
           }
          },
          "ternary": {
           "aaxis": {
            "gridcolor": "white",
            "linecolor": "white",
            "ticks": ""
           },
           "baxis": {
            "gridcolor": "white",
            "linecolor": "white",
            "ticks": ""
           },
           "bgcolor": "#E5ECF6",
           "caxis": {
            "gridcolor": "white",
            "linecolor": "white",
            "ticks": ""
           }
          },
          "title": {
           "x": 0.05
          },
          "xaxis": {
           "automargin": true,
           "gridcolor": "white",
           "linecolor": "white",
           "ticks": "",
           "title": {
            "standoff": 15
           },
           "zerolinecolor": "white",
           "zerolinewidth": 2
          },
          "yaxis": {
           "automargin": true,
           "gridcolor": "white",
           "linecolor": "white",
           "ticks": "",
           "title": {
            "standoff": 15
           },
           "zerolinecolor": "white",
           "zerolinewidth": 2
          }
         }
        },
        "width": 800
       }
      },
      "text/html": [
       "<div>\n",
       "        \n",
       "        \n",
       "            <div id=\"4924734e-5c68-4514-a1ec-eac0ce2bfa99\" class=\"plotly-graph-div\" style=\"height:525px; width:800px;\"></div>\n",
       "            <script type=\"text/javascript\">\n",
       "                require([\"plotly\"], function(Plotly) {\n",
       "                    window.PLOTLYENV=window.PLOTLYENV || {};\n",
       "                    \n",
       "                if (document.getElementById(\"4924734e-5c68-4514-a1ec-eac0ce2bfa99\")) {\n",
       "                    Plotly.newPlot(\n",
       "                        '4924734e-5c68-4514-a1ec-eac0ce2bfa99',\n",
       "                        [{\"customdata\": [[\"Scrypt\", \"PoW/PoS\"], [\"Scrypt\", \"PoW/PoS\"], [\"SHA-256\", \"PoW\"], [\"Scrypt\", \"PoW\"], [\"X11\", \"PoW/PoS\"], [\"SHA-256\", \"PoW/PoS\"], [\"Scrypt\", \"PoW\"], [\"X15\", \"PoW/PoS\"], [\"X11\", \"PoW\"], [\"Scrypt\", \"PoW\"], [\"Scrypt\", \"PoW/PoS\"], [\"Scrypt\", \"PoW/PoS\"], [\"SHA-256\", \"PoW\"], [\"Scrypt\", \"PoW\"], [\"Scrypt\", \"PoW\"], [\"Scrypt\", \"PoW/PoS\"], [\"Quark\", \"PoW\"], [\"Scrypt\", \"PoW\"], [\"Scrypt\", \"PoW/PoS\"], [\"Scrypt\", \"PoW\"], [\"Scrypt\", \"PoW/PoS\"], [\"Scrypt\", \"PoW\"], [\"X11\", \"PoW\"], [\"SHA-256\", \"PoW\"], [\"Scrypt\", \"PoW\"], [\"Scrypt\", \"PoW\"], [\"Scrypt\", \"PoW\"], [\"Scrypt\", \"PoW\"], [\"Scrypt\", \"PoS/PoW/PoT\"], [\"Scrypt\", \"PoW\"], [\"Scrypt\", \"PoW\"], [\"Scrypt\", \"PoW\"], [\"Scrypt\", \"PoW\"], [\"Scrypt\", \"PoW/PoS\"], [\"Scrypt\", \"PoW\"], [\"X11\", \"PoW/PoS\"], [\"SHA-256\", \"PoW\"], [\"Scrypt\", \"PoW\"], [\"Scrypt\", \"PoW\"], [\"Scrypt\", \"PoW\"], [\"SHA3\", \"PoW/PoS\"], [\"Scrypt\", \"PoW\"], [\"Scrypt\", \"PoW\"], [\"SHA-256\", \"PoW/PoS\"], [\"X13\", \"PoW/PoS\"], [\"Scrypt\", \"PoW\"], [\"SHA-256\", \"PoW\"], [\"Scrypt\", \"PoW\"], [\"X13\", \"PoW/PoS\"], [\"Scrypt\", \"PoW/PoS\"], [\"Scrypt\", \"PoW/PoS\"], [\"Scrypt\", \"PoW/PoS\"], [\"Scrypt\", \"PoW\"], [\"Scrypt\", \"PoW\"], [\"Scrypt\", \"PoW\"], [\"X11\", \"PoW/PoS\"], [\"SHA-256\", \"PoW\"], [\"SHA-256\", \"PoW\"], [\"X11\", \"PoW/PoS\"], [\"SHA-256\", \"PoW\"], [\"SHA-256\", \"PoW\"], [\"SHA-256\", \"PoW\"], [\"X11\", \"PoW\"], [\"Scrypt\", \"PoW/PoS\"], [\"Scrypt\", \"PoW/PoS\"], [\"Scrypt\", \"PoW\"], [\"Scrypt\", \"PoST\"], [\"Scrypt\", \"PoW\"], [\"X11\", \"PoW/PoS\"], [\"SHA-256\", \"PoW\"], [\"X13\", \"PoW/PoS\"], [\"Scrypt\", \"PoW/PoS\"], [\"Scrypt\", \"PoW\"], [\"SHA-256\", \"PoW/PoS\"], [\"Scrypt\", \"PoW\"], [\"Scrypt\", \"PoW\"], [\"X13\", \"PoW/PoS\"], [\"Scrypt\", \"PoW\"], [\"Scrypt\", \"PoW\"], [\"Scrypt\", \"PoW/PoS\"], [\"X13\", \"PoW/PoS\"], [\"Scrypt\", \"PoW\"], [\"Stanford Folding\", \"PoW\"], [\"QuBit\", \"PoW\"], [\"Scrypt\", \"PoW\"], [\"Scrypt\", \"PoW/PoS\"], [\"Scrypt\", \"PoW\"], [\"Scrypt\", \"PoW\"], [\"SHA-256\", \"PoW\"], [\"Scrypt\", \"PoW\"], [\"X11\", \"PoW/PoS\"], [\"SHA3\", \"PoW/nPoS\"], [\"X11\", \"PoW\"], [\"SHA-256\", \"PoW\"], [\"QUAIT\", \"PoW/PoS\"], [\"X11\", \"PoW\"], [\"Scrypt\", \"PoW\"], [\"Scrypt\", \"PoW\"], [\"X13\", \"PoW/PoS\"], [\"SHA-256\", \"PoW/PoS\"], [\"X15\", \"PoW/PoS\"], [\"X11\", \"PoW\"], [\"SHA-256\", \"PoW\"], [\"Scrypt\", \"PoW\"], [\"SHA-256\", \"PoW/PoS\"], [\"X11\", \"PoW/PoS\"], [\"Scrypt\", \"PoW\"], [\"SHA-256\", \"PoW/PoS\"], [\"SHA-256\", \"PoW\"], [\"Scrypt\", \"PoW/PoS\"], [\"X11\", \"PoW\"], [\"Scrypt\", \"PoW\"], [\"X11GOST\", \"PoW\"], [\"X11\", \"PoW/PoS\"], [\"SHA-256\", \"PoW/PoS\"], [\"Scrypt\", \"PoW\"], [\"X11\", \"PoW\"], [\"X11\", \"PoW/PoS\"], [\"SHA-256\", \"PoW/PoS\"], [\"SHA-256\", \"PoW/PoS\"], [\"X11\", \"PoW/PoS\"], [\"Scrypt\", \"PoW\"], [\"Scrypt\", \"PoW/PoS\"], [\"Scrypt\", \"PoW/PoS\"], [\"Scrypt\", \"PoW/PoS\"], [\"X11\", \"PoW\"], [\"X11\", \"PoW/PoS\"], [\"Scrypt\", \"PoW/PoS\"], [\"SHA-256\", \"PoW/PoS\"], [\"SHA-256\", \"PoW\"], [\"X11\", \"PoW/PoS\"], [\"Scrypt\", \"PoW/PoS\"], [\"Scrypt\", \"PoW/PoS\"], [\"Scrypt\", \"PoW\"], [\"SHA-256\", \"PoW\"], [\"Scrypt\", \"PoW/PoW\"], [\"Scrypt\", \"PoW\"], [\"SHA-256D\", \"PoW/PoS\"], [\"Scrypt\", \"PoW/PoS\"], [\"X11\", \"PoW/PoS\"], [\"X14\", \"PoW/PoS\"], [\"SHA-256D\", \"PoW/PoS\"], [\"X11\", \"PoW/PoS\"], [\"Scrypt\", \"PoW\"], [\"X11\", \"PoW\"], [\"X13\", \"PoW/PoS\"], [\"X11\", \"PoW/PoS\"], [\"Scrypt\", \"PoW/PoS\"], [\"Scrypt\", \"PoW/PoS\"], [\"X11\", \"PoW\"], [\"X11\", \"PoW/PoS\"], [\"SHA-256\", \"PoW/PoS\"], [\"Scrypt\", \"PoW/PoS\"], [\"X11\", \"TPoS\"], [\"Scrypt\", \"PoW/PoS\"], [\"Scrypt\", \"PoW/PoS\"], [\"X11\", \"PoW/PoS\"], [\"Scrypt\", \"PoW/PoS\"], [\"Scrypt\", \"PoW/PoS\"], [\"Scrypt\", \"PoW/PoS\"], [\"QuBit\", \"PoW/PoS\"], [\"Scrypt\", \"PoW\"], [\"Scrypt\", \"PoW/PoS\"], [\"SHA-256\", \"PoW/PoS\"], [\"X11\", \"PoW/PoS\"], [\"Scrypt\", \"PoW/PoS\"], [\"X11\", \"PoW\"], [\"Scrypt\", \"PoW/PoS\"], [\"Scrypt\", \"PoW/PoS \"], [\"Scrypt\", \"PoW\"], [\"X11\", \"PoW\"], [\"Scrypt\", \"PoW/PoS\"], [\"Scrypt\", \"PoW\"], [\"X11\", \"PoW/PoS\"], [\"X11\", \"PoW/PoS\"], [\"Scrypt\", \"PoW\"], [\"X11\", \"PoW/PoS\"], [\"X11\", \"PoW/PoS\"], [\"Scrypt\", \"PoW/PoS\"], [\"Scrypt\", \"PoW/PoS\"], [\"Scrypt\", \"PoW/PoS\"], [\"X11\", \"PoW/PoS\"], [\"Scrypt\", \"PoW\"], [\"SHA-256\", \"PoW\"], [\"Scrypt\", \"PoW/PoS\"], [\"X15\", \"PoW/PoS\"], [\"Scrypt\", \"PoW\"], [\"X11\", \"PoW\"], [\"Skein\", \"PoW/PoS\"], [\"Scrypt\", \"PoW\"], [\"X13\", \"PoW/PoS\"], [\"Scrypt\", \"PoW\"], [\"X11\", \"PoW\"], [\"X11\", \"PoW\"], [\"Scrypt\", \"PoW/PoS\"], [\"X13\", \"PoW/PoS\"], [\"Time Travel\", \"PoW\"], [\"X11\", \"PoW\"], [\"Skein\", \"PoW/PoS\"], [\"SHA-256\", \"PoW\"], [\"X11\", \"PoW/PoS\"], [\"VeChainThor Authority\", \"Proof of Authority\"], [\"Scrypt\", \"PoW\"], [\"Scrypt\", \"PoW\"], [\"Scrypt\", \"PoW\"], [\"Scrypt\", \"PoW\"], [\"Scrypt\", \"PoW\"], [\"Scrypt\", \"PoW\"], [\"Scrypt\", \"PoW/PoS\"], [\"Scrypt\", \"PoW/PoS\"], [\"X11\", \"PoW/PoS\"], [\"X11\", \"PoW\"], [\"Scrypt\", \"PoW/PoS\"], [\"Scrypt\", \"PoW/PoS\"], [\"SHA-256\", \"PoW/PoS\"], [\"PHI1612\", \"PoW/PoS\"], [\"Scrypt\", \"PoW/PoS\"], [\"Quark\", \"PoW/PoS\"], [\"Scrypt\", \"PoW\"], [\"Scrypt\", \"PoW/PoS\"], [\"X11\", \"PoW\"], [\"X11\", \"PoW/PoS\"], [\"X13\", \"PoW/PoS\"], [\"Scrypt\", \"PoW/PoS\"], [\"X11\", \"PoW\"], [\"Scrypt\", \"PoW/PoS\"], [\"Scrypt\", \"PoW/PoS\"], [\"Scrypt\", \"PoW\"], [\"X11\", \"PoW/PoS\"], [\"X11\", \"PoW\"], [\"Scrypt\", \"PoW\"], [\"Scrypt\", \"PoW/PoS\"], [\"Scrypt\", \"PoW/PoS\"], [\"X11\", \"PoW\"], [\"SHA-256\", \"PoW\"], [\"Scrypt\", \"PoW and PoS\"], [\"SkunkHash\", \"PoW\"], [\"Scrypt\", \"PoW/PoS\"], [\"Scrypt\", \"PoW\"], [\"SHA-256 + Hive\", \"PoW + Hive\"], [\"Scrypt\", \"PoW\"], [\"Scrypt\", \"PoW\"], [\"X11\", \"PoW\"], [\"X11\", \"PoW/PoS\"], [\"XEVAN\", \"PoW/PoS\"], [\"Scrypt\", \"PoW\"], [\"Scrypt\", \"PoW/PoS\"], [\"Scrypt\", \"PoW/PoS\"], [\"Scrypt\", \"PoW/PoS\"], [\"X11\", \"PoW\"], [\"Quark\", \"PoW/PoS\"], [\"Scrypt\", \"PoW/PoS\"], [\"Tribus\", \"PoW\"], [\"Scrypt\", \"PoW/PoS\"], [\"SHA-256D\", \"PoW/PoS\"], [\"Scrypt\", \"PoW/PoS\"], [\"X16R\", \"PoW\"], [\"X11\", \"PoW\"], [\"X16R\", \"PoW/PoS\"], [\"Quark\", \"PoW/PoS\"], [\"Scrypt\", \"PoW\"], [\"Scrypt\", \"PoW/PoS\"], [\"XEVAN\", \"PoW\"], [\"X11\", \"PoW/PoS\"], [\"SHA-256\", \"PoW\"], [\"X11\", \"PoW\"], [\"Scrypt\", \"PoW/PoS\"], [\"SHA-512\", \"Zero-Knowledge Proof\"], [\"X16R\", \"PoW\"], [\"SHA-256\", \"PoW\"], [\"XEVAN\", \"Pos\"], [\"Quark\", \"PoW/PoS\"], [\"Scrypt\", \"PoW\"], [\"Scrypt\", \"PoW/PoS\"], [\"Quark\", \"PoW/PoS\"], [\"Scrypt\", \"PoW/PoS\"], [\"QuBit\", \"PoW\"], [\"Scrypt\", \"PoW/PoS\"], [\"XEVAN\", \"PoW/PoS\"], [\"SHA-256D\", \"PoW/PoS\"], [\"X11\", \"PoW/PoS\"], [\"SHA-256\", \"PoW\"], [\"X13\", \"PoW\"], [\"SHA-256\", \"PoW\"], [\"X11\", \"PoW/PoS\"], [\"Scrypt\", \"PoW/PoS\"], [\"Scrypt\", \"PoW\"], [\"X11\", \"PoW/PoS\"], [\"Scrypt\", \"PoW/PoS\"], [\"Scrypt\", \"PoW/PoS\"], [\"Scrypt\", \"PoW/PoS\"], [\"X11\", \"PoW/PoS\"], [\"Scrypt\", \"PoW\"], [\"Scrypt\", \"PoW/PoS\"], [\"SHA-256\", \"PoW/PoS\"], [\"X11\", \"PoW/PoS\"], [\"SHA-256\", \"PoW\"], [\"Scrypt\", \"PoW/PoS\"], [\"Scrypt\", \"PoW\"], [\"Scrypt\", \"PoW/PoS\"], [\"X11\", \"PoW/PoS\"], [\"Scrypt\", \"PoW/PoS\"], [\"Scrypt\", \"PoW\"], [\"Scrypt\", \"PoW\"], [\"X11\", \"Proof of Trust\"], [\"SHA-256\", \"PoW/PoS\"], [\"Scrypt\", \"PoW/PoS\"], [\"X13\", \"PoW/PoS\"], [\"Scrypt\", \"PoW/PoS\"]], \"hovertemplate\": \"<b>%{hovertext}</b><br><br>class=%{marker.color}<br>PC 1=%{x}<br>PC 2=%{y}<br>PC 3=%{z}<br>Algorithm=%{customdata[0]}<br>ProofType=%{customdata[1]}<extra></extra>\", \"hovertext\": [\"42 Coin\", \"404Coin\", \"Bitcoin\", \"Litecoin\", \"Dash\", \"BitcoinDark\", \"ProsperCoin\", \"KoboCoin\", \"Spreadcoin\", \"Argentum\", \"Aurora Coin\", \"BlueCoin\", \"ZetaCoin\", \"SexCoin\", \"Quatloo\", \"EnergyCoin\", \"QuarkCoin\", \"Digitalcoin \", \"BitBar\", \"Catcoin\", \"CryptoBullion\", \"CannaCoin\", \"CryptCoin\", \"DevCoin\", \"EarthCoin\", \"E-Gulden\", \"Einsteinium\", \"Emerald\", \"FlutterCoin\", \"Franko\", \"GrandCoin\", \"GlobalCoin\", \"GoldCoin\", \"HoboNickels\", \"Infinite Coin\", \"IOCoin\", \"IXcoin\", \"KrugerCoin\", \"LuckyCoin\", \"Litebar \", \"MaxCoin\", \"MegaCoin\", \"MinCoin\", \"MazaCoin\", \"NavCoin\", \"NobleCoin\", \"Namecoin\", \"NyanCoin\", \"OpalCoin\", \"PotCoin\", \"PhoenixCoin\", \"Reddcoin\", \"RonPaulCoin\", \"StableCoin\", \"SmartCoin\", \"SyncCoin\", \"SysCoin\", \"TigerCoin\", \"TorCoin\", \"TerraCoin\", \"UnbreakableCoin\", \"Unobtanium\", \"UroCoin\", \"UnitaryStatus Dollar\", \"UltraCoin\", \"ViaCoin\", \"VeriCoin\", \"WorldCoin\", \"X11 Coin\", \"JouleCoin\", \"StealthCoin\", \"ZCC Coin\", \"MonaCoin\", \"Neutron\", \"Gulden\", \"PesetaCoin\", \"Kore\", \"Wild Beast Coin\", \"Flo\", \"8BIT Coin\", \"Sativa Coin\", \"ArtByte\", \"Folding Coin\", \"CypherPunkCoin\", \"OmniCron\", \"Vtorrent\", \"GreenCoin\", \"MasterCoin\", \"SoonCoin\", \"1Credit\", \"IslaCoin\", \"Nexus\", \"MarsCoin \", \"Anarchists Prime\", \"Droidz\", \"BowsCoin\", \"Song Coin\", \"BitZeny\", \"Paycon\", \"Emercoin\", \"EverGreenCoin\", \"MindCoin\", \"I0coin\", \"Revolution VR\", \"EDRCoin\", \"Hitcoin\", \"Gamecredits\", \"DubaiCoin\", \"CarpeDiemCoin\", \"BillaryCoin\", \"Adzcoin\", \"YoCoin\", \"SibCoin\", \"EuropeCoin\", \"SwingCoin\", \"Francs\", \"BolivarCoin\", \"Ratecoin\", \"Revenu\", \"Clockcoin\", \"BitSend\", \"Omni\", \"PutinCoin\", \"iBankCoin\", \"Frankywillcoin\", \"PizzaCoin\", \"GoldBlocks\", \"CarterCoin\", \"BitTokens\", \"ZayedCoin\", \"MustangCoin\", \"ZoneCoin\", \"RootCoin\", \"DopeCoin\", \"DollarCoin\", \"Swiscoin\", \"Shilling\", \"BuzzCoin\", \"PesoBit\", \"Halloween Coin\", \"GanjaCoin V2\", \"LanaCoin\", \"InsaneCoin\", \"KiloCoin\", \"ArtexCoin\", \"EmberCoin\", \"XenixCoin\", \"PLNCoin\", \"AquariusCoin\", \"Kurrent\", \"Eternity\", \"Eurocoin\", \"BitcoinFast\", \"Stakenet\", \"BitConnect Coin\", \"MoneyCoin\", \"Enigma\", \"Russiacoin\", \"GameUnits\", \"GAKHcoin\", \"LiteCreed\", \"OsmiumCoin\", \"Klingon Empire Darsek\", \"Internet of People\", \"KushCoin\", \"Printerium\", \"PacCoin\", \"Impeach\", \"FirstCoin\", \"BeaverCoin\", \"VaultCoin\", \"OpenChat\", \"Canada eCoin\", \"VirtacoinPlus\", \"Impact\", \"EB3coin\", \"HappyCoin\", \"Condensate\", \"Independent Money System\", \"ArgusCoin\", \"LomoCoin\", \"GoldReserve\", \"BenjiRolls\", \"ILCoin\", \"Degas Coin\", \"HTML5 Coin\", \"EquiTrader\", \"DigitalPrice\", \"Bitcoin Planet\", \"Unify\", \"BritCoin\", \"SocialCoin\", \"ArcticCoin\", \"DAS\", \"Linda\", \"DeepOnion\", \"Bitcore\", \"Onix\", \"Cream\", \"Bitcoin Cash\", \"Monoeci\", \"Vechain\", \"Sojourn Coin\", \"NewYorkCoin\", \"FrazCoin\", \"Kronecoin\", \"AdCoin\", \"Linx\", \"CoinonatX\", \"Ethereum Dark\", \"Regalcoin\", \"Elements\", \"TerraNovaCoin\", \"WomenCoin\", \"Theresa May Coin\", \"LUXCoin\", \"Xios\", \"Bitcloud 2.0\", \"eBoost\", \"BlackholeCoin\", \"Pura\", \"Magnet\", \"Bitcoin Diamond\", \"Cash & Back Coin\", \"AC3\", \"GermanCoin\", \"LiteCoin Ultra\", \"PopularCoin\", \"PhantomX\", \"Sucre\", \"IrishCoin\", \"Trollcoin\", \"Litecoin Plus\", \"Pioneer Coin\", \"UnitedBitcoin\", \"My Big Coin\", \"MUNcoin\", \"Unified Society USDEX\", \"ShareChain\", \"LitecoinCash\", \"BitFlip\", \"LottoCoin\", \"Crypto Improvement Fund\", \"Pushi\", \"Ellerium\", \"Poseidon\", \"Briacoin\", \"Ignition\", \"Abjcoin\", \"FuturoCoin\", \"Carebit\", \"iDealCash\", \"KEYCO\", \"Swisscoin\", \"TheVig\", \"EmaratCoin\", \"Motion\", \"Axe\", \"Trivechain\", \"Giant\", \"HexCoin\", \"TPCash\", \"Urals Coin\", \"EUNO\", \"Project Pai\", \"Azart\", \"ThunderStake\", \"Kcash\", \"Xchange\", \"Bitcoin SV\", \"BitMoney\", \"HerbCoin\", \"Block-Logic\", \"Oduwa\", \"Galilel\", \"Credit\", \"SLICE\", \"Nasdacoin\", \"Beetle Coin\", \"Titan Coin\", \"Award\", \"BLAST\", \"Bitcoin Rhodium\", \"GlobalToken\", \"Insane Coin\", \"LiteDoge\", \"SolarCoin\", \"TruckCoin\", \"OrangeCoin\", \"BitstarCoin\", \"HyperCoin\", \"PinkCoin\", \"Crypto Escudo\", \"AudioCoin\", \"IncaKoin\", \"Piggy Coin\", \"Crown Coin\", \"Genstake\", \"SmileyCoin\", \"XiaoMiCoin\", \"CapriCoin\", \" ClubCoin\", \"Bata\", \"Pakcoin\", \"Creditbit \", \"OKCash\", \"WhiteCoin\", \"Triangles Coin\", \"Gapcoin\"], \"legendgroup\": \"0\", \"marker\": {\"color\": [0, 0, 0, 0, 0, 0, 0, 0, 0, 0, 0, 0, 0, 0, 0, 0, 0, 0, 0, 0, 0, 0, 0, 0, 0, 0, 0, 0, 0, 0, 0, 0, 0, 0, 0, 0, 0, 0, 0, 0, 0, 0, 0, 0, 0, 0, 0, 0, 0, 0, 0, 0, 0, 0, 0, 0, 0, 0, 0, 0, 0, 0, 0, 0, 0, 0, 0, 0, 0, 0, 0, 0, 0, 0, 0, 0, 0, 0, 0, 0, 0, 0, 0, 0, 0, 0, 0, 0, 0, 0, 0, 0, 0, 0, 0, 0, 0, 0, 0, 0, 0, 0, 0, 0, 0, 0, 0, 0, 0, 0, 0, 0, 0, 0, 0, 0, 0, 0, 0, 0, 0, 0, 0, 0, 0, 0, 0, 0, 0, 0, 0, 0, 0, 0, 0, 0, 0, 0, 0, 0, 0, 0, 0, 0, 0, 0, 0, 0, 0, 0, 0, 0, 0, 0, 0, 0, 0, 0, 0, 0, 0, 0, 0, 0, 0, 0, 0, 0, 0, 0, 0, 0, 0, 0, 0, 0, 0, 0, 0, 0, 0, 0, 0, 0, 0, 0, 0, 0, 0, 0, 0, 0, 0, 0, 0, 0, 0, 0, 0, 0, 0, 0, 0, 0, 0, 0, 0, 0, 0, 0, 0, 0, 0, 0, 0, 0, 0, 0, 0, 0, 0, 0, 0, 0, 0, 0, 0, 0, 0, 0, 0, 0, 0, 0, 0, 0, 0, 0, 0, 0, 0, 0, 0, 0, 0, 0, 0, 0, 0, 0, 0, 0, 0, 0, 0, 0, 0, 0, 0, 0, 0, 0, 0, 0, 0, 0, 0, 0, 0, 0, 0, 0, 0, 0, 0, 0, 0, 0, 0, 0, 0, 0, 0, 0, 0, 0, 0, 0, 0, 0, 0, 0, 0, 0, 0, 0, 0, 0, 0, 0, 0, 0, 0, 0, 0, 0, 0, 0, 0], \"coloraxis\": \"coloraxis\", \"symbol\": \"circle\"}, \"mode\": \"markers\", \"name\": \"0\", \"scene\": \"scene\", \"showlegend\": true, \"type\": \"scatter3d\", \"x\": [-0.41266542545356133, -0.3913055807210595, -0.19030134717362865, -0.21967866006234657, -0.47370285277092583, -0.38172438302718925, -0.22118388243616563, -0.4905940203953469, -0.2825096723507889, -0.2206506116454245, -0.4122210307693851, -0.4030499948813657, -0.18648881870234674, -0.21699880513799213, -0.22035906975890882, -0.41080320202048554, -0.17923772120323636, -0.2204897405033107, -0.41265971408708174, -0.22116191566865323, -0.41263956607542107, -0.22127966029038157, -0.2826230500472359, 0.30616663017038737, 0.10509898951177393, -0.2209547464390162, -0.21513323566498946, -0.22086464063075723, -0.08704121317342216, -0.22135284990493626, -0.1937055760167859, -0.21978071632179136, -0.22012134184536658, -0.4100982671179468, 2.0677790811280112, -0.47357241801240013, -0.19025349617542014, -0.21650191841890884, -0.22098885463840975, -0.22145363541813964, -0.4004891412982646, -0.22048098211040787, -0.22129483750537457, -0.33302431008389555, -0.4832953110042869, -0.033636924029758104, -0.19034963097105945, -0.21300320605896597, -0.4840660106433887, -0.4050386000360263, -0.41055290384854876, 0.03094683281449624, -0.2212544618403156, -0.21858354797893143, -0.22057776456597575, -0.474062485656574, -0.1732599547025812, -0.18965015177232622, -0.47393948435186356, -0.1900127009395685, -0.18994011705182723, -0.19077991271797898, -0.2828628482719445, -0.3798178087883043, -0.41089163133140044, -0.22090057140120448, -0.15727234524316996, -0.2169837419049749, -0.4739015823495346, -0.18973623576666118, -0.4837945769293499, -0.4002897885115569, -0.2193865698477867, -0.3806856194986756, -0.19817480882171667, -0.217716548347734, -0.4841431224397654, -0.22145463977080712, -0.21755803101310373, -0.4126432146893404, -0.4840866079193158, -0.19935490717397356, -0.23115992918260803, -0.18045631771255727, -0.2212964157148555, -0.4122870961844827, -0.05035688736526317, -0.2214683772842535, -0.19038403851559713, 0.711048053827157, -0.47403960776486065, -0.5918600699058452, -0.2820590360672467, -0.1900174055056407, -0.36643666779190787, -0.2824282008699561, -0.21886020686112437, -0.2178057575450487, -0.4834398634275657, -0.37117908499433744, -0.4940568988338251, -0.28247882351606535, -0.19025488641306038, -0.21617764260979558, -0.3816883555711792, -0.03854660498626974, -0.21957580791762668, -0.38178283899917764, 0.357398895841714, -0.41210353418013923, -0.2813470531213934, -0.21976795633720755, -0.2874930382495191, -0.47001272530866517, -0.38149519946136373, -0.22118187499639905, -0.2824210947531472, -0.4712661711952578, -0.37969120592402683, -0.37639322901299693, -0.47228453866049136, -0.22146845384785127, -0.38008905333791226, -0.41214756107711586, -0.4101385751038666, -0.2826068614988974, -0.4733201860576748, -0.41109997443219826, -0.38174501247432396, -0.19059231722390454, -0.47402215343485765, -0.4124134950638018, -0.41263607151252296, -0.21768865156459108, -0.19053984944974114, -0.49863144501736417, -0.22101168527405493, 0.10678149716198597, -0.412158146726991, -0.45485301134127754, -0.48688493396470195, -0.29974176429392924, -0.4734808583512462, -0.11715155076958222, -0.26534399206606035, 0.9194108136180158, -0.47396514576147125, -0.41201617209013325, -0.4122026381896909, -0.27964147180281174, -0.4733624960893342, -0.38157626774640463, -0.41202459294179905, -0.9182331609573434, -0.4122139358789869, -0.4059050454835131, -0.4739995047301375, -0.4110790365937653, -0.41248110160898915, -0.4125816414537074, -0.37047752977565007, -0.22144298933791404, -0.4072346731693908, -0.38171579728736377, -0.4738820643419339, -0.41228381238235146, 0.7388650416411314, -0.41243844232129423, -0.4736130219434365, -0.2214028318773185, -0.2722851104419977, -0.38739691240511687, -0.21895954875582163, -0.4728497104198744, -0.47127343782686826, -0.1799692940271899, -0.47272322590063426, -0.4671533323355328, -0.41236917175804344, -0.4123581542910745, -0.40252165656040634, -0.4733972227706527, -0.22081716433523482, -0.14550441344949736, -0.41127791767121913, 1.032995040193796, -0.22054731367015143, -0.2813357634078867, -0.4268981121898296, -0.22101423986577948, -0.48366943996978484, -0.22064561491297677, -0.2818788642946304, -0.28264985308483803, 0.2310154652187098, -0.483772150452247, -0.26193317833778373, -0.2698779541167169, -0.4262848383844372, -0.19030031190196184, -0.47377594398600875, 0.9305134405138332, -0.11504654827161132, 1.9425372724216448, -0.22113446192204203, -0.22036847390163192, -0.21997638972784198, -0.2199602012588872, -0.4118806553001618, -0.41255929875557795, -0.473678939179618, -0.2237355001173801, -0.4124886882903658, 0.5740434431214645, -0.37956032132065226, -0.3351852098565695, -0.4124200364891673, -0.37435848157386764, -0.21895733046236843, -0.4122679264272666, -0.27668202558205923, -0.47202486726595694, -0.4793894648366129, -0.408857485659272, -0.276090835804621, 0.16846710961556718, -0.4110175909363972, -0.11081548815561529, -0.47287211318763245, -0.2826164256730586, -0.22014704991320802, -0.3945993034722215, -0.41258698303687563, -0.2825196916684093, -0.19027592217296646, -0.34849197465233944, -0.24170855268522182, -0.4067600606643417, 0.031201110524381542, -0.24145443219414847, -0.22089024417346922, 0.1843753953462905, -0.2746155943282133, -0.4737763042761484, -0.5041465403147287, -0.22120957857977985, -0.4126222214496372, -0.41259685678224584, -0.41221182557294733, -0.28138626770257363, -0.37270863534959786, -0.33950013763842224, -0.26733735727011176, -0.15492658259567563, -0.39068313992844256, -0.41148713748526977, -0.30811651037653376, -0.28259270129181835, -0.4982491923092903, -0.3767086719046279, -0.22123852973691244, -0.402447450699337, -0.31122791504345293, -0.47309006518667124, -0.13772160739808714, -0.2825518106931045, -0.21417420406789345, -0.8818646964782875, -0.3073020200754599, -0.19030035843381582, -0.04697999235684661, -0.3757687490888739, -0.2197337468274315, -0.41222894777199476, -0.37638111446302464, 0.8119868269313222, -0.17934342172878, -0.411503068955084, -0.4966825615151115, -0.32795469647782133, -0.4695719642337076, -0.18934544342217388, -0.2930749702523743, -0.1878022131046959, -0.4733986422800261, 0.1739118593804388, 0.7737183901145607, -0.47039180696998123, -0.4105846605035688, -0.4118041049679601, -0.4125196842078812, -0.4623913732529937, -0.19954143635363075, -0.29139453766235934, -0.10857151797859221, -0.4564473066778445, -0.19001192112492862, -0.4116054448392229, 0.7330002660463506, -0.40249270262354847, -0.46890707572517043, -0.4094755955218441, -0.22135689270980127, -0.21858475467785596, -0.8560022627759749, -0.3797725601840115, -0.40581113897773485, -0.4842920148145136, -0.40990543434134746], \"y\": [0.8231502329380385, 0.8278725869093416, -0.003828542785742193, 0.2537518190850369, 1.3378144202429387, 0.5659076197497592, 0.25342345059576504, 1.5100923194938367, 0.768026622343105, 0.25353620640951585, 0.8232474957872377, 0.825317509098891, -0.0029949643802057325, 0.2543271206054686, 0.2535956889232158, 0.8235699699928407, -0.04540942244167045, 0.25357520611885087, 0.8231514337380186, 0.25342840180944637, 0.8231558884876505, 0.25340322284840994, 0.7680014136019685, 0.10444278504558206, 0.3246336632994355, 0.25347509685110653, 0.25473899531018784, 0.2534935027707524, -0.12492591141269761, 0.2533870557454946, 0.2593747403522021, 0.2537312387321975, 0.2536540746076797, 0.8237080933909784, 0.7536711406488634, 1.3378438196691658, -0.003817757379247509, 0.25443644815576255, 0.25346758206039377, 0.25336604985815386, 0.7378064820353714, 0.25357824724141464, 0.2534003453435478, 0.5764695713811225, 1.4237270564499234, 0.2931036196862473, -0.00383942574329574, 0.25521265598130166, 1.423553344109445, 0.8247966056615262, 0.8236094273267267, 0.923138503003922, 0.2534075423056058, 0.25396992647433264, 0.2535548408485826, 1.3377371674583298, -0.00013752049617865112, -0.003686267519871992, 1.3377631611013996, -0.003767117207328849, -0.0037573329701065415, -0.0039328186113607826, 0.7679504790055853, 0.8302770645174671, 0.8235327335304105, 0.2534869615709507, 0.06353838202964444, 0.25432784724145624, 1.3377724827672217, -0.003705322308431208, 1.4236145240858693, 0.8257665987769394, 0.2538140001557911, 0.5661337922775848, 0.25832250755400366, 0.2541798137166733, 1.423533886860814, 0.25336560232505884, 0.2542166479228949, 0.823155239154782, 1.4235469710850934, 0.2581741917186908, 0.515218260607186, -0.08967680943967417, 0.25340113670425574, 0.823232045737846, 0.29020025685764006, 0.2533628535217298, -0.003847181053910286, 0.4476276104545875, 1.3377423242084845, 1.307558369439714, 0.7681259441633163, -0.003770212650035393, 0.4372499444648773, 0.7680448126110777, 0.25391444918848516, 0.2541452370490577, 1.4236858225230438, 0.5681152422404533, 1.5093678180287313, 0.7680342677312764, -0.003818070732753927, 0.2545191290136919, 0.565915740181361, 1.4313061035354044, 0.25377500151029836, 0.565896434089706, 0.11588193748403852, 0.8232696127399551, 0.7682775965276404, 0.25371709520163377, 0.8109381648991765, 1.3385835152244607, 0.5659561618482813, 0.2534240761127521, 0.7680457221036003, 1.3383544660657596, 0.5663311537871188, 0.5670221950833294, 1.3381138553525553, 0.25336283678896643, 0.830146707653626, 0.8232592854887146, 0.8237024691227991, 0.7680038510885513, 1.337895826286011, 0.8234875043914117, 0.5659031430110744, -0.0038921769454253823, 1.3377457391919818, 0.8232033829323959, 0.8231568491957113, 0.254180284667318, -0.003880507079342913, 1.211825584587477, 0.25346070564649303, 0.7606284748567979, 0.8232645713599053, 1.341807326224502, 1.4669361299055033, 0.6711619749115982, 1.3378630724273515, 0.275145030771192, 0.7718126284540292, 1.7397438134288814, 1.337758440805979, 0.8232899025232638, 0.823247275128029, 0.7686371080963744, 1.3378845593011264, 0.5659413503862853, 0.8232889631904015, 2.66766838671836, 0.8232471513614381, 0.8245613972232695, 1.337750498013717, 0.8234828790531877, 0.8231895291021781, 0.8231685437004572, 0.4803618487812355, 0.2533682133501788, 0.8242877764413806, 0.5659097279869157, 1.3377762151109727, 0.8232327858925381, 0.9809386123455405, 0.8231975984170943, 1.0136879594869617, 0.25337715292677887, 0.7701616062113605, 0.8286725968731057, 0.2539111348591684, 1.3379932170042323, 1.338346771490285, 0.2620244780209822, 1.338021726063737, 1.3392079362793166, 0.8232133365050968, 0.8232145413304708, 0.8252635454436638, 1.3378801930346846, 0.2535035945198614, 0.005839502880089467, 0.8234448010285305, 1.8379888291308653, 0.25355810493255626, 0.7682773723989018, 0.9520313336225699, 0.2534619854896557, 1.4236375379469761, 0.2535354291143202, 0.7681618817779128, 0.7679952165701526, 0.9595806604553406, 1.4236163086071985, 0.5965224465433937, 0.7706868638772946, 0.9521695628660829, -0.0038283094400194994, 1.337800107653435, 2.6167519022096193, 0.2755329647567721, 0.7411204049274019, 0.2534347628131188, 0.25359633805139303, 0.25368194333476374, 0.253685592145128, 0.823318766767186, 0.8231734266355998, 1.3378189450181672, 0.7809660377844385, 0.8231873460972284, 1.0412238922622261, 0.5663818920217004, 0.18007159734465347, 0.8232019085236215, 0.5235015954427163, 0.2539116348528469, 0.8232372684002357, 0.7692830424244171, 1.338171518909362, 1.4245710769069104, 0.8239721857323399, 0.7693816842621283, 0.9454825336448087, 0.8234956903437569, 0.2774383957295748, 1.3379968199585273, 0.7680025952191847, 0.2536497070297841, 0.8270665141906766, 0.823167221328986, 0.7680238448861386, -0.0038226677786694003, 0.6333153730758985, 0.4249398956120145, 0.8244411291132376, 0.3085830742086931, 0.23282959606749598, 0.25348634745330256, 0.3416530727177195, 0.7697228497033618, 1.3377973454472805, 1.59515875213325, 0.25341765879696043, 0.8231594517931052, 0.8231648227809921, 0.8232472809176026, 0.7682659889509421, 0.5238734635927796, 0.838755022448412, 0.6393403510169783, 0.8794783472095725, 0.6519457845947056, 0.8234012778191019, 0.9824319119857038, 0.7680077349327689, 1.5524486233102028, 0.523005591170369, 0.2534109420678442, 0.8252802711214112, 1.0257335585653522, 1.337947694527628, 0.007662932976253994, 0.7680162593003036, 0.8647744107668541, 2.219467998496506, 0.9826020098431465, -0.0038283199280966175, 2.503275404580568, 0.5232089924161564, 0.2537331730110337, 0.8232449790878397, 0.5230770184078753, 1.0862374634106677, -0.08944327241522465, 0.823397686935224, 1.5967649589551518, 0.6652365632492301, 1.3386766310930418, -0.0036205273441883034, 0.8537192752277103, -0.0032906870312642, 1.3378816035715633, 0.9493054886769459, 0.46069763343494674, 1.338564522613061, 0.8235846185363738, 0.8233349818728589, 0.8231830823870426, 1.3402812611072008, 0.2581321488543611, 0.8486671501271896, 0.627446013120508, 1.3415345034077946, -0.003766941440506903, 0.8233865522249564, 0.45984359348308984, 0.8253739008212538, 1.3388631804135978, 0.8238415189031428, 0.25338722361491667, 0.2539814218087764, 2.4774112575958744, 0.5663331890626361, 0.8246432446075319, 1.423502382988186, 0.8237290607132091], \"z\": [0.35722699423776055, 0.358335564905742, -0.04368780606873768, -0.28004407959548183, -0.11570799958505006, 0.5937659899207652, -0.2801784602663431, -0.2726562637810643, -0.7531633047083464, -0.28008524341350527, 0.3572626294462102, 0.35719786757006206, -0.043371200963473654, -0.2796861008387981, -0.2800067321292977, 0.3572213531922708, -0.0037921986582030508, -0.280120651023388, 0.35722807954466573, -0.2801785268069622, 0.3572291212134424, -0.2801955045866926, -0.753167372070824, 0.0010754096210556098, -0.25144023016979944, -0.2801791543534953, -0.27958193962921574, -0.28015516789496353, -0.7052122729334482, -0.2801994823788599, -0.2771749968014991, -0.2800746460549889, -0.28006866158212607, 0.3574838658662426, -0.08734912386835696, -0.11570839469141138, -0.04368795101655686, -0.279653596947073, -0.2801812564348915, -0.2802209792587095, 0.4362720510542287, -0.28013427605165836, -0.28020238356935, 0.5989052555480004, -0.19458886207111475, -0.2477118780320482, -0.0436876598099051, -0.27950633428545235, -0.19458652750681957, 0.35813015944674, 0.3574367242238293, 0.3558832263703439, -0.2801782464707883, -0.2796813004160836, -0.2801136932010735, -0.11575542680289598, -0.041827344995817466, -0.043632411836758395, -0.11573374759536095, -0.0436423670165488, -0.043558781675415006, -0.043732118476918776, -0.753206342890251, 0.36065613416991743, 0.357442161080408, -0.28017490765732384, -0.4927089518039709, -0.279652137431783, -0.11574378670720088, -0.04363658827016554, -0.19458734972007238, 0.359394906718279, -0.2799983863275972, 0.5938642917612917, -0.2765893992121688, -0.27986832902188963, -0.19455982912096745, -0.28021815771488706, -0.27988289288040763, 0.35722692686541346, -0.19456441111233996, -0.2780854966713706, -0.5145733565188674, 0.03509745913166589, -0.2802169976435927, 0.357269956133793, -0.25868823189377715, -0.2802225456967792, -0.043687555584314613, -0.08015182267070095, -0.11575549830884677, 1.0736749649979158, -0.753135999550011, -0.04361641725906387, 0.7119744226728855, -0.7531613460974024, -0.27976814908798164, -0.27968365645945514, -0.19447815418896408, 0.5958909280588283, -0.2733596666689558, -0.7531722197549752, -0.043687946805319455, -0.2797768042717397, 0.5937658807882209, -0.058521295659502974, -0.28004439114998714, 0.5937408048900404, 0.0023014174910580324, 0.35731791890203135, -0.7530256808411739, -0.27985778072769024, -0.7925700880827382, -0.11492082265055081, 0.5938049928935791, -0.28018067174740335, -0.7531525460219896, -0.11559849444546044, 0.5942025100839677, 0.5948591573725788, -0.11545426404390428, -0.28022255214721925, 0.3615391159003599, 0.3573231981992012, 0.357439879960641, -0.7531519833067761, -0.11564740753335402, 0.35742073818051706, 0.5937638470102158, -0.04371176630514488, -0.11574893497994192, 0.3572725444150991, 0.3572269052276641, -0.2797942812022319, -0.04370993530965517, 0.788905299840386, -0.2801591332752319, 0.5574843176965688, 0.35722545752212037, -0.11250551703630497, -0.23378814887934718, 0.5311614669442296, -0.11569102883749344, -0.2584859008838966, -0.7521567100090385, -0.19696327819664877, -0.11574722573763115, 0.3573100235844349, 0.35731821910287553, -0.7527132696692113, -0.11562522536769516, 0.5937611304570107, 0.35729783117520264, 1.3717928072122216, 0.3572873777221066, 0.35864148128709694, -0.11574459278579993, 0.35753976636885465, 0.35725510600361615, 0.35723405299269617, 0.6727186665552046, -0.2802180027106242, 0.35831324369823947, 0.5937637585130516, -0.1157353462176912, 0.35726994618666585, -0.5357612866939494, 0.35727467835687593, 0.5699447880838372, -0.2802167002957679, -0.751032984212217, 0.3593558522712631, -0.2800109714874061, -0.11553856266304247, -0.1155212834258559, -0.2715280179119647, -0.11553894580353893, -0.11467365775270164, 0.3572728779648883, 0.35728913782134814, 0.3594016673798833, -0.11566922817990137, -0.2801475478167985, -0.03835631551150743, 0.3574543582005429, -0.07955731234737358, -0.28006791311669393, -0.7529904286357945, 0.2391985460968734, -0.2801827744846901, -0.19452156677184504, -0.28006099914687366, -0.7530769995111269, -0.753165306020218, 0.4655471998811947, -0.19454573958597812, -0.5955006272421044, -0.7508197358256368, 0.2391966883989371, -0.043687809204730185, -0.11573532964819813, 1.17210956741969, -0.2573895771380566, -0.28677900815703045, -0.2801808153686859, -0.28004199004635294, -0.28000789132425724, -0.28000794036154725, 0.3573310319308311, 0.3572359353524661, -0.11569704502176147, -0.7494157280513963, 0.35726115707802136, 0.4093731112745547, 0.5939314558722858, 0.9485851240370122, 0.3572725642300534, 0.6335669390802185, -0.2800109782069483, 0.3572584041284312, -0.7524531754462371, -0.11544402362620755, -0.19413755941506228, 0.3576785933742129, -0.752013886203257, 0.4657366681906454, 0.35755281264213556, -0.26953209489338203, -0.11564876481298791, -0.7531634224166366, -0.2800867687771889, 0.3591571293667872, 0.357235578132243, -0.7531566581576606, -0.04368972238864949, 0.1448081846435765, -0.43784879307527164, 0.3577207587656561, -0.25893528324841836, 0.1311332472572199, -0.2801374471362054, -0.24085851579577575, -0.7521286249412608, -0.11570116088879565, -0.3521161779093595, -0.2801783824288868, 0.35723347947443207, 0.3572378134415178, 0.35729178213012514, -0.7529902756507441, 0.6335619414496341, 0.3683013179381374, -0.6349215737125561, 0.37894134700206533, 0.515103747881284, 0.3574086785538668, -0.9502346616966858, -0.7531608478010595, -0.3126536173250215, 0.6331443381291466, -0.2801758571842392, 0.3594014425992489, -0.9892414888284956, -0.11564810460383623, -0.03926205088343823, -0.7531521500638874, 0.39632293865377305, 2.177470414374997, -0.9500652746406444, -0.043687809063778255, 0.6499070102905968, 0.6332492225581946, -0.2799645183213265, 0.35727198539379373, 0.6331739678886678, 0.518481276462473, 0.03531462802609175, 0.35740872681266794, -0.3511684113165213, 0.5257201951637615, -0.11484276337354765, -0.04359586943424956, -0.8320321781768575, -0.0433711824858802, -0.11569127788225063, 0.43263917184816547, -0.06688871910235882, -0.11576654804217947, 0.35766177124248005, 0.3573440415338402, 0.3572265526731383, -0.11468808243786503, -0.27808493164663106, 0.3800163488843325, 0.5933090763405731, -0.11360338779040058, -0.043642369378723816, 0.3572568643089499, -0.17284512867029245, 0.35807833953878976, -0.11531232226793221, 0.3575701957100144, -0.2802132225959965, -0.2798312639761459, 1.159181405528335, 0.5939431257766239, 0.3578678515554987, -0.19458557825840916, 0.3577699837762804]}, {\"customdata\": [[\"X13\", \"PoW/PoS\"], [\"Scrypt\", \"PoW\"], [\"CryptoNight\", \"PoW\"], [\"Scrypt\", \"PoW\"], [\"CryptoNight\", \"PoW\"], [\"CryptoNight Heavy\", \"PoW\"]], \"hovertemplate\": \"<b>%{hovertext}</b><br><br>class=%{marker.color}<br>PC 1=%{x}<br>PC 2=%{y}<br>PC 3=%{z}<br>Algorithm=%{customdata[0]}<br>ProofType=%{customdata[1]}<extra></extra>\", \"hovertext\": [\"EliteCoin\", \"MoonCoin\", \"ByteCoin\", \"gCn Coin\", \"TurtleCoin\", \"Qwertycoin\"], \"legendgroup\": \"4\", \"marker\": {\"color\": [4, 4, 4, 4, 4, 4], \"coloraxis\": \"coloraxis\", \"symbol\": \"diamond\"}, \"mode\": \"markers\", \"name\": \"4\", \"scene\": \"scene\", \"showlegend\": true, \"type\": \"scatter3d\", \"x\": [3.1431523167574045, 3.670818229681261, 4.6536781432555525, 4.273157062352415, 10.938854473739445, 3.369699849982], \"y\": [2.186747662978523, 1.0642166587568611, -0.5732470668474848, 1.231822188223009, 0.7022773521797298, -0.8186151586300773], \"z\": [0.48727300119108435, 0.5548594573286144, 1.8073531910791196, 0.14724124156684315, 3.5868901435094767, 1.7718174969344145]}, {\"customdata\": [[\"Ethash\", \"PoW\"], [\"CryptoNight-V7\", \"PoW\"], [\"Ethash\", \"PoW\"], [\"Equihash\", \"PoW\"], [\"Multiple\", \"PoW\"], [\"Multiple\", \"PoW\"], [\"Groestl\", \"PoW\"], [\"Groestl\", \"PoW/PoS\"], [\"Multiple\", \"PoW\"], [\"NeoScrypt\", \"PoW\"], [\"HybridScryptHash256\", \"PoW\"], [\"NeoScrypt\", \"PoW/PoS\"], [\"Lyra2REv2\", \"PoW\"], [\"CryptoNight\", \"PoW\"], [\"Counterparty\", \"PoS\"], [\"Groestl\", \"PoW/PoS\"], [\"Multiple\", \"PoW\"], [\"M7 POW\", \"PoW\"], [\"Lyra2RE\", \"PoW\"], [\"Ethash\", \"PoW\"], [\"Blake2b\", \"PoW\"], [\"BLAKE256\", \"PoW/PoS\"], [\"1GB AES Pattern Search\", \"PoW\"], [\"NIST5\", \"PoW/PoS\"], [\"Dagger\", \"PoW\"], [\"NIST5\", \"PoW/PoS\"], [\"Equihash\", \"dPoW/PoW\"], [\"CryptoNight\", \"PoW\"], [\"Multiple\", \"PoW\"], [\"Lyra2Z\", \"PoW\"], [\"Ethash\", \"PoW\"], [\"Equihash\", \"PoW\"], [\"CryptoNight\", \"PoW\"], [\"CryptoNight\", \"PoW\"], [\"Lyra2RE\", \"PoW\"], [\"CryptoNight-V7\", \"PoW\"], [\"Equihash\", \"PoW\"], [\"Lyra2RE\", \"PoW\"], [\"Dagger-Hashimoto\", \"PoW\"], [\"Blake2S\", \"PoW/PoS\"], [\"NIST5\", \"PoW\"], [\"CryptoNight-V7\", \"PoW\"], [\"536\", \"PoW/PoS\"], [\"Argon2d\", \"PoW\"], [\"Blake2b\", \"PoW\"], [\"Cloverhash\", \"PoW\"], [\"CryptoNight\", \"PoW\"], [\"NIST5\", \"PoW/PoS\"], [\"NIST5\", \"PoW/PoS\"], [\"CryptoNight\", \"PoW\"], [\"Keccak\", \"PoW\"], [\"CryptoNight\", \"PoW\"], [\"Equihash\", \"PoW\"], [\"NeoScrypt\", \"PoW/PoS\"], [\"NeoScrypt\", \"PoW\"], [\"Equihash\", \"PoW\"], [\"NIST5\", \"PoW/PoS\"], [\"Dagger\", \"PoW\"], [\"NeoScrypt\", \"PoW\"], [\"Ethash\", \"PoW\"], [\"NeoScrypt\", \"PoW\"], [\"NIST5\", \"PoW/PoS\"], [\"Multiple\", \"PoW\"], [\"CryptoNight\", \"PoW\"], [\"CryptoNight\", \"PoW\"], [\"Ethash\", \"PoW\"], [\"CryptoNight-V7\", \"PoW\"], [\"BLAKE256\", \"PoW\"], [\"NeoScrypt\", \"PoW\"], [\"NeoScrypt\", \"PoW\"], [\"C11\", \"PoW\"], [\"Ethash\", \"PoS\"], [\"CryptoNight\", \"PoW\"], [\"Dagger\", \"PoW\"], [\"Lyra2REv2\", \"PoW\"], [\"C11\", \"PoW/PoS\"], [\"Ethash\", \"PoW\"], [\"CryptoNight\", \"PoW\"], [\"IMesh\", \"PoW\"], [\"NIST5\", \"PoW/PoS\"], [\"Equihash\", \"PoW\"], [\"Lyra2Z\", \"PoW\"], [\"CryptoNight\", \"PoW\"], [\"NIST5\", \"PoW\"], [\"Lyra2RE\", \"PoW\"], [\"Lyra2Z\", \"PoW\"], [\"CryptoNight\", \"PoW\"], [\"CryptoNight Heavy\", \"PoW\"], [\"CryptoNight\", \"PoW\"], [\"Jump Consistent Hash\", \"PoW\"], [\"CryptoNight\", \"PoW\"], [\"DPoS\", \"PoS\"], [\"HMQ1725\", \"PoW\"], [\"Lyra2REv2\", \"PoW/PoS\"], [\"CryptoNight-V7\", \"PoW\"], [\"Cryptonight-GPU\", \"PoW\"], [\"Keccak\", \"PoW/PoS\"], [\"Equihash\", \"PoW\"], [\"Lyra2Z\", \"PoW\"], [\"CryptoNight\", \"PoW\"], [\"Blake\", \"PoW\"], [\"Blake\", \"PoW\"], [\"Equihash\", \"PoS\"], [\"Exosis\", \"PoW\"], [\"Equihash\", \"PoW\"], [\"Equihash\", \"PoW\"], [\"NeoScrypt\", \"PoW\"], [\"Blake\", \"PoW\"], [\"Groestl\", \"PoW\"], [\"NeoScrypt\", \"PoW/PoS\"], [\"Multiple\", \"PoW\"], [\"Equihash+Scrypt\", \"PoW\"], [\"Ethash\", \"PoW\"], [\"CryptoNight\", \"PoW\"], [\"Equihash\", \"PoW\"]], \"hovertemplate\": \"<b>%{hovertext}</b><br><br>class=%{marker.color}<br>PC 1=%{x}<br>PC 2=%{y}<br>PC 3=%{z}<br>Algorithm=%{customdata[0]}<br>ProofType=%{customdata[1]}<extra></extra>\", \"hovertext\": [\"Ethereum\", \"Monero\", \"Ethereum Classic\", \"ZCash\", \"DigiByte\", \"MyriadCoin\", \"Riecoin\", \"Diamond\", \"Verge\", \"FeatherCoin\", \"MediterraneanCoin\", \"Orbitcoin\", \"Vertcoin\", \"DigitalNote \", \"StorjCoin\", \"FairCoin\", \"Unitus\", \"Cryptonite\", \"Crypto\", \"Expanse\", \"Siacoin\", \"Decred\", \"HOdlcoin\", \"PWR Coin\", \"SoilCoin\", \"VIP Tokens\", \"Komodo\", \"Karbo\", \"Circuits of Value\", \"ZCoin\", \"Elementrem\", \"ZClassic\", \"Cannabis Industry Coin\", \"Bikercoins\", \"HexxCoin\", \"Citadel\", \"Zero\", \"Zoin\", \"DubaiCoin\", \"TajCoin\", \"Coinonat\", \"Quantum Resistant Ledger\", \"Espers\", \"Dynamic\", \"Nano\", \"ChanCoin\", \"Dinastycoin\", \"Denarius\", \"Virta Unique Coin\", \"LeviarCoin\", \"SmartCash\", \"Sumokoin\", \"BitcoinZ\", \"TrezarCoin\", \"VIVO Coin\", \"Bitcoin Gold\", \"NamoCoin\", \"Pirl\", \"Innova\", \"Ellaism\", \"GoByte\", \"Electra\", \"SHIELD\", \"UltraNote\", \"BitCoal\", \"DaxxCoin\", \"Lethean\", \"Photon\", \"SparksPay\", \"GunCoin\", \"Interzone\", \"1717 Masonic Commemorative Token\", \"Niobio Cash\", \"Travelflex\", \"KREDS\", \"Stipend\", \"Callisto Network\", \"BitTube\", \"Aidos Kuneen\", \"Bitspace\", \"Bitrolium\", \"Alpenschillling\", \"Monero Classic\", \"Jumpcoin\", \"Infinex\", \"GINcoin\", \"PlatinCoin\", \"Loki\", \"Newton Coin\", \"MassGrid\", \"PluraCoin\", \"Muse\", \"PlusOneCoin\", \"Absolute Coin\", \"Webchain\", \"Ryo\", \"XDNA\", \"CrypticCoin\", \"Actinium\", \"FREDEnergy\", \"Universal Molecule\", \"Lithium\", \"PirateCash\", \"Exosis\", \"Beam\", \"Bithereum\", \"UFO Coin\", \"BlakeCoin\", \"Groestlcoin\", \"FriendshipCoin\", \"JoinCoin\", \"Vollar\", \"Reality Clash\", \"Beldex\", \"Horizen\"], \"legendgroup\": \"3\", \"marker\": {\"color\": [3, 3, 3, 3, 3, 3, 3, 3, 3, 3, 3, 3, 3, 3, 3, 3, 3, 3, 3, 3, 3, 3, 3, 3, 3, 3, 3, 3, 3, 3, 3, 3, 3, 3, 3, 3, 3, 3, 3, 3, 3, 3, 3, 3, 3, 3, 3, 3, 3, 3, 3, 3, 3, 3, 3, 3, 3, 3, 3, 3, 3, 3, 3, 3, 3, 3, 3, 3, 3, 3, 3, 3, 3, 3, 3, 3, 3, 3, 3, 3, 3, 3, 3, 3, 3, 3, 3, 3, 3, 3, 3, 3, 3, 3, 3, 3, 3, 3, 3, 3, 3, 3, 3, 3, 3, 3, 3, 3, 3, 3, 3, 3, 3, 3, 3], \"coloraxis\": \"coloraxis\", \"symbol\": \"square\"}, \"mode\": \"markers\", \"name\": \"3\", \"scene\": \"scene\", \"showlegend\": true, \"type\": \"scatter3d\", \"x\": [-0.051012530005768525, -0.011450356650791051, -0.04879804407865558, -0.042084610252889065, 0.26119075127958796, -0.07845238122329777, -0.06639008716622592, -0.2590783076865174, 0.28458347906613307, -0.1279414139197414, -0.0755850925343844, -0.32559927095264074, -0.10729688645593857, 0.20439686306091603, 0.32811675178315636, -0.258367763235875, -0.12328666132457752, -0.08978359658344015, -0.10293146921825433, -0.05231185659000584, 0.519841587696853, -0.15647452292577052, 0.050690471000527, -0.16819576847553794, -0.026669550185001927, -0.31839474014617397, -0.8033537297563464, -0.0012580683210819785, -0.09697622114620191, -0.11370768782597819, -0.05197986604702535, -0.04211138697056035, -0.0012501399649894832, -0.001082802384242869, -0.10367652786152758, -0.009669460851904557, -0.04213213715162719, -0.10331277988233942, -0.03211992329235287, -0.16651867720633953, -0.12874612043037748, -0.00960167385830079, 0.7052439747663025, 0.039752970580677144, 0.02445341985753444, 0.009337676480140096, 0.04617602406454136, -0.32040531119699633, -0.31840099241544, -0.0007161460357305581, -0.008980767620477495, -0.00044142242474787437, 0.24931392765362734, -0.31886799734277815, -0.134168105647222, -0.041936021485032594, -0.29992373472904177, -0.0249612630328988, -0.13395222229482034, -0.0496108707113242, -0.13409423630561532, 0.4132610715968649, -0.11029238508895053, 1.1518780260796648, -0.0012830038945549594, 0.056602292966892336, 0.005097434109249119, 1.4019217543041205, -0.1341732140298788, -0.12490008630901993, 0.014284928129998388, 0.26603450411402674, 0.003954670301115713, -0.024422221849110165, -0.08803076055438698, -0.17694362700449795, 0.016990232091828653, 0.009869729523430184, -0.0827088717705908, -0.3198543435971297, -0.04061988574462517, -0.11058454207285125, -0.001048923532287984, -0.12885671177452265, -0.1034627610611417, -0.11382697765949702, 0.004605201345436164, -0.0047839564896108916, 2.488465188246678, -0.08469821407006836, 0.01713379639314222, 0.2971507746569759, -0.07276405152654722, -0.29937019617421223, 0.006263471372819363, -0.01585916249790988, -0.28097427189348906, 0.0987129771214806, -0.1129813602672922, 0.10867557856887797, 0.03031014250645912, 0.029716263467634382, 0.2774946898745303, -0.057539459614246925, -0.039205364245588105, -0.0417155369193418, -0.03608368822549097, 0.10052761049722878, -0.06581784028582083, -0.32505938921238464, -0.12419315982763056, -0.024726358145417467, -0.052023267119067663, 0.027548172381722205, -0.04208591948146178], \"y\": [-1.161387336487703, -1.5047539046846863, -1.1609245412591622, -1.2474495837237793, -0.478155610323465, -0.5514217650579197, -1.0327615158345287, -0.46329656921499607, -0.47211378944639504, -0.474217496746203, -0.9467831762194195, 0.09417102931767753, -0.6896980204642857, -1.5459042974024186, -2.5818802965409167, -0.46313565763809134, -0.5611811188147271, -0.5979835475276347, -0.7327463867766214, -1.1616831246701176, -1.6492157976960633, -1.3208822734939991, -2.019187380872657, 0.08561428160374623, -1.3760830449244206, 0.05174451345932761, 1.0324617131933795, -1.590529265215871, -0.5554585188139655, -0.6470966905928839, -1.1616099046537782, -1.247455619079268, -1.590529381735871, -1.5904923567695548, -0.732904665510791, -1.5043845125614963, -1.2474596038844235, -0.7328245818383338, -1.333271266499579, -1.235078006157799, -0.5183845433490133, -1.5043553897636557, -1.2233744128152302, -1.933567534943656, -1.7609330176273752, -1.6762154189044665, -1.5801821946102474, 0.051305183409999594, 0.05173791276075886, -1.5904147324417428, -0.8004950947579231, -1.5903588484174553, -1.1854000139910685, 0.09561966192887239, -0.4755674938474793, -1.2474160924629514, 0.05571571341669022, -1.3757198616737398, -0.4755219495591097, -1.1611198622571748, -0.4755516746540437, 0.21148065545066935, -0.5583664777862954, -1.3453248325226548, -1.5905353182075062, -1.1388619124069255, -1.5011970638387848, -1.5980795557272724, -0.47556760696180755, -0.4735603747596906, -1.719134582308441, -2.111397019428331, -1.5894107505562005, -1.3755886203265557, -0.6855313372261193, -1.1493537783616086, -1.1471846274890005, -1.588192426391487, -0.9043230977660719, 0.05142244715384876, -1.2471279205935932, -0.6464409585472793, -1.5904835785017941, -0.5184047542299156, -0.7328593006402419, -0.6471216917695405, -1.5893098086690227, -1.547312748168338, -1.06119574234468, -0.8607607691212891, -1.5865551373708269, -2.3685991789324268, -0.9901518138421218, -0.12010280273810181, -1.5010641204513777, -1.4617274275834546, -0.24811708349655112, -1.2170259579638072, -0.6469438123815344, -1.5671472041234302, -1.847643170715843, -1.8477632033860905, -2.196902761041558, -1.118826648295808, -1.2468424574219066, -1.247368106963106, -0.4541472164692537, -1.8330096101730697, -1.032636167906164, 0.09428295667758602, -0.5613859241640923, -1.1998614141004846, -1.1616193898385325, -1.5842770404482902, -1.247449878818195], \"z\": [1.0204728629380473, 1.335798625885275, 1.0209292889768389, 1.0993535330101794, 0.5138107526264097, 0.4729369781092304, 0.9024125964696561, 1.5396924255262647, 0.5039368885584032, 0.39055570113470095, 0.8238348752706289, 1.0272934778114593, 0.5870909065951775, 1.4360601953488135, 0.3927119248091968, 1.5396806135280312, 0.46866198738776377, 0.5120491383513306, 0.6264682211062776, 1.0205140841640552, 1.5707734652567609, 2.3280322837874974, 1.8089595552898599, 1.0662390650733502, 1.2176187880976348, 1.0668925262080065, 3.649541264007736, 1.4146512065936991, 0.47122876940612307, 0.5475415674809687, 1.0205335868449883, 1.099353614120856, 1.4146754419800056, 1.4146837566903872, 0.6263474407042422, 1.3362012303276751, 1.0993448553753509, 0.6263705982619803, 1.178143360190518, 2.2492363742247576, 0.42935423954156937, 1.3360245929727104, 2.5145071083171953, 1.7299505267085726, 1.5730245288022393, 1.4935246191744782, 1.4188962680932722, 1.0667221845099177, 1.0669587071538282, 1.4147466026400934, 0.715926940902522, 1.4148227144227135, 1.1447379346549922, 1.0281469335098623, 0.3898930940440966, 1.099353082912613, 1.0692845690246235, 1.2178921703375531, 0.3899321373052432, 1.0210861291658733, 0.3899034562039124, 1.1306397522407388, 0.4700781899334392, 1.5985951503308224, 1.4146567956278386, 1.0422008838240908, 1.337952756916747, 1.8848796340098908, 0.3898798771167975, 0.3909081741361881, 1.5329248957436465, -0.041936854176717435, 1.4153543769035062, 1.2177663586202967, 0.5892732332519163, 2.1703678267669666, 1.0346019738825176, 1.4168008450555545, 0.7840398088875005, 1.0668087315558015, 1.0994571607519663, 0.548146531508926, 1.414669098424797, 0.4292944729723202, 0.6263826970905584, 0.54751788996523, 1.4159346331497566, 1.3755399427322845, 1.8128810505481263, 0.7449305067998724, 1.4167788411122642, 0.19458940121050639, 0.8628622636105537, 1.2244749968539934, 1.3396044184496005, 1.2965757722752667, 1.343402766827278, 1.115641764401761, 0.5476774253804471, 1.4321157809806278, 1.6513495614502511, 1.6511751683248723, 0.03711783049213341, 0.9811082470524654, 1.09987807711859, 1.0993742176185677, 0.39835803679268633, 1.6663428321577158, 0.9024571764531372, 1.0274162229107482, 0.4686709084277283, 1.0644552790064747, 1.0205299303289161, 1.4176299454465608, 1.0993535369760283]}, {\"customdata\": [[\"SHA-512\", \"PoS\"], [\"SHA-256\", \"PoS\"], [\"Scrypt\", \"PoC\"], [\"PoS\", \"PoS\"], [\"X11\", \"PoS\"], [\"Scrypt\", \"PoS\"], [\"Scrypt\", \"PoS\"], [\"X11\", \"PoS\"], [\"Multiple\", \"PoS\"], [\"PHI1612\", \"PoS\"], [\"Multiple\", \"PoS\"], [\"Shabal256\", \"PoC\"], [\"Scrypt\", \"PoS\"], [\"Scrypt\", \"PoS\"], [\"X11\", \"PoS\"], [\"X11\", \"PoS/PoW\"], [\"Scrypt\", \"PoS\"], [\"Scrypt\", \"PoS\"], [\"Scrypt\", \"PoS\"], [\"Scrypt\", \"PoC\"], [\"PoS\", \"PoS\"], [\"POS 3.0\", \"PoS\"], [\"X13\", \"PoS\"], [\"X11\", \"PoS\"], [\"Scrypt\", \"PoS\"], [\"PoS\", \"PoS\"], [\"PoS\", \"PoS\"], [\"X13\", \"PoS\"], [\"PoS\", \"PoS\"], [\"DPoS\", \"DPoS\"], [\"PoS\", \"PoS\"], [\"PoS\", \"PoS\"], [\"Scrypt\", \"PoS\"], [\"Quark\", \"PoS\"], [\"Scrypt\", \"PoS\"], [\"X13\", \"PoS\"], [\"Scrypt\", \"PoS\"], [\"PoS\", \"PoS\"], [\"PoS\", \"PoS\"], [\"SHA-256\", \"PoS\"], [\"Scrypt\", \"PoS\"], [\"PoS\", \"PoS\"], [\"SHA-256\", \"PoS\"], [\"POS 3.0\", \"PoS\"], [\"SkunkHash v2 Raptor\", \"PoS\"], [\"Scrypt\", \"PoS\"], [\"PoS\", \"PoS\"], [\"SHA-512\", \"PoS\"], [\"Ouroboros\", \"PoS\"], [\"Lyra2REv2\", \"PoS\"], [\"POS 2.0\", \"PoS\"], [\"SHA-256\", \"PoS\"], [\"DPoS\", \"DPoS\"], [\"NIST5\", \"PoS\"], [\"Quark\", \"PoS\"], [\"Quark\", \"PoS\"], [\"X11\", \"PoS\"], [\"POS 3.0\", \"PoS\"], [\"X13\", \"PoS\"], [\"Proof-of-BibleHash\", \"POBh\"], [\"Proof-of-Authority\", \"PoA\"], [\"Scrypt\", \"PoS\"], [\"VBFT\", \"PoS\"], [\"Scrypt\", \"PoS\"], [\"Green Protocol\", \"PoS\"], [\"PoS\", \"PoS\"], [\"Semux BFT consensus\", \"DPoS\"], [\"PoS\", \"PoS\"], [\"X16R\", \"PoS\"], [\"XEVAN\", \"PoS/PoW\"], [\"Scrypt\", \"PoS\"], [\"Scrypt\", \"PoS\"], [\"X15\", \"PoS\"], [\"Scrypt\", \"HPoW\"], [\"Quark\", \"PoS\"], [\"SHA-256\", \"PoS\"], [\"Quark\", \"PoS\"], [\"Scrypt\", \"PoS\"], [\"Quark\", \"PoS\"], [\"X11\", \"PoS\"], [\"Scrypt\", \"PoS\"], [\"PoS\", \"PoS\"], [\"X11\", \"PoS\"], [\"ECC 256K1\", \"DPOS\"], [\"XEVAN\", \"PoS\"], [\"X11\", \"PoS\"], [\"Quark\", \"PoS\"], [\"X11\", \"PoS\"], [\"DPoS\", \"DPoS\"], [\"SHA-256\", \"PoS\"], [\"PoS\", \"PoS\"], [\"DPoS\", \"DPoS\"], [\"Scrypt\", \"PoS\"], [\"SHA3-256\", \"DPoC\"], [\"DPoS\", \"DPoS\"], [\"DPoS\", \"DPoS\"], [\"SHA-256\", \"PoS\"], [\"Leased POS\", \"LPoS\"], [\"PoS\", \"PoS\"], [\"PoS\", \"PoS/LPoS\"], [\"SHA-256\", \"DPoS\"], [\"Scrypt\", \"PoS\"]], \"hovertemplate\": \"<b>%{hovertext}</b><br><br>class=%{marker.color}<br>PC 1=%{x}<br>PC 2=%{y}<br>PC 3=%{z}<br>Algorithm=%{customdata[0]}<br>ProofType=%{customdata[1]}<extra></extra>\", \"hovertext\": [\"Bitshares\", \"PayCoin\", \"CasinoCoin\", \"Exclusive Coin\", \"HyperStake\", \"MintCoin\", \"Nautilus Coin\", \"SuperCoin\", \"TeslaCoin\", \"TittieCoin\", \"Crypti\", \"BurstCoin\", \"RubyCoin\", \"Dnotes\", \"Ucoin\", \"Squall Coin\", \"Diggits\", \"GPU Coin\", \"ZeitCoin\", \"SafeExchangeCoin\", \"Nebuchadnezzar\", \"Let it Ride\", \"MudraCoin\", \"Lutetium Coin\", \"BitCurrency\", \"Opair\", \"CoffeeCoin\", \"RoyalCoin\", \"TeamUP\", \"ARK\", \"FreeCoin\", \"Creatio\", \"PandaCoin\", \"Allsafe\", \"Zilbercoin\", \"FindCoin\", \"RenosCoin\", \"Atmos\", \"MacronCoin\", \"ProCurrency\", \"GrowthCoin\", \"Phreak\", \"Ultimate Secure Cash\", \"QTUM\", \"Signatum\", \"Draftcoin\", \"Stakecoin\", \"Obsidian\", \"Cardano\", \"Rupee\", \"KekCoin\", \"Infinity Economics\", \"Lamden Tau\", \"Bulwark\", \"Kalkulus\", \"Digiwage\", \"Monkey Project\", \"TokenPay\", \"Tokyo Coin\", \"BiblePay\", \"Poa Network\", \"Velox\", \"Ontology\", \"MedicCoin\", \"Bitcoin Green\", \"Deviant Coin\", \"Semux\", \"Zealium\", \"Proton\", \"Bitcoin Incognito\", \"HollyWoodCoin\", \"Xt3ch\", \"Dekado\", \"Lynx\", \"Poseidon Quark\", \"BitcoinWSpectrum\", \"Dystem\", \"Peony Coin\", \"Vitae\", \"ARENON\", \"MMOCoin\", \"Ketan\", \"PAXEX\", \"Acute Angle Cloud\", \"Bettex coin\", \"Junson Ming Chan Coin\", \"Crypto Sports\", \"Dash Platinum\", \"ALAX\", \"NeosCoin\", \"Radium\", \"Lisk\", \"HiCoin\", \"Fiii\", \"EOS\", \"Oxycoin\", \"TigerCash\", \"Waves\", \"Particl\", \"Nxt\", \"ZEPHYR\", \"BitcoinPlus\"], \"legendgroup\": \"1\", \"marker\": {\"color\": [1, 1, 1, 1, 1, 1, 1, 1, 1, 1, 1, 1, 1, 1, 1, 1, 1, 1, 1, 1, 1, 1, 1, 1, 1, 1, 1, 1, 1, 1, 1, 1, 1, 1, 1, 1, 1, 1, 1, 1, 1, 1, 1, 1, 1, 1, 1, 1, 1, 1, 1, 1, 1, 1, 1, 1, 1, 1, 1, 1, 1, 1, 1, 1, 1, 1, 1, 1, 1, 1, 1, 1, 1, 1, 1, 1, 1, 1, 1, 1, 1, 1, 1, 1, 1, 1, 1, 1, 1, 1, 1, 1, 1, 1, 1, 1, 1, 1, 1, 1, 1, 1], \"coloraxis\": \"coloraxis\", \"symbol\": \"x\"}, \"mode\": \"markers\", \"name\": \"1\", \"scene\": \"scene\", \"showlegend\": true, \"type\": \"scatter3d\", \"x\": [0.19048330548240944, 0.1281583925520773, 1.1716192848406362, 0.15863466347769872, 0.06115442911769756, 0.41937791689923104, 0.09756047388879402, 0.0365218663145388, 0.19659183051035456, 0.22176080480821778, 0.1958769149186012, 0.19996347184914462, 0.09756299347473929, 0.10486253042070982, 0.03599796938767684, -0.09169474016270156, 0.09967848074147088, 0.1000047750188103, 1.6600960218799294, 0.21514248214578235, 0.15905408670136134, 0.16458865613005008, 0.027624596705126823, 0.052355956011917774, 0.09971804821603271, 0.16041909803819843, 0.16120459254533853, 0.02558486881228924, 0.16186935159059934, 0.6819593272389076, 0.15981214212465303, 0.15905408670136134, 0.938400438408871, 0.13327779805674148, 0.09775334644088364, 0.02588871580835139, 0.09804610788009167, 0.1613483806106906, 0.1686776311440632, 0.8895869472343597, 0.12189011838965891, 0.15902516296709415, 0.13003478229854007, 0.16619199175419472, 0.07459711513281, 0.09761047779788118, 0.15923363545967698, 0.11380554584208408, 1.0274800599046678, 0.210319399998357, 0.16918101813445088, 0.35526679971100655, 0.6884825320171416, 0.1897286566360435, 0.13342590077092298, 0.1345960484839375, 0.03603409442649567, 0.16422793855950787, 0.03711561223040276, 0.41902136350072344, 0.2865397908467037, 0.09879545197500708, 0.06597243724784531, 0.10626456261335886, 0.25612198375588463, 0.1597717456542968, 0.47543024776881576, 0.15952720690481131, 0.010695191460664739, -0.12202038769861577, 0.0980008940812548, 0.09771308182556862, 0.016659374744502846, 2.526702211991337, 0.13959623263257334, 0.1297412650245806, 0.13328663003590185, 0.26826651751807357, 0.1349797649522551, 0.036603625654733025, 0.10141775860789486, 0.16081846026664853, 0.03683632821694278, 0.8164284605515629, 0.005665518008848912, 0.29618044851795305, 0.13313139434979288, 0.03596505503743499, 0.7043234683623955, 0.12812949816936697, 0.15869776652969322, 0.6824919806898284, 0.34993003276365897, 0.509486323449519, 0.6944981506614264, 0.696039191251574, 0.15311868698455464, 0.47738118284147607, 0.15877670913998831, 0.12009009854822157, 0.5607499929072426, 0.09716370741822784], \"y\": [-0.8079848135194947, -0.9535180571248144, -0.6653276103255764, -1.210859457607511, -0.17597994862097566, -0.6236634998948584, -0.6962025492216205, -0.1815320209451579, -1.5105696284062733, -1.3291355038085786, -1.5107134623844836, -0.7897152969109473, -0.696199181388171, -0.6946404219721957, -0.18165356600590526, 0.19815668381850285, -0.695739664657142, -0.6956870673627864, -0.3611428774757207, -0.8743629810549087, -1.210768382416666, -1.2535587144530342, -0.0955011090874473, -0.1780767791899556, -0.6957134414397198, -1.2104700594448916, -1.2102871287284105, -0.09592667774812821, -1.210182460693396, -3.507648017529308, -1.210602711491656, -1.210768382416666, -0.5123047527845144, -0.9964000617637436, -0.6961657943436138, -0.09586027282395967, -0.6960962469578376, -1.210266883148751, -1.208665035980066, -0.794871876365538, -0.6910620510543888, -1.2107766321884466, -0.9531275882746731, -1.2532088373354857, -0.4812220659543603, -0.6961914906974084, -1.2107351117333562, -0.8246603867392677, -1.1989545424014751, -1.6395687334818012, -1.2965569166682727, -0.9038840879179664, -3.506242608899893, -1.4680685855424644, -0.9963675453013496, -0.9961211039865933, -0.18164559662837412, -1.2536385477067864, -0.09346570482970619, -1.677880610177576, -1.5466265927353005, -0.6959428486649305, -0.26313796681428253, -0.6943244100250577, -2.025563684929835, -1.2106183925348586, -1.7927758974776906, -1.210672126112977, 0.03281629043521467, 0.4555305632420364, -0.6961049797686064, -0.6961729662755433, -0.009882659547697554, -1.186072699580893, -0.9950858001364691, -0.9531764717117684, -0.9963991093669884, -0.6606444148001277, -0.9960311549903923, -0.18152311043071384, -0.6953753268143209, -1.2104035795769896, -0.18147844748362724, -3.753972456565268, 0.07571722242178591, -0.1230061079287865, -0.9964327784518027, -0.18166093284238877, -3.502758655276823, -0.953526040707666, -1.2108467918938464, -3.507534002349995, -0.6410487674757492, -2.078312757598072, -3.5048001902640515, -3.504452846429821, -0.9480630012199172, -2.4846345887994397, -1.210828935261825, -1.0154261988105062, -2.082122237403877, -0.6962893517743074], \"z\": [-1.2166918777703362, -1.1061241167920013, -1.4699712566890522, -0.8696597994618711, -1.8157013253096823, -1.343618033730396, -1.342607517262958, -1.8156267095985776, -0.5935393350230346, -0.7464864964476406, -0.5937577094594984, -1.6293443295876993, -1.3426432082708086, -1.34156261954551, -1.8155810146320435, -1.390657161265323, -1.3424290763750955, -1.3421630952672774, -1.1290417318227748, -1.5505538937236143, -0.869616961952938, -0.8301732537524029, -1.8940200790647375, -1.8142257254726235, -1.3426497362534335, -0.8695020051639374, -0.8695793683767148, -1.8944494666954235, -0.8690057723473268, -1.0800839272065184, -0.8695530962092503, -0.869616961952938, -1.2734818253948383, -1.066703410400425, -1.3425224878659663, -1.894423867756646, -1.3425687476554382, -0.869424786059274, -0.8688080610204493, -0.9430531481789745, -1.3383060983139548, -0.8695948203363726, -1.1057161024197653, -0.8300314513804388, -1.5394239003386474, -1.342604965151543, -0.8695257612607471, -1.224198759181011, -0.6153258504258918, -0.47545642729378745, -0.7907840318707428, -1.0869910275447132, -1.0792766618833392, -0.6331086606623052, -1.0666928320245344, -1.0664758365541458, -1.8155789186599551, -0.8301909069869325, -1.892725588632759, -1.5747136107852164, -1.3335023275079125, -1.3423734719436873, -1.7346491188807562, -1.3415668665103861, -0.12072548334745851, -0.8694691686337406, -2.6567414681801504, -0.8694860710911553, -2.0126027354074383, -1.627103188954277, -1.3425871943312744, -1.3425466253009142, -1.9730908584643219, -2.2085575156753436, -1.0653221207390977, -1.1059353607623938, -1.0666902047524554, -1.3059331389299424, -1.0665211068931386, -1.8155056602474262, -1.3420814808713997, -0.869203280461097, -1.8154071221280896, -1.6214347911842388, -2.052007173109111, -1.816413254218817, -1.0667065617241018, -1.8155815765496286, -1.0782219463323062, -1.106105283364685, -0.869640142008409, -1.0800085316461279, -1.3213341773523746, -2.7794673478873717, -1.0803975842032703, -1.0804022522453416, -1.104021892528478, -1.246398708398983, -0.8696411880050907, -0.6550470614505157, -2.376794751657152, -1.3426397933734928]}, {\"customdata\": [[\"TRC10\", \"DPoS\"]], \"hovertemplate\": \"<b>%{hovertext}</b><br><br>class=%{marker.color}<br>PC 1=%{x}<br>PC 2=%{y}<br>PC 3=%{z}<br>Algorithm=%{customdata[0]}<br>ProofType=%{customdata[1]}<extra></extra>\", \"hovertext\": [\"BitTorrent\"], \"legendgroup\": \"2\", \"marker\": {\"color\": [2], \"coloraxis\": \"coloraxis\", \"symbol\": \"cross\"}, \"mode\": \"markers\", \"name\": \"2\", \"scene\": \"scene\", \"showlegend\": true, \"type\": \"scatter3d\", \"x\": [25.459357630637196], \"y\": [3.931404236581106], \"z\": [-0.7858800338600167]}],\n",
       "                        {\"coloraxis\": {\"colorbar\": {\"title\": {\"text\": \"class\"}}, \"colorscale\": [[0.0, \"#0d0887\"], [0.1111111111111111, \"#46039f\"], [0.2222222222222222, \"#7201a8\"], [0.3333333333333333, \"#9c179e\"], [0.4444444444444444, \"#bd3786\"], [0.5555555555555556, \"#d8576b\"], [0.6666666666666666, \"#ed7953\"], [0.7777777777777778, \"#fb9f3a\"], [0.8888888888888888, \"#fdca26\"], [1.0, \"#f0f921\"]]}, \"legend\": {\"title\": {\"text\": \"class\"}, \"tracegroupgap\": 0, \"x\": 0, \"y\": 1}, \"margin\": {\"t\": 60}, \"scene\": {\"domain\": {\"x\": [0.0, 1.0], \"y\": [0.0, 1.0]}, \"xaxis\": {\"title\": {\"text\": \"PC 1\"}}, \"yaxis\": {\"title\": {\"text\": \"PC 2\"}}, \"zaxis\": {\"title\": {\"text\": \"PC 3\"}}}, \"template\": {\"data\": {\"bar\": [{\"error_x\": {\"color\": \"#2a3f5f\"}, \"error_y\": {\"color\": \"#2a3f5f\"}, \"marker\": {\"line\": {\"color\": \"#E5ECF6\", \"width\": 0.5}}, \"type\": \"bar\"}], \"barpolar\": [{\"marker\": {\"line\": {\"color\": \"#E5ECF6\", \"width\": 0.5}}, \"type\": \"barpolar\"}], \"carpet\": [{\"aaxis\": {\"endlinecolor\": \"#2a3f5f\", \"gridcolor\": \"white\", \"linecolor\": \"white\", \"minorgridcolor\": \"white\", \"startlinecolor\": \"#2a3f5f\"}, \"baxis\": {\"endlinecolor\": \"#2a3f5f\", \"gridcolor\": \"white\", \"linecolor\": \"white\", \"minorgridcolor\": \"white\", \"startlinecolor\": \"#2a3f5f\"}, \"type\": \"carpet\"}], \"choropleth\": [{\"colorbar\": {\"outlinewidth\": 0, \"ticks\": \"\"}, \"type\": \"choropleth\"}], \"contour\": [{\"colorbar\": {\"outlinewidth\": 0, \"ticks\": \"\"}, \"colorscale\": [[0.0, \"#0d0887\"], [0.1111111111111111, \"#46039f\"], [0.2222222222222222, \"#7201a8\"], [0.3333333333333333, \"#9c179e\"], [0.4444444444444444, \"#bd3786\"], [0.5555555555555556, \"#d8576b\"], [0.6666666666666666, \"#ed7953\"], [0.7777777777777778, \"#fb9f3a\"], [0.8888888888888888, \"#fdca26\"], [1.0, \"#f0f921\"]], \"type\": \"contour\"}], \"contourcarpet\": [{\"colorbar\": {\"outlinewidth\": 0, \"ticks\": \"\"}, \"type\": \"contourcarpet\"}], \"heatmap\": [{\"colorbar\": {\"outlinewidth\": 0, \"ticks\": \"\"}, \"colorscale\": [[0.0, \"#0d0887\"], [0.1111111111111111, \"#46039f\"], [0.2222222222222222, \"#7201a8\"], [0.3333333333333333, \"#9c179e\"], [0.4444444444444444, \"#bd3786\"], [0.5555555555555556, \"#d8576b\"], [0.6666666666666666, \"#ed7953\"], [0.7777777777777778, \"#fb9f3a\"], [0.8888888888888888, \"#fdca26\"], [1.0, \"#f0f921\"]], \"type\": \"heatmap\"}], \"heatmapgl\": [{\"colorbar\": {\"outlinewidth\": 0, \"ticks\": \"\"}, \"colorscale\": [[0.0, \"#0d0887\"], [0.1111111111111111, \"#46039f\"], [0.2222222222222222, \"#7201a8\"], [0.3333333333333333, \"#9c179e\"], [0.4444444444444444, \"#bd3786\"], [0.5555555555555556, \"#d8576b\"], [0.6666666666666666, \"#ed7953\"], [0.7777777777777778, \"#fb9f3a\"], [0.8888888888888888, \"#fdca26\"], [1.0, \"#f0f921\"]], \"type\": \"heatmapgl\"}], \"histogram\": [{\"marker\": {\"colorbar\": {\"outlinewidth\": 0, \"ticks\": \"\"}}, \"type\": \"histogram\"}], \"histogram2d\": [{\"colorbar\": {\"outlinewidth\": 0, \"ticks\": \"\"}, \"colorscale\": [[0.0, \"#0d0887\"], [0.1111111111111111, \"#46039f\"], [0.2222222222222222, \"#7201a8\"], [0.3333333333333333, \"#9c179e\"], [0.4444444444444444, \"#bd3786\"], [0.5555555555555556, \"#d8576b\"], [0.6666666666666666, \"#ed7953\"], [0.7777777777777778, \"#fb9f3a\"], [0.8888888888888888, \"#fdca26\"], [1.0, \"#f0f921\"]], \"type\": \"histogram2d\"}], \"histogram2dcontour\": [{\"colorbar\": {\"outlinewidth\": 0, \"ticks\": \"\"}, \"colorscale\": [[0.0, \"#0d0887\"], [0.1111111111111111, \"#46039f\"], [0.2222222222222222, \"#7201a8\"], [0.3333333333333333, \"#9c179e\"], [0.4444444444444444, \"#bd3786\"], [0.5555555555555556, \"#d8576b\"], [0.6666666666666666, \"#ed7953\"], [0.7777777777777778, \"#fb9f3a\"], [0.8888888888888888, \"#fdca26\"], [1.0, \"#f0f921\"]], \"type\": \"histogram2dcontour\"}], \"mesh3d\": [{\"colorbar\": {\"outlinewidth\": 0, \"ticks\": \"\"}, \"type\": \"mesh3d\"}], \"parcoords\": [{\"line\": {\"colorbar\": {\"outlinewidth\": 0, \"ticks\": \"\"}}, \"type\": \"parcoords\"}], \"pie\": [{\"automargin\": true, \"type\": \"pie\"}], \"scatter\": [{\"marker\": {\"colorbar\": {\"outlinewidth\": 0, \"ticks\": \"\"}}, \"type\": \"scatter\"}], \"scatter3d\": [{\"line\": {\"colorbar\": {\"outlinewidth\": 0, \"ticks\": \"\"}}, \"marker\": {\"colorbar\": {\"outlinewidth\": 0, \"ticks\": \"\"}}, \"type\": \"scatter3d\"}], \"scattercarpet\": [{\"marker\": {\"colorbar\": {\"outlinewidth\": 0, \"ticks\": \"\"}}, \"type\": \"scattercarpet\"}], \"scattergeo\": [{\"marker\": {\"colorbar\": {\"outlinewidth\": 0, \"ticks\": \"\"}}, \"type\": \"scattergeo\"}], \"scattergl\": [{\"marker\": {\"colorbar\": {\"outlinewidth\": 0, \"ticks\": \"\"}}, \"type\": \"scattergl\"}], \"scattermapbox\": [{\"marker\": {\"colorbar\": {\"outlinewidth\": 0, \"ticks\": \"\"}}, \"type\": \"scattermapbox\"}], \"scatterpolar\": [{\"marker\": {\"colorbar\": {\"outlinewidth\": 0, \"ticks\": \"\"}}, \"type\": \"scatterpolar\"}], \"scatterpolargl\": [{\"marker\": {\"colorbar\": {\"outlinewidth\": 0, \"ticks\": \"\"}}, \"type\": \"scatterpolargl\"}], \"scatterternary\": [{\"marker\": {\"colorbar\": {\"outlinewidth\": 0, \"ticks\": \"\"}}, \"type\": \"scatterternary\"}], \"surface\": [{\"colorbar\": {\"outlinewidth\": 0, \"ticks\": \"\"}, \"colorscale\": [[0.0, \"#0d0887\"], [0.1111111111111111, \"#46039f\"], [0.2222222222222222, \"#7201a8\"], [0.3333333333333333, \"#9c179e\"], [0.4444444444444444, \"#bd3786\"], [0.5555555555555556, \"#d8576b\"], [0.6666666666666666, \"#ed7953\"], [0.7777777777777778, \"#fb9f3a\"], [0.8888888888888888, \"#fdca26\"], [1.0, \"#f0f921\"]], \"type\": \"surface\"}], \"table\": [{\"cells\": {\"fill\": {\"color\": \"#EBF0F8\"}, \"line\": {\"color\": \"white\"}}, \"header\": {\"fill\": {\"color\": \"#C8D4E3\"}, \"line\": {\"color\": \"white\"}}, \"type\": \"table\"}]}, \"layout\": {\"annotationdefaults\": {\"arrowcolor\": \"#2a3f5f\", \"arrowhead\": 0, \"arrowwidth\": 1}, \"coloraxis\": {\"colorbar\": {\"outlinewidth\": 0, \"ticks\": \"\"}}, \"colorscale\": {\"diverging\": [[0, \"#8e0152\"], [0.1, \"#c51b7d\"], [0.2, \"#de77ae\"], [0.3, \"#f1b6da\"], [0.4, \"#fde0ef\"], [0.5, \"#f7f7f7\"], [0.6, \"#e6f5d0\"], [0.7, \"#b8e186\"], [0.8, \"#7fbc41\"], [0.9, \"#4d9221\"], [1, \"#276419\"]], \"sequential\": [[0.0, \"#0d0887\"], [0.1111111111111111, \"#46039f\"], [0.2222222222222222, \"#7201a8\"], [0.3333333333333333, \"#9c179e\"], [0.4444444444444444, \"#bd3786\"], [0.5555555555555556, \"#d8576b\"], [0.6666666666666666, \"#ed7953\"], [0.7777777777777778, \"#fb9f3a\"], [0.8888888888888888, \"#fdca26\"], [1.0, \"#f0f921\"]], \"sequentialminus\": [[0.0, \"#0d0887\"], [0.1111111111111111, \"#46039f\"], [0.2222222222222222, \"#7201a8\"], [0.3333333333333333, \"#9c179e\"], [0.4444444444444444, \"#bd3786\"], [0.5555555555555556, \"#d8576b\"], [0.6666666666666666, \"#ed7953\"], [0.7777777777777778, \"#fb9f3a\"], [0.8888888888888888, \"#fdca26\"], [1.0, \"#f0f921\"]]}, \"colorway\": [\"#636efa\", \"#EF553B\", \"#00cc96\", \"#ab63fa\", \"#FFA15A\", \"#19d3f3\", \"#FF6692\", \"#B6E880\", \"#FF97FF\", \"#FECB52\"], \"font\": {\"color\": \"#2a3f5f\"}, \"geo\": {\"bgcolor\": \"white\", \"lakecolor\": \"white\", \"landcolor\": \"#E5ECF6\", \"showlakes\": true, \"showland\": true, \"subunitcolor\": \"white\"}, \"hoverlabel\": {\"align\": \"left\"}, \"hovermode\": \"closest\", \"mapbox\": {\"style\": \"light\"}, \"paper_bgcolor\": \"white\", \"plot_bgcolor\": \"#E5ECF6\", \"polar\": {\"angularaxis\": {\"gridcolor\": \"white\", \"linecolor\": \"white\", \"ticks\": \"\"}, \"bgcolor\": \"#E5ECF6\", \"radialaxis\": {\"gridcolor\": \"white\", \"linecolor\": \"white\", \"ticks\": \"\"}}, \"scene\": {\"xaxis\": {\"backgroundcolor\": \"#E5ECF6\", \"gridcolor\": \"white\", \"gridwidth\": 2, \"linecolor\": \"white\", \"showbackground\": true, \"ticks\": \"\", \"zerolinecolor\": \"white\"}, \"yaxis\": {\"backgroundcolor\": \"#E5ECF6\", \"gridcolor\": \"white\", \"gridwidth\": 2, \"linecolor\": \"white\", \"showbackground\": true, \"ticks\": \"\", \"zerolinecolor\": \"white\"}, \"zaxis\": {\"backgroundcolor\": \"#E5ECF6\", \"gridcolor\": \"white\", \"gridwidth\": 2, \"linecolor\": \"white\", \"showbackground\": true, \"ticks\": \"\", \"zerolinecolor\": \"white\"}}, \"shapedefaults\": {\"line\": {\"color\": \"#2a3f5f\"}}, \"ternary\": {\"aaxis\": {\"gridcolor\": \"white\", \"linecolor\": \"white\", \"ticks\": \"\"}, \"baxis\": {\"gridcolor\": \"white\", \"linecolor\": \"white\", \"ticks\": \"\"}, \"bgcolor\": \"#E5ECF6\", \"caxis\": {\"gridcolor\": \"white\", \"linecolor\": \"white\", \"ticks\": \"\"}}, \"title\": {\"x\": 0.05}, \"xaxis\": {\"automargin\": true, \"gridcolor\": \"white\", \"linecolor\": \"white\", \"ticks\": \"\", \"title\": {\"standoff\": 15}, \"zerolinecolor\": \"white\", \"zerolinewidth\": 2}, \"yaxis\": {\"automargin\": true, \"gridcolor\": \"white\", \"linecolor\": \"white\", \"ticks\": \"\", \"title\": {\"standoff\": 15}, \"zerolinecolor\": \"white\", \"zerolinewidth\": 2}}}, \"width\": 800},\n",
       "                        {\"responsive\": true}\n",
       "                    ).then(function(){\n",
       "                            \n",
       "var gd = document.getElementById('4924734e-5c68-4514-a1ec-eac0ce2bfa99');\n",
       "var x = new MutationObserver(function (mutations, observer) {{\n",
       "        var display = window.getComputedStyle(gd).display;\n",
       "        if (!display || display === 'none') {{\n",
       "            console.log([gd, 'removed!']);\n",
       "            Plotly.purge(gd);\n",
       "            observer.disconnect();\n",
       "        }}\n",
       "}});\n",
       "\n",
       "// Listen for the removal of the full notebook cells\n",
       "var notebookContainer = gd.closest('#notebook-container');\n",
       "if (notebookContainer) {{\n",
       "    x.observe(notebookContainer, {childList: true});\n",
       "}}\n",
       "\n",
       "// Listen for the clearing of the current output cell\n",
       "var outputEl = gd.closest('.output');\n",
       "if (outputEl) {{\n",
       "    x.observe(outputEl, {childList: true});\n",
       "}}\n",
       "\n",
       "                        })\n",
       "                };\n",
       "                });\n",
       "            </script>\n",
       "        </div>"
      ]
     },
     "metadata": {},
     "output_type": "display_data"
    }
   ],
   "source": [
    "#Create a 3D scatter plot using Plotly Express to plot the clusters using the clustered_df DataFrame.\n",
    "\n",
    "fig = px.scatter_3d(\n",
    "    clustered_df,\n",
    "    x = 'PC 1',\n",
    "    y = 'PC 2',\n",
    "    z = 'PC 3',\n",
    "    color = 'class',\n",
    "    symbol = 'class',\n",
    "    hover_name = 'CoinName',\n",
    "    hover_data = ['Algorithm','ProofType'],\n",
    "    width = 800\n",
    ")\n",
    "fig.update_layout(legend = dict(x = 0,y = 1))\n",
    "fig.show()"
   ]
  },
  {
   "cell_type": "code",
   "execution_count": 21,
   "metadata": {},
   "outputs": [
    {
     "data": {},
     "metadata": {},
     "output_type": "display_data"
    },
    {
     "data": {
      "application/vnd.holoviews_exec.v0+json": "",
      "text/html": [
       "<div id='1169'>\n",
       "\n",
       "\n",
       "\n",
       "\n",
       "\n",
       "  <div class=\"bk-root\" id=\"8dd0f01a-3948-4f87-968f-399265b9c713\" data-root-id=\"1169\"></div>\n",
       "</div>\n",
       "<script type=\"application/javascript\">(function(root) {\n",
       "  function embed_document(root) {\n",
       "  var docs_json = {\"7e995894-8323-452c-af42-bd6870c04bb4\":{\"roots\":{\"references\":[{\"attributes\":{},\"id\":\"1188\",\"type\":\"StringFormatter\"},{\"attributes\":{\"margin\":[5,5,5,5],\"name\":\"HSpacer01834\",\"sizing_mode\":\"stretch_width\"},\"id\":\"1170\",\"type\":\"Spacer\"},{\"attributes\":{},\"id\":\"1174\",\"type\":\"StringEditor\"},{\"attributes\":{\"children\":[{\"id\":\"1170\"},{\"id\":\"1203\"},{\"id\":\"1209\"}],\"margin\":[0,0,0,0],\"name\":\"Row01830\",\"tags\":[\"embedded\"]},\"id\":\"1169\",\"type\":\"Row\"},{\"attributes\":{\"editor\":{\"id\":\"1174\"},\"field\":\"CoinName\",\"formatter\":{\"id\":\"1173\"},\"title\":\"CoinName\"},\"id\":\"1175\",\"type\":\"TableColumn\"},{\"attributes\":{},\"id\":\"1199\",\"type\":\"IntEditor\"},{\"attributes\":{\"editor\":{\"id\":\"1199\"},\"field\":\"class\",\"formatter\":{\"id\":\"1198\"},\"title\":\"class\"},\"id\":\"1200\",\"type\":\"TableColumn\"},{\"attributes\":{},\"id\":\"1178\",\"type\":\"StringFormatter\"},{\"attributes\":{},\"id\":\"1206\",\"type\":\"UnionRenderers\"},{\"attributes\":{\"editor\":{\"id\":\"1194\"},\"field\":\"TotalCoinsMined\",\"formatter\":{\"id\":\"1193\"},\"title\":\"TotalCoinsMined\"},\"id\":\"1195\",\"type\":\"TableColumn\"},{\"attributes\":{},\"id\":\"1179\",\"type\":\"StringEditor\"},{\"attributes\":{\"editor\":{\"id\":\"1189\"},\"field\":\"TotalCoinSupply\",\"formatter\":{\"id\":\"1188\"},\"title\":\"TotalCoinSupply\"},\"id\":\"1190\",\"type\":\"TableColumn\"},{\"attributes\":{\"margin\":[5,5,5,5],\"name\":\"HSpacer01835\",\"sizing_mode\":\"stretch_width\"},\"id\":\"1209\",\"type\":\"Spacer\"},{\"attributes\":{\"format\":\"0,0.0[00000]\"},\"id\":\"1193\",\"type\":\"NumberFormatter\"},{\"attributes\":{},\"id\":\"1184\",\"type\":\"StringEditor\"},{\"attributes\":{\"editor\":{\"id\":\"1179\"},\"field\":\"Algorithm\",\"formatter\":{\"id\":\"1178\"},\"title\":\"Algorithm\"},\"id\":\"1180\",\"type\":\"TableColumn\"},{\"attributes\":{\"data\":{\"Algorithm\":[\"Scrypt\",\"Scrypt\",\"X13\",\"SHA-256\",\"Ethash\",\"Scrypt\",\"X11\",\"CryptoNight-V7\",\"Ethash\",\"Equihash\",\"SHA-512\",\"Multiple\",\"SHA-256\",\"SHA-256\",\"Scrypt\",\"X15\",\"X11\",\"Scrypt\",\"Scrypt\",\"Scrypt\",\"Multiple\",\"Scrypt\",\"SHA-256\",\"Scrypt\",\"Scrypt\",\"Scrypt\",\"Quark\",\"Groestl\",\"Scrypt\",\"Scrypt\",\"Scrypt\",\"Scrypt\",\"Scrypt\",\"X11\",\"Scrypt\",\"Groestl\",\"Multiple\",\"SHA-256\",\"Scrypt\",\"Scrypt\",\"Scrypt\",\"Scrypt\",\"PoS\",\"Scrypt\",\"Scrypt\",\"NeoScrypt\",\"Scrypt\",\"Scrypt\",\"Scrypt\",\"Scrypt\",\"X11\",\"Scrypt\",\"X11\",\"SHA-256\",\"Scrypt\",\"Scrypt\",\"Scrypt\",\"SHA3\",\"Scrypt\",\"HybridScryptHash256\",\"Scrypt\",\"Scrypt\",\"SHA-256\",\"Scrypt\",\"X13\",\"Scrypt\",\"SHA-256\",\"Scrypt\",\"X13\",\"NeoScrypt\",\"Scrypt\",\"Scrypt\",\"Scrypt\",\"Scrypt\",\"Scrypt\",\"Scrypt\",\"X11\",\"X11\",\"SHA-256\",\"Multiple\",\"SHA-256\",\"PHI1612\",\"X11\",\"SHA-256\",\"SHA-256\",\"SHA-256\",\"X11\",\"Scrypt\",\"Scrypt\",\"Scrypt\",\"Scrypt\",\"Lyra2REv2\",\"Scrypt\",\"X11\",\"Multiple\",\"SHA-256\",\"X13\",\"Scrypt\",\"CryptoNight\",\"CryptoNight\",\"Shabal256\",\"Counterparty\",\"Scrypt\",\"SHA-256\",\"Groestl\",\"Scrypt\",\"Scrypt\",\"Scrypt\",\"X13\",\"Scrypt\",\"Scrypt\",\"Scrypt\",\"Scrypt\",\"X13\",\"Scrypt\",\"Stanford Folding\",\"X11\",\"Multiple\",\"QuBit\",\"Scrypt\",\"Scrypt\",\"Scrypt\",\"M7 POW\",\"Scrypt\",\"SHA-256\",\"Scrypt\",\"X11\",\"SHA3\",\"X11\",\"Lyra2RE\",\"SHA-256\",\"QUAIT\",\"X11\",\"X11\",\"Scrypt\",\"Scrypt\",\"Scrypt\",\"Ethash\",\"X13\",\"Blake2b\",\"SHA-256\",\"X15\",\"X11\",\"SHA-256\",\"BLAKE256\",\"Scrypt\",\"1GB AES Pattern Search\",\"SHA-256\",\"X11\",\"Scrypt\",\"SHA-256\",\"SHA-256\",\"NIST5\",\"Scrypt\",\"Scrypt\",\"X11\",\"Dagger\",\"Scrypt\",\"X11GOST\",\"X11\",\"Scrypt\",\"SHA-256\",\"Scrypt\",\"PoS\",\"Scrypt\",\"X11\",\"X11\",\"SHA-256\",\"SHA-256\",\"NIST5\",\"X11\",\"Scrypt\",\"POS 3.0\",\"Scrypt\",\"Scrypt\",\"Scrypt\",\"X13\",\"X11\",\"X11\",\"Equihash\",\"X11\",\"Scrypt\",\"CryptoNight\",\"SHA-256\",\"SHA-256\",\"X11\",\"Scrypt\",\"Multiple\",\"Scrypt\",\"Scrypt\",\"Scrypt\",\"SHA-256\",\"Scrypt\",\"Scrypt\",\"SHA-256D\",\"PoS\",\"Scrypt\",\"X11\",\"Lyra2Z\",\"PoS\",\"X13\",\"X14\",\"PoS\",\"SHA-256D\",\"Ethash\",\"Equihash\",\"DPoS\",\"X11\",\"Scrypt\",\"X11\",\"X13\",\"X11\",\"PoS\",\"Scrypt\",\"Scrypt\",\"X11\",\"PoS\",\"X11\",\"SHA-256\",\"Scrypt\",\"X11\",\"Scrypt\",\"Scrypt\",\"X11\",\"CryptoNight\",\"Scrypt\",\"Scrypt\",\"Scrypt\",\"Scrypt\",\"Quark\",\"QuBit\",\"Scrypt\",\"CryptoNight\",\"Lyra2RE\",\"Scrypt\",\"SHA-256\",\"X11\",\"Scrypt\",\"X11\",\"Scrypt\",\"CryptoNight-V7\",\"Scrypt\",\"Scrypt\",\"Scrypt\",\"X13\",\"X11\",\"Equihash\",\"Scrypt\",\"Scrypt\",\"Lyra2RE\",\"Scrypt\",\"Dagger-Hashimoto\",\"X11\",\"Blake2S\",\"X11\",\"Scrypt\",\"PoS\",\"X11\",\"NIST5\",\"PoS\",\"X11\",\"Scrypt\",\"Scrypt\",\"Scrypt\",\"SHA-256\",\"X11\",\"Scrypt\",\"Scrypt\",\"SHA-256\",\"PoS\",\"Scrypt\",\"X15\",\"SHA-256\",\"Scrypt\",\"POS 3.0\",\"CryptoNight-V7\",\"536\",\"Argon2d\",\"Blake2b\",\"Cloverhash\",\"CryptoNight\",\"NIST5\",\"X11\",\"NIST5\",\"Skein\",\"Scrypt\",\"X13\",\"Scrypt\",\"X11\",\"X11\",\"Scrypt\",\"CryptoNight\",\"X13\",\"Time Travel\",\"Scrypt\",\"Keccak\",\"SkunkHash v2 Raptor\",\"X11\",\"Skein\",\"SHA-256\",\"X11\",\"Scrypt\",\"VeChainThor Authority\",\"Scrypt\",\"PoS\",\"Scrypt\",\"Scrypt\",\"Scrypt\",\"Scrypt\",\"Scrypt\",\"Scrypt\",\"Scrypt\",\"CryptoNight\",\"SHA-512\",\"Ouroboros\",\"X11\",\"Equihash\",\"NeoScrypt\",\"X11\",\"Scrypt\",\"NeoScrypt\",\"Lyra2REv2\",\"Equihash\",\"Scrypt\",\"SHA-256\",\"NIST5\",\"PHI1612\",\"Dagger\",\"Scrypt\",\"Quark\",\"Scrypt\",\"POS 2.0\",\"Scrypt\",\"SHA-256\",\"X11\",\"NeoScrypt\",\"Ethash\",\"NeoScrypt\",\"X11\",\"DPoS\",\"NIST5\",\"X13\",\"Multiple\",\"Scrypt\",\"CryptoNight\",\"CryptoNight\",\"Ethash\",\"NIST5\",\"Quark\",\"X11\",\"CryptoNight-V7\",\"Scrypt\",\"Scrypt\",\"Scrypt\",\"X11\",\"BLAKE256\",\"X11\",\"NeoScrypt\",\"Quark\",\"NeoScrypt\",\"Scrypt\",\"Scrypt\",\"Scrypt\",\"X11\",\"X11\",\"SHA-256\",\"C11\",\"POS 3.0\",\"Ethash\",\"Scrypt\",\"CryptoNight\",\"SkunkHash\",\"Scrypt\",\"CryptoNight\",\"Scrypt\",\"Dagger\",\"Lyra2REv2\",\"X13\",\"Proof-of-BibleHash\",\"SHA-256 + Hive\",\"Scrypt\",\"Scrypt\",\"X11\",\"C11\",\"Proof-of-Authority\",\"X11\",\"XEVAN\",\"Scrypt\",\"VBFT\",\"Ethash\",\"CryptoNight\",\"Scrypt\",\"IMesh\",\"NIST5\",\"Scrypt\",\"Scrypt\",\"Equihash\",\"Scrypt\",\"Lyra2Z\",\"Green Protocol\",\"PoS\",\"Scrypt\",\"Semux BFT consensus\",\"X11\",\"Quark\",\"PoS\",\"CryptoNight\",\"X16R\",\"Scrypt\",\"NIST5\",\"Lyra2RE\",\"XEVAN\",\"Tribus\",\"Scrypt\",\"Lyra2Z\",\"CryptoNight\",\"CryptoNight Heavy\",\"CryptoNight\",\"Scrypt\",\"Scrypt\",\"Jump Consistent Hash\",\"SHA-256D\",\"CryptoNight\",\"Scrypt\",\"X15\",\"Scrypt\",\"Quark\",\"SHA-256\",\"DPoS\",\"X16R\",\"HMQ1725\",\"X11\",\"X16R\",\"Quark\",\"Quark\",\"Scrypt\",\"Lyra2REv2\",\"Quark\",\"Scrypt\",\"Scrypt\",\"CryptoNight-V7\",\"Cryptonight-GPU\",\"XEVAN\",\"CryptoNight Heavy\",\"X11\",\"X11\",\"Scrypt\",\"PoS\",\"SHA-256\",\"Keccak\",\"X11\",\"X11\",\"Scrypt\",\"SHA-512\",\"X16R\",\"ECC 256K1\",\"Equihash\",\"XEVAN\",\"Lyra2Z\",\"SHA-256\",\"XEVAN\",\"X11\",\"CryptoNight\",\"Quark\",\"Blake\",\"Blake\",\"Equihash\",\"Exosis\",\"Scrypt\",\"Scrypt\",\"Equihash\",\"Quark\",\"Equihash\",\"Quark\",\"Scrypt\",\"QuBit\",\"X11\",\"Scrypt\",\"XEVAN\",\"SHA-256D\",\"X11\",\"SHA-256\",\"X13\",\"SHA-256\",\"X11\",\"DPoS\",\"Scrypt\",\"Scrypt\",\"X11\",\"NeoScrypt\",\"Scrypt\",\"Blake\",\"Scrypt\",\"SHA-256\",\"Scrypt\",\"X11\",\"Scrypt\",\"Scrypt\",\"SHA-256\",\"X11\",\"SHA-256\",\"Scrypt\",\"Scrypt\",\"Scrypt\",\"Groestl\",\"X11\",\"Scrypt\",\"PoS\",\"Scrypt\",\"Scrypt\",\"X11\",\"SHA-256\",\"DPoS\",\"Scrypt\",\"Scrypt\",\"NeoScrypt\",\"SHA3-256\",\"Multiple\",\"X13\",\"Equihash+Scrypt\",\"DPoS\",\"Ethash\",\"DPoS\",\"SHA-256\",\"Leased POS\",\"PoS\",\"TRC10\",\"PoS\",\"SHA-256\",\"Scrypt\",\"CryptoNight\",\"Equihash\",\"Scrypt\"],\"CoinName\":[\"42 Coin\",\"404Coin\",\"EliteCoin\",\"Bitcoin\",\"Ethereum\",\"Litecoin\",\"Dash\",\"Monero\",\"Ethereum Classic\",\"ZCash\",\"Bitshares\",\"DigiByte\",\"BitcoinDark\",\"PayCoin\",\"ProsperCoin\",\"KoboCoin\",\"Spreadcoin\",\"Argentum\",\"Aurora Coin\",\"BlueCoin\",\"MyriadCoin\",\"MoonCoin\",\"ZetaCoin\",\"SexCoin\",\"Quatloo\",\"EnergyCoin\",\"QuarkCoin\",\"Riecoin\",\"Digitalcoin \",\"BitBar\",\"Catcoin\",\"CryptoBullion\",\"CannaCoin\",\"CryptCoin\",\"CasinoCoin\",\"Diamond\",\"Verge\",\"DevCoin\",\"EarthCoin\",\"E-Gulden\",\"Einsteinium\",\"Emerald\",\"Exclusive Coin\",\"FlutterCoin\",\"Franko\",\"FeatherCoin\",\"GrandCoin\",\"GlobalCoin\",\"GoldCoin\",\"HoboNickels\",\"HyperStake\",\"Infinite Coin\",\"IOCoin\",\"IXcoin\",\"KrugerCoin\",\"LuckyCoin\",\"Litebar \",\"MaxCoin\",\"MegaCoin\",\"MediterraneanCoin\",\"MintCoin\",\"MinCoin\",\"MazaCoin\",\"Nautilus Coin\",\"NavCoin\",\"NobleCoin\",\"Namecoin\",\"NyanCoin\",\"OpalCoin\",\"Orbitcoin\",\"PotCoin\",\"PhoenixCoin\",\"Reddcoin\",\"RonPaulCoin\",\"StableCoin\",\"SmartCoin\",\"SuperCoin\",\"SyncCoin\",\"SysCoin\",\"TeslaCoin\",\"TigerCoin\",\"TittieCoin\",\"TorCoin\",\"TerraCoin\",\"UnbreakableCoin\",\"Unobtanium\",\"UroCoin\",\"UnitaryStatus Dollar\",\"UltraCoin\",\"ViaCoin\",\"VeriCoin\",\"Vertcoin\",\"WorldCoin\",\"X11 Coin\",\"Crypti\",\"JouleCoin\",\"StealthCoin\",\"ZCC Coin\",\"ByteCoin\",\"DigitalNote \",\"BurstCoin\",\"StorjCoin\",\"MonaCoin\",\"Neutron\",\"FairCoin\",\"Gulden\",\"RubyCoin\",\"PesetaCoin\",\"Kore\",\"Wild Beast Coin\",\"Dnotes\",\"Flo\",\"8BIT Coin\",\"Sativa Coin\",\"ArtByte\",\"Folding Coin\",\"Ucoin\",\"Unitus\",\"CypherPunkCoin\",\"OmniCron\",\"Vtorrent\",\"GreenCoin\",\"Cryptonite\",\"MasterCoin\",\"SoonCoin\",\"1Credit\",\"IslaCoin\",\"Nexus\",\"MarsCoin \",\"Crypto\",\"Anarchists Prime\",\"Droidz\",\"BowsCoin\",\"Squall Coin\",\"Song Coin\",\"BitZeny\",\"Diggits\",\"Expanse\",\"Paycon\",\"Siacoin\",\"Emercoin\",\"EverGreenCoin\",\"MindCoin\",\"I0coin\",\"Decred\",\"Revolution VR\",\"HOdlcoin\",\"EDRCoin\",\"Hitcoin\",\"Gamecredits\",\"DubaiCoin\",\"CarpeDiemCoin\",\"PWR Coin\",\"BillaryCoin\",\"GPU Coin\",\"Adzcoin\",\"SoilCoin\",\"YoCoin\",\"SibCoin\",\"EuropeCoin\",\"ZeitCoin\",\"SwingCoin\",\"SafeExchangeCoin\",\"Nebuchadnezzar\",\"Francs\",\"BolivarCoin\",\"Ratecoin\",\"Revenu\",\"Clockcoin\",\"VIP Tokens\",\"BitSend\",\"Omni\",\"Let it Ride\",\"PutinCoin\",\"iBankCoin\",\"Frankywillcoin\",\"MudraCoin\",\"PizzaCoin\",\"Lutetium Coin\",\"Komodo\",\"GoldBlocks\",\"CarterCoin\",\"Karbo\",\"BitTokens\",\"ZayedCoin\",\"MustangCoin\",\"ZoneCoin\",\"Circuits of Value\",\"RootCoin\",\"DopeCoin\",\"BitCurrency\",\"DollarCoin\",\"Swiscoin\",\"Shilling\",\"BuzzCoin\",\"Opair\",\"PesoBit\",\"Halloween Coin\",\"ZCoin\",\"CoffeeCoin\",\"RoyalCoin\",\"GanjaCoin V2\",\"TeamUP\",\"LanaCoin\",\"Elementrem\",\"ZClassic\",\"ARK\",\"InsaneCoin\",\"KiloCoin\",\"ArtexCoin\",\"EmberCoin\",\"XenixCoin\",\"FreeCoin\",\"PLNCoin\",\"AquariusCoin\",\"Kurrent\",\"Creatio\",\"Eternity\",\"Eurocoin\",\"BitcoinFast\",\"Stakenet\",\"BitConnect Coin\",\"MoneyCoin\",\"Enigma\",\"Cannabis Industry Coin\",\"Russiacoin\",\"PandaCoin\",\"GameUnits\",\"GAKHcoin\",\"Allsafe\",\"LiteCreed\",\"OsmiumCoin\",\"Bikercoins\",\"HexxCoin\",\"Klingon Empire Darsek\",\"Internet of People\",\"KushCoin\",\"Printerium\",\"PacCoin\",\"Impeach\",\"Citadel\",\"Zilbercoin\",\"FirstCoin\",\"BeaverCoin\",\"FindCoin\",\"VaultCoin\",\"Zero\",\"OpenChat\",\"Canada eCoin\",\"Zoin\",\"RenosCoin\",\"DubaiCoin\",\"VirtacoinPlus\",\"TajCoin\",\"Impact\",\"EB3coin\",\"Atmos\",\"HappyCoin\",\"Coinonat\",\"MacronCoin\",\"Condensate\",\"Independent Money System\",\"ArgusCoin\",\"LomoCoin\",\"ProCurrency\",\"GoldReserve\",\"BenjiRolls\",\"GrowthCoin\",\"ILCoin\",\"Phreak\",\"Degas Coin\",\"HTML5 Coin\",\"Ultimate Secure Cash\",\"EquiTrader\",\"QTUM\",\"Quantum Resistant Ledger\",\"Espers\",\"Dynamic\",\"Nano\",\"ChanCoin\",\"Dinastycoin\",\"Denarius\",\"DigitalPrice\",\"Virta Unique Coin\",\"Bitcoin Planet\",\"Unify\",\"BritCoin\",\"SocialCoin\",\"ArcticCoin\",\"DAS\",\"Linda\",\"LeviarCoin\",\"DeepOnion\",\"Bitcore\",\"gCn Coin\",\"SmartCash\",\"Signatum\",\"Onix\",\"Cream\",\"Bitcoin Cash\",\"Monoeci\",\"Draftcoin\",\"Vechain\",\"Sojourn Coin\",\"Stakecoin\",\"NewYorkCoin\",\"FrazCoin\",\"Kronecoin\",\"AdCoin\",\"Linx\",\"CoinonatX\",\"Ethereum Dark\",\"Sumokoin\",\"Obsidian\",\"Cardano\",\"Regalcoin\",\"BitcoinZ\",\"TrezarCoin\",\"Elements\",\"TerraNovaCoin\",\"VIVO Coin\",\"Rupee\",\"Bitcoin Gold\",\"WomenCoin\",\"Theresa May Coin\",\"NamoCoin\",\"LUXCoin\",\"Pirl\",\"Xios\",\"Bitcloud 2.0\",\"eBoost\",\"KekCoin\",\"BlackholeCoin\",\"Infinity Economics\",\"Pura\",\"Innova\",\"Ellaism\",\"GoByte\",\"Magnet\",\"Lamden Tau\",\"Electra\",\"Bitcoin Diamond\",\"SHIELD\",\"Cash & Back Coin\",\"UltraNote\",\"BitCoal\",\"DaxxCoin\",\"Bulwark\",\"Kalkulus\",\"AC3\",\"Lethean\",\"GermanCoin\",\"LiteCoin Ultra\",\"PopularCoin\",\"PhantomX\",\"Photon\",\"Sucre\",\"SparksPay\",\"Digiwage\",\"GunCoin\",\"IrishCoin\",\"Trollcoin\",\"Litecoin Plus\",\"Monkey Project\",\"Pioneer Coin\",\"UnitedBitcoin\",\"Interzone\",\"TokenPay\",\"1717 Masonic Commemorative Token\",\"My Big Coin\",\"TurtleCoin\",\"MUNcoin\",\"Unified Society USDEX\",\"Niobio Cash\",\"ShareChain\",\"Travelflex\",\"KREDS\",\"Tokyo Coin\",\"BiblePay\",\"LitecoinCash\",\"BitFlip\",\"LottoCoin\",\"Crypto Improvement Fund\",\"Stipend\",\"Poa Network\",\"Pushi\",\"Ellerium\",\"Velox\",\"Ontology\",\"Callisto Network\",\"BitTube\",\"Poseidon\",\"Aidos Kuneen\",\"Bitspace\",\"Briacoin\",\"Ignition\",\"Bitrolium\",\"MedicCoin\",\"Alpenschillling\",\"Bitcoin Green\",\"Deviant Coin\",\"Abjcoin\",\"Semux\",\"FuturoCoin\",\"Carebit\",\"Zealium\",\"Monero Classic\",\"Proton\",\"iDealCash\",\"Jumpcoin\",\"Infinex\",\"Bitcoin Incognito\",\"KEYCO\",\"HollyWoodCoin\",\"GINcoin\",\"PlatinCoin\",\"Loki\",\"Newton Coin\",\"Swisscoin\",\"Xt3ch\",\"MassGrid\",\"TheVig\",\"PluraCoin\",\"EmaratCoin\",\"Dekado\",\"Lynx\",\"Poseidon Quark\",\"BitcoinWSpectrum\",\"Muse\",\"Motion\",\"PlusOneCoin\",\"Axe\",\"Trivechain\",\"Dystem\",\"Giant\",\"Peony Coin\",\"Absolute Coin\",\"Vitae\",\"HexCoin\",\"TPCash\",\"Webchain\",\"Ryo\",\"Urals Coin\",\"Qwertycoin\",\"ARENON\",\"EUNO\",\"MMOCoin\",\"Ketan\",\"Project Pai\",\"XDNA\",\"PAXEX\",\"Azart\",\"ThunderStake\",\"Kcash\",\"Xchange\",\"Acute Angle Cloud\",\"CrypticCoin\",\"Bettex coin\",\"Actinium\",\"Bitcoin SV\",\"BitMoney\",\"Junson Ming Chan Coin\",\"FREDEnergy\",\"HerbCoin\",\"Universal Molecule\",\"Lithium\",\"PirateCash\",\"Exosis\",\"Block-Logic\",\"Oduwa\",\"Beam\",\"Galilel\",\"Bithereum\",\"Crypto Sports\",\"Credit\",\"SLICE\",\"Dash Platinum\",\"Nasdacoin\",\"Beetle Coin\",\"Titan Coin\",\"Award\",\"BLAST\",\"Bitcoin Rhodium\",\"GlobalToken\",\"Insane Coin\",\"ALAX\",\"LiteDoge\",\"SolarCoin\",\"TruckCoin\",\"UFO Coin\",\"OrangeCoin\",\"BlakeCoin\",\"BitstarCoin\",\"NeosCoin\",\"HyperCoin\",\"PinkCoin\",\"Crypto Escudo\",\"AudioCoin\",\"IncaKoin\",\"Piggy Coin\",\"Crown Coin\",\"Genstake\",\"SmileyCoin\",\"XiaoMiCoin\",\"Groestlcoin\",\"CapriCoin\",\" ClubCoin\",\"Radium\",\"Bata\",\"Pakcoin\",\"Creditbit \",\"OKCash\",\"Lisk\",\"HiCoin\",\"WhiteCoin\",\"FriendshipCoin\",\"Fiii\",\"JoinCoin\",\"Triangles Coin\",\"Vollar\",\"EOS\",\"Reality Clash\",\"Oxycoin\",\"TigerCash\",\"Waves\",\"Particl\",\"BitTorrent\",\"Nxt\",\"ZEPHYR\",\"Gapcoin\",\"Beldex\",\"Horizen\",\"BitcoinPlus\"],\"ProofType\":[\"PoW/PoS\",\"PoW/PoS\",\"PoW/PoS\",\"PoW\",\"PoW\",\"PoW\",\"PoW/PoS\",\"PoW\",\"PoW\",\"PoW\",\"PoS\",\"PoW\",\"PoW/PoS\",\"PoS\",\"PoW\",\"PoW/PoS\",\"PoW\",\"PoW\",\"PoW/PoS\",\"PoW/PoS\",\"PoW\",\"PoW\",\"PoW\",\"PoW\",\"PoW\",\"PoW/PoS\",\"PoW\",\"PoW\",\"PoW\",\"PoW/PoS\",\"PoW\",\"PoW/PoS\",\"PoW\",\"PoW\",\"PoC\",\"PoW/PoS\",\"PoW\",\"PoW\",\"PoW\",\"PoW\",\"PoW\",\"PoW\",\"PoS\",\"PoS/PoW/PoT\",\"PoW\",\"PoW\",\"PoW\",\"PoW\",\"PoW\",\"PoW/PoS\",\"PoS\",\"PoW\",\"PoW/PoS\",\"PoW\",\"PoW\",\"PoW\",\"PoW\",\"PoW/PoS\",\"PoW\",\"PoW\",\"PoS\",\"PoW\",\"PoW/PoS\",\"PoS\",\"PoW/PoS\",\"PoW\",\"PoW\",\"PoW\",\"PoW/PoS\",\"PoW/PoS\",\"PoW/PoS\",\"PoW/PoS\",\"PoW/PoS\",\"PoW\",\"PoW\",\"PoW\",\"PoS\",\"PoW/PoS\",\"PoW\",\"PoS\",\"PoW\",\"PoS\",\"PoW/PoS\",\"PoW\",\"PoW\",\"PoW\",\"PoW\",\"PoW/PoS\",\"PoW/PoS\",\"PoW\",\"PoST\",\"PoW\",\"PoW\",\"PoW/PoS\",\"PoS\",\"PoW\",\"PoW/PoS\",\"PoW/PoS\",\"PoW\",\"PoW\",\"PoC\",\"PoS\",\"PoW\",\"PoW/PoS\",\"PoW/PoS\",\"PoW\",\"PoS\",\"PoW\",\"PoW/PoS\",\"PoW\",\"PoS\",\"PoW\",\"PoW/PoS\",\"PoW/PoS\",\"PoW\",\"PoW\",\"PoS\",\"PoW\",\"PoW\",\"PoW\",\"PoW/PoS\",\"PoW\",\"PoW\",\"PoW\",\"PoW\",\"PoW\",\"PoW/PoS\",\"PoW/nPoS\",\"PoW\",\"PoW\",\"PoW\",\"PoW/PoS\",\"PoW\",\"PoS/PoW\",\"PoW\",\"PoW\",\"PoS\",\"PoW\",\"PoW/PoS\",\"PoW\",\"PoW/PoS\",\"PoW/PoS\",\"PoW\",\"PoW\",\"PoW/PoS\",\"PoW\",\"PoW\",\"PoW/PoS\",\"PoW/PoS\",\"PoW\",\"PoW/PoS\",\"PoW\",\"PoW/PoS\",\"PoW/PoS\",\"PoS\",\"PoW\",\"PoW\",\"PoW\",\"PoW\",\"PoW/PoS\",\"PoS\",\"PoW/PoS\",\"PoC\",\"PoS\",\"PoW\",\"PoW\",\"PoW/PoS\",\"PoW/PoS\",\"PoW/PoS\",\"PoW/PoS\",\"PoW/PoS\",\"PoW\",\"PoS\",\"PoW/PoS\",\"PoW/PoS\",\"PoW/PoS\",\"PoS\",\"PoW\",\"PoS\",\"dPoW/PoW\",\"PoW/PoS\",\"PoW/PoS\",\"PoW\",\"PoW/PoS\",\"PoW\",\"PoW/PoS\",\"PoW/PoS\",\"PoW\",\"PoW/PoS\",\"PoW\",\"PoS\",\"PoW\",\"PoW/PoW\",\"PoW\",\"PoW/PoS\",\"PoS\",\"PoW/PoS\",\"PoW/PoS\",\"PoW\",\"PoS\",\"PoS\",\"PoW/PoS\",\"PoS\",\"PoW/PoS\",\"PoW\",\"PoW\",\"DPoS\",\"PoW/PoS\",\"PoW\",\"PoW\",\"PoW/PoS\",\"PoW/PoS\",\"PoS\",\"PoW/PoS\",\"PoW/PoS\",\"PoW\",\"PoS\",\"PoW/PoS\",\"PoW/PoS\",\"PoW/PoS\",\"TPoS\",\"PoW/PoS\",\"PoW/PoS\",\"PoW/PoS\",\"PoW\",\"PoW/PoS\",\"PoS\",\"PoW/PoS\",\"PoW/PoS\",\"PoS\",\"PoW/PoS\",\"PoW\",\"PoW\",\"PoW\",\"PoW/PoS\",\"PoW/PoS\",\"PoW/PoS\",\"PoW/PoS\",\"PoW\",\"PoW/PoS\",\"PoW\",\"PoS\",\"PoW/PoS \",\"PoW\",\"PoS\",\"PoW\",\"PoW\",\"PoW/PoS\",\"PoW\",\"PoW\",\"PoS\",\"PoW\",\"PoW/PoS\",\"PoW/PoS\",\"PoW/PoS\",\"PoW\",\"PoS\",\"PoW/PoS\",\"PoW\",\"PoS\",\"PoW/PoS\",\"PoW/PoS\",\"PoW/PoS\",\"PoW/PoS\",\"PoS\",\"PoW/PoS\",\"PoW\",\"PoS\",\"PoW\",\"PoS\",\"PoW/PoS\",\"PoW/PoS\",\"PoS\",\"PoW\",\"PoS\",\"PoW\",\"PoW/PoS\",\"PoW\",\"PoW\",\"PoW\",\"PoW\",\"PoW/PoS\",\"PoW\",\"PoW/PoS\",\"PoW/PoS\",\"PoW\",\"PoW/PoS\",\"PoW\",\"PoW\",\"PoW\",\"PoW/PoS\",\"PoW\",\"PoW/PoS\",\"PoW\",\"PoW\",\"PoW\",\"PoS\",\"PoW\",\"PoW/PoS\",\"PoW\",\"PoW/PoS\",\"PoS\",\"Proof of Authority\",\"PoW\",\"PoS\",\"PoW\",\"PoW\",\"PoW\",\"PoW\",\"PoW\",\"PoW/PoS\",\"PoW/PoS\",\"PoW\",\"PoS\",\"PoS\",\"PoW/PoS\",\"PoW\",\"PoW/PoS\",\"PoW\",\"PoW/PoS\",\"PoW\",\"PoS\",\"PoW\",\"PoW/PoS\",\"PoW/PoS\",\"PoW/PoS\",\"PoW/PoS\",\"PoW\",\"PoW/PoS\",\"PoW/PoS\",\"PoW\",\"PoS\",\"PoW/PoS\",\"PoS\",\"PoW\",\"PoW\",\"PoW\",\"PoW\",\"PoW/PoS\",\"DPoS\",\"PoW/PoS\",\"PoW/PoS\",\"PoW\",\"PoW/PoS\",\"PoW\",\"PoW\",\"PoW\",\"PoS\",\"PoS\",\"PoW\",\"PoW\",\"PoW/PoS\",\"PoW/PoS\",\"PoW\",\"PoW/PoS\",\"PoW\",\"PoW\",\"PoW\",\"PoS\",\"PoW\",\"PoW\",\"PoW/PoS\",\"PoW/PoS\",\"PoS\",\"PoW\",\"PoW\",\"PoW\",\"PoS\",\"PoS\",\"PoW and PoS\",\"PoW\",\"PoW\",\"PoW/PoS\",\"PoW\",\"PoW\",\"PoW\",\"PoW\",\"PoS\",\"POBh\",\"PoW + Hive\",\"PoW\",\"PoW\",\"PoW\",\"PoW/PoS\",\"PoA\",\"PoW/PoS\",\"PoW/PoS\",\"PoS\",\"PoS\",\"PoW\",\"PoW\",\"PoW\",\"PoW\",\"PoW/PoS\",\"PoW/PoS\",\"PoW/PoS\",\"PoW\",\"PoS\",\"PoW\",\"PoS\",\"PoS\",\"PoW/PoS\",\"DPoS\",\"PoW\",\"PoW/PoS\",\"PoS\",\"PoW\",\"PoS\",\"PoW/PoS\",\"PoW\",\"PoW\",\"PoS/PoW\",\"PoW\",\"PoS\",\"PoW\",\"PoW\",\"PoW\",\"PoW\",\"PoW/PoS\",\"PoS\",\"PoW\",\"PoW/PoS\",\"PoW\",\"PoW/PoS\",\"PoS\",\"HPoW\",\"PoS\",\"PoS\",\"PoS\",\"PoW\",\"PoW\",\"PoW\",\"PoW/PoS\",\"PoS\",\"PoW/PoS\",\"PoS\",\"PoW/PoS\",\"PoS\",\"PoW\",\"PoW/PoS\",\"PoW\",\"PoW\",\"PoW\",\"PoW\",\"PoS\",\"PoW/PoS\",\"PoS\",\"PoS\",\"PoW\",\"PoW/PoS\",\"PoS\",\"PoW\",\"PoW/PoS\",\"Zero-Knowledge Proof\",\"PoW\",\"DPOS\",\"PoW\",\"PoS\",\"PoW\",\"PoW\",\"Pos\",\"PoS\",\"PoW\",\"PoW/PoS\",\"PoW\",\"PoW\",\"PoS\",\"PoW\",\"PoW\",\"PoW/PoS\",\"PoW\",\"PoW/PoS\",\"PoW\",\"PoS\",\"PoW/PoS\",\"PoW\",\"PoS\",\"PoW/PoS\",\"PoW/PoS\",\"PoW/PoS\",\"PoW/PoS\",\"PoW\",\"PoW\",\"PoW\",\"PoW/PoS\",\"DPoS\",\"PoW/PoS\",\"PoW\",\"PoW/PoS\",\"PoW\",\"PoW/PoS\",\"PoW\",\"PoW/PoS\",\"PoS\",\"PoW/PoS\",\"PoW/PoS\",\"PoW\",\"PoW/PoS\",\"PoW/PoS\",\"PoW/PoS\",\"PoW\",\"PoW/PoS\",\"PoW\",\"PoW/PoS\",\"PoW\",\"PoW/PoS\",\"PoW/PoS\",\"PoS\",\"PoW\",\"PoW\",\"Proof of Trust\",\"PoW/PoS\",\"DPoS\",\"PoS\",\"PoW/PoS\",\"PoW/PoS\",\"DPoC\",\"PoW\",\"PoW/PoS\",\"PoW\",\"DPoS\",\"PoW\",\"DPoS\",\"PoS\",\"LPoS\",\"PoS\",\"DPoS\",\"PoS/LPoS\",\"DPoS\",\"PoW/PoS\",\"PoW\",\"PoW\",\"PoS\"],\"TotalCoinSupply\":[\"42\",\"532000000\",\"314159265359\",\"21000000\",\"0\",\"84000000\",\"22000000\",\"0\",\"210000000\",\"21000000\",\"3600570502\",\"21000000000\",\"22000000\",\"12500000\",\"21000000\",\"350000000\",\"20000000\",\"64000000\",\"16768584\",\"0\",\"2000000000\",\"384000000000\",\"169795588\",\"250000000\",\"100000000\",\"0\",\"247000000\",\"84000000\",\"48166000\",\"500000\",\"21000000 \",\"1000000\",\"13140000\",\"18000000\",\"40000000000\",\"4380000\",\"16555000000\",\"21000000000\",\"13500000000\",\"21000000 \",\"299792458\",\"32000000\",\"0\",\"0\",\"11235813\",\"336000000\",\"1420609614\",\"70000000\",\"72245700\",\"120000000\",\"0\",\"90600000000\",\"22000000\",\"21000000\",\"265420800\",\"20000000\",\"1350000\",\"100000000\",\"42000000\",\"200000000\",\"0\",\"10000000\",\"2419200000\",\"16180000\",\"0\",\"15000000000\",\"21000000\",\"337000000\",\"0\",\"3770000\",\"420000000\",\"98000000\",\"0\",\"21000000\",\"250000000\",\"51200000\",\"0\",\"1000\",\"888000000\",\"100000000\",\"47011968\",\"2300000000\",\"10000000\",\"42000000\",\"80000000\",\"250000\",\"0\",\"1600000000\",\"100000000\",\"23000000\",\"0\",\"84000000\",\"265420800\",\"5500000\",\"0\",\"45000000\",\"0\",\"1000000000\",\"184467440735\",\"10000000000\",\"2158812800\",\"500000000\",\"105120000\",\"68000000\",\"0\",\"1680000000\",\"0\",\"166386000\",\"12000000\",\"2628000\",\"500000000\",\"160000000\",\"0\",\"10000000\",\"1000000000\",\"1000000000\",\"20000000\",\"0\",\"0\",\"3371337\",\"20000000\",\"10000000000\",\"1840000000\",\"619478\",\"21000000\",\"92000000000\",\"0\",\"78000000\",\"33000000\",\"65789100\",\"53760000\",\"5060000\",\"21000000\",\"0\",\"210240000\",\"250000000\",\"100000000\",\"16906397\",\"50000000\",\"0\",\"1000000000\",\"26298000\",\"16000000\",\"21000000\",\"21000000\",\"210000000\",\"81962100\",\"22000000\",\"26550000000\",\"84000000\",\"10500000\",\"21626280000 \",\"0\",\"42000000\",\"221052632\",\"84000000\",\"30000000\",\"168351300\",\"24000000\",\"384000000\",\" 99000000000\",\"40000000\",\"2147483647\",\"20000000\",\"20000000\",\"25000000\",\"75000000\",\"222725000\",\"525000000\",\"90000000\",\"139000000\",\"616448\",\"33500000\",\"2000000000\",\"44333333\",\"100000000\",\"200000000\",\"25000000\",\"657000000\",\"200000000\",\"50000000\",\"90000000\",\"10000000\",\"21000000\",\"9736000\",\"3000000\",\"21000000\",\"1200000000\",\"0\",\"200000000\",\"0\",\"10638298\",\"3100000000\",\"30000000\",\"20000000000\",\"74000000\",\"0\",\"1500000000\",\"21400000\",\"39999898\",\"2500124\",\"100000000\",\"301000000\",\"7506000000\",\"26205539\",\"21000000\",\"125000000\",\"30000000\",\"10000000000\",\"500000000\",\"850000000\",\"3853326.77707314\",\"50000000\",\"38540000 \",\"42000000\",\"228000000\",\"20000000\",\"60000000\",\"20000000\",\"33000000\",\"76500000\",\"28000000\",\"650659833\",\"5000000\",\"21000000\",\"144000000\",\"32514916898\",\"13000000\",\"3315789\",\"15000000\",\"78835200\",\"2714286\",\"25000000\",\"9999999\",\"500000000\",\"21000000\",\"9354000\",\"20000000\",\"100000000000\",\"21933333\",\"185000000\",\"55000000\",\"110000000\",\"3360000\",\"14524851.4827\",\"1000000000\",\"17000000\",\"1000000000\",\"100000000 \",\"21000000\",\"34426423\",\"2232901\",\"100000000\",\"36900000\",\"110000000\",\"4000000000\",\"110290030\",\"100000000\",\"48252000\",\"400000000\",\"500000000\",\"21212121\",\"28600000\",\"1000000000\",\"75000000000\",\"40000000\",\"35520400\",\"2000000000\",\"2500000000\",\"30000000\",\"105000000\",\"90000000000\",\"200084200\",\"72000000\",\"100000000\",\"105000000\",\"50000000000\",\"0\",\"340282367\",\"30000000\",\"2000000000\",\"10000000\",\"100000000\",\"120000000\",\"100000000\",\"19276800\",\"30000000\",\" 75000000\",\"60000000\",\"18900000\",\"50000000000\",\"54000000\",\"18898187.6216583\",\"21000000\",\"200000000000\",\"5000000000\",\"137500000\",\"1100000000\",\"100000000\",\"21000000\",\"9507271\",\"17405891.19707116\",\"86712634466\",\"10500000000\",\"61599965\",\"0\",\"20000000\",\"84000000\",\"100000000\",\"100000000\",\"48252000\",\"4200000\",\"88888888\",\"91388946\",\"45000000000\",\"27000000\",\"21000000000\",\"400000000\",\"1800000000\",\"15733333\",\"27000000\",\"24000000\",\"21000000\",\"25000000000\",\"100000000\",\"1200000000\",\"60000000\",\"156306732.71\",\"21000000\",\"200000000\",\"100000000\",\"21000000\",\"14788275.991\",\"9000000000\",\"350000000\",\"45000000\",\"280000000\",\"31800000\",\"144000000\",\"500000000\",\"30000000000\",\"210000000\",\"660000000\",\"210000000\",\"85000000000\",\"12500000\",\"10000000000\",\"27716121\",\"20000000\",\"550000000\",\"999481516\",\"50000000000\",\"150000000\",\"4999999999\",\"50000000\",\" 90000000000\",\"19800000\",\"21000000\",\"120000000\",\"500000000\",\"64000000\",\"900000000\",\"4000000\",\"21000000\",\"23000000\",\"20166000\",\"23000000\",\"25000000\",\"1618033\",\"30000000\",\"1000000000000\",\"16600000\",\"232000000\",\"336000000\",\"10000000000\",\"100000000\",\"1100000000\",\"800000000\",\"5200000000\",\"840000000\",\"40000000\",\"18406979840\",\"500000000\",\"19340594\",\"252460800\",\"25000000\",\"60000000\",\"124000000\",\"1000000000\",\"6500000000\",\"1000000000\",\"21000000\",\"25000000\",\"50000000\",\"3000000\",\"5000000\",\"70000000\",\"500000000\",\"300000000\",\"21000000\",\"88000000\",\"30000000\",\"100000000\",\"100000000\",\"200000000\",\"80000000\",\"18400000\",\"45000000\",\"5121951220\",\"21000000\",\"26280000\",\"21000000\",\"18000000\",\"26000000\",\"10500000\",\"600000518\",\"150000000\",\"184000000000\",\"10200000000\",\"44000000\",\"168000000\",\"100000000\",\"1000000000\",\"84000000\",\"90000000\",\"92000000000\",\"650000000 \",\"100262205\",\"18081806 \",\"22075700\",\"21000000\",\"21000000\",\"82546564\",\"21000000\",\"5151000\",\"16880000000\",\"52500000\",\"100000000\",\"22105263\",\"1000000000\",\"1750000000\",\"88188888\",\"210000000\",\"184470000000\",\"55000000\",\"50000000\",\"260000000\",\"210000000\",\"2100000000\",\"366000000\",\"100000000\",\"25000000\",\"18000000000\",\"1000000000\",\"100000000\",\"1000000000\",\"7600000000\",\"50000000\",\"84000000\",\"21000000\",\"70000000000\",\"0\",\"8080000000\",\"54000000\",\"105120001.44\",\"25228800\",\"105000000\",\"21000000\",\"120000000\",\"21000000\",\"262800000\",\"19035999\",\"30886000\",\"13370000\",\"74800000000\",\"100000000\",\"19700000\",\"84000000\",\"500000000\",\"5000000000\",\"420000000\",\"64000000\",\"2100000\",\"168000000\",\"30000000\",\"1000000000\",\"35000000000\",\"98100000000\",\"0\",\"4000000000\",\"200000000\",\"7000000000\",\"54256119\",\"21000000\",\"0\",\"500000000\",\"1000000000\",\"10500000000\",\"190000000\",\"1000000000\",\"42000000\",\"15000000\",\"50000000000\",\"400000000\",\"105000000\",\"208000000\",\"160000000\",\"9000000\",\"5000000\",\"182000000\",\"16504333\",\"105000000\",\"159918400\",\"10008835635\",\"300000000\",\"60168145\",\"5000000000\",\"2800000\",\"120000\",\"2100000000\",\"0\",\"24487944\",\"0\",\"1000000000\",\"100000000\",\"8634140\",\"990000000000\",\"1000000000\",\"2000000000\",\"250000000\",\"1400222610\",\"21000000\",\"1000000\"],\"TotalCoinsMined\":{\"__ndarray__\":\"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\",\"dtype\":\"float64\",\"order\":\"little\",\"shape\":[533]},\"class\":{\"__ndarray__\":\"AAAAAAAAAAAEAAAAAAAAAAMAAAAAAAAAAAAAAAMAAAADAAAAAwAAAAEAAAADAAAAAAAAAAEAAAAAAAAAAAAAAAAAAAAAAAAAAAAAAAAAAAADAAAABAAAAAAAAAAAAAAAAAAAAAAAAAAAAAAAAwAAAAAAAAAAAAAAAAAAAAAAAAAAAAAAAAAAAAEAAAADAAAAAwAAAAAAAAAAAAAAAAAAAAAAAAAAAAAAAQAAAAAAAAAAAAAAAwAAAAAAAAAAAAAAAAAAAAAAAAABAAAAAAAAAAAAAAAAAAAAAAAAAAAAAAAAAAAAAAAAAAAAAAADAAAAAQAAAAAAAAAAAAAAAQAAAAAAAAAAAAAAAAAAAAAAAAAAAAAAAwAAAAAAAAAAAAAAAAAAAAAAAAAAAAAAAAAAAAEAAAAAAAAAAAAAAAEAAAAAAAAAAQAAAAAAAAAAAAAAAAAAAAAAAAAAAAAAAAAAAAAAAAAAAAAAAAAAAAMAAAAAAAAAAAAAAAEAAAAAAAAAAAAAAAAAAAAEAAAAAwAAAAEAAAADAAAAAAAAAAAAAAADAAAAAAAAAAEAAAAAAAAAAAAAAAAAAAABAAAAAAAAAAAAAAAAAAAAAAAAAAAAAAABAAAAAwAAAAAAAAAAAAAAAAAAAAAAAAADAAAAAAAAAAAAAAAAAAAAAAAAAAAAAAAAAAAAAwAAAAAAAAAAAAAAAAAAAAEAAAAAAAAAAAAAAAEAAAADAAAAAAAAAAMAAAAAAAAAAAAAAAAAAAAAAAAAAwAAAAAAAAADAAAAAAAAAAAAAAAAAAAAAAAAAAAAAAADAAAAAAAAAAEAAAAAAAAAAwAAAAAAAAAAAAAAAAAAAAEAAAAAAAAAAQAAAAEAAAAAAAAAAAAAAAAAAAAAAAAAAAAAAAMAAAAAAAAAAAAAAAEAAAAAAAAAAAAAAAAAAAABAAAAAAAAAAEAAAADAAAAAAAAAAAAAAADAAAAAAAAAAAAAAAAAAAAAAAAAAMAAAAAAAAAAAAAAAEAAAAAAAAAAAAAAAAAAAAAAAAAAQAAAAAAAAAAAAAAAwAAAAEAAAABAAAAAAAAAAEAAAAAAAAAAwAAAAMAAAABAAAAAAAAAAAAAAAAAAAAAAAAAAAAAAABAAAAAAAAAAAAAAAAAAAAAQAAAAAAAAAAAAAAAAAAAAAAAAAAAAAAAAAAAAAAAAADAAAAAAAAAAEAAAAAAAAAAAAAAAEAAAAAAAAAAAAAAAMAAAADAAAAAAAAAAAAAAAAAAAAAAAAAAAAAAAAAAAAAwAAAAEAAAAAAAAAAAAAAAEAAAAAAAAAAwAAAAAAAAAAAAAAAwAAAAEAAAADAAAAAAAAAAMAAAAAAAAAAAAAAAEAAAAAAAAAAwAAAAEAAAAAAAAAAAAAAAAAAAAAAAAAAQAAAAAAAAAAAAAAAQAAAAAAAAABAAAAAAAAAAAAAAABAAAAAAAAAAEAAAADAAAAAwAAAAMAAAADAAAAAwAAAAMAAAADAAAAAAAAAAMAAAAAAAAAAAAAAAAAAAAAAAAAAAAAAAAAAAAAAAAAAwAAAAAAAAAAAAAABAAAAAMAAAABAAAAAAAAAAAAAAAAAAAAAAAAAAEAAAAAAAAAAAAAAAEAAAAAAAAAAAAAAAAAAAAAAAAAAAAAAAAAAAAAAAAAAwAAAAEAAAABAAAAAAAAAAMAAAADAAAAAAAAAAAAAAADAAAAAQAAAAMAAAAAAAAAAAAAAAMAAAAAAAAAAwAAAAAAAAAAAAAAAAAAAAEAAAAAAAAAAQAAAAAAAAADAAAAAwAAAAMAAAAAAAAAAQAAAAMAAAAAAAAAAwAAAAAAAAADAAAAAwAAAAMAAAABAAAAAQAAAAAAAAADAAAAAAAAAAAAAAAAAAAAAAAAAAMAAAAAAAAAAwAAAAEAAAADAAAAAAAAAAAAAAAAAAAAAQAAAAAAAAAAAAAAAwAAAAEAAAADAAAAAAAAAAQAAAAAAAAAAAAAAAMAAAAAAAAAAwAAAAMAAAABAAAAAQAAAAAAAAAAAAAAAAAAAAAAAAADAAAAAQAAAAAAAAAAAAAAAQAAAAEAAAADAAAAAwAAAAAAAAADAAAAAwAAAAAAAAAAAAAAAwAAAAEAAAADAAAAAQAAAAEAAAAAAAAAAQAAAAAAAAAAAAAAAQAAAAMAAAABAAAAAAAAAAMAAAADAAAAAQAAAAAAAAABAAAAAwAAAAMAAAADAAAAAwAAAAAAAAABAAAAAwAAAAAAAAADAAAAAAAAAAEAAAABAAAAAQAAAAEAAAADAAAAAAAAAAMAAAAAAAAAAAAAAAEAAAAAAAAAAQAAAAMAAAABAAAAAAAAAAAAAAADAAAAAwAAAAAAAAAEAAAAAQAAAAAAAAABAAAAAQAAAAAAAAADAAAAAQAAAAAAAAAAAAAAAAAAAAAAAAABAAAAAwAAAAEAAAADAAAAAAAAAAAAAAABAAAAAwAAAAAAAAADAAAAAwAAAAMAAAADAAAAAAAAAAAAAAADAAAAAAAAAAMAAAABAAAAAAAAAAAAAAABAAAAAAAAAAAAAAAAAAAAAAAAAAAAAAAAAAAAAAAAAAAAAAABAAAAAAAAAAAAAAAAAAAAAwAAAAAAAAADAAAAAAAAAAEAAAAAAAAAAAAAAAAAAAAAAAAAAAAAAAAAAAAAAAAAAAAAAAAAAAAAAAAAAwAAAAAAAAAAAAAAAQAAAAAAAAAAAAAAAAAAAAAAAAABAAAAAQAAAAAAAAADAAAAAQAAAAMAAAAAAAAAAwAAAAEAAAADAAAAAQAAAAEAAAABAAAAAQAAAAIAAAABAAAAAQAAAAAAAAADAAAAAwAAAAEAAAA=\",\"dtype\":\"int32\",\"order\":\"little\",\"shape\":[533]}},\"selected\":{\"id\":\"1172\"},\"selection_policy\":{\"id\":\"1206\"}},\"id\":\"1171\",\"type\":\"ColumnDataSource\"},{\"attributes\":{},\"id\":\"1198\",\"type\":\"NumberFormatter\"},{\"attributes\":{},\"id\":\"1183\",\"type\":\"StringFormatter\"},{\"attributes\":{},\"id\":\"1194\",\"type\":\"NumberEditor\"},{\"attributes\":{},\"id\":\"1172\",\"type\":\"Selection\"},{\"attributes\":{\"columns\":[{\"id\":\"1175\"},{\"id\":\"1180\"},{\"id\":\"1185\"},{\"id\":\"1190\"},{\"id\":\"1195\"},{\"id\":\"1200\"}],\"height\":300,\"reorderable\":false,\"source\":{\"id\":\"1171\"},\"view\":{\"id\":\"1204\"},\"width\":700},\"id\":\"1203\",\"type\":\"DataTable\"},{\"attributes\":{},\"id\":\"1173\",\"type\":\"StringFormatter\"},{\"attributes\":{},\"id\":\"1189\",\"type\":\"StringEditor\"},{\"attributes\":{\"source\":{\"id\":\"1171\"}},\"id\":\"1204\",\"type\":\"CDSView\"},{\"attributes\":{\"editor\":{\"id\":\"1184\"},\"field\":\"ProofType\",\"formatter\":{\"id\":\"1183\"},\"title\":\"ProofType\"},\"id\":\"1185\",\"type\":\"TableColumn\"}],\"root_ids\":[\"1169\"]},\"title\":\"Bokeh Application\",\"version\":\"2.2.1\"}};\n",
       "  var render_items = [{\"docid\":\"7e995894-8323-452c-af42-bd6870c04bb4\",\"root_ids\":[\"1169\"],\"roots\":{\"1169\":\"8dd0f01a-3948-4f87-968f-399265b9c713\"}}];\n",
       "  root.Bokeh.embed.embed_items_notebook(docs_json, render_items);\n",
       "  }\n",
       "if (root.Bokeh !== undefined) {\n",
       "    embed_document(root);\n",
       "  } else {\n",
       "    var attempts = 0;\n",
       "    var timer = setInterval(function(root) {\n",
       "      if (root.Bokeh !== undefined) {\n",
       "        clearInterval(timer);\n",
       "        embed_document(root);\n",
       "      } else if (document.readyState == \"complete\") {\n",
       "        attempts++;\n",
       "        if (attempts > 100) {\n",
       "          clearInterval(timer);\n",
       "          console.log(\"Bokeh: ERROR: Unable to run BokehJS code because BokehJS library is missing\");\n",
       "        }\n",
       "      }\n",
       "    }, 10, root)\n",
       "  }\n",
       "})(window);</script>"
      ],
      "text/plain": [
       ":Table   [CoinName,Algorithm,ProofType,TotalCoinSupply,TotalCoinsMined,class]"
      ]
     },
     "execution_count": 21,
     "metadata": {
      "application/vnd.holoviews_exec.v0+json": {
       "id": "1169"
      }
     },
     "output_type": "execute_result"
    }
   ],
   "source": [
    "# Use hvplot.table to create a data table with all the current tradable cryptocurrencies. The table should have the following columns: CoinName, Algorithm, ProofType, TotalCoinSupply, TotalCoinsMined, and Class.\\\n",
    "clustered_df.hvplot.table(\n",
    "    columns = [\n",
    "        'CoinName',\n",
    "        'Algorithm',\n",
    "        'ProofType',\n",
    "        'TotalCoinSupply',\n",
    "        'TotalCoinsMined',\n",
    "        'class'\n",
    "        ]\n",
    ")\n"
   ]
  },
  {
   "cell_type": "code",
   "execution_count": 22,
   "metadata": {},
   "outputs": [
    {
     "data": {},
     "metadata": {},
     "output_type": "display_data"
    },
    {
     "data": {
      "application/vnd.holoviews_exec.v0+json": "",
      "text/html": [
       "<div id='1221'>\n",
       "\n",
       "\n",
       "\n",
       "\n",
       "\n",
       "  <div class=\"bk-root\" id=\"ed9fd738-35d8-4bfd-a12f-fc5de4928e7f\" data-root-id=\"1221\"></div>\n",
       "</div>\n",
       "<script type=\"application/javascript\">(function(root) {\n",
       "  function embed_document(root) {\n",
       "  var docs_json = {\"69216203-6138-4be0-96de-185c9847e75e\":{\"roots\":{\"references\":[{\"attributes\":{\"axis_label\":\"TotalCoinsMined\",\"bounds\":\"auto\",\"formatter\":{\"id\":\"1259\"},\"major_label_orientation\":\"horizontal\",\"ticker\":{\"id\":\"1240\"}},\"id\":\"1239\",\"type\":\"LinearAxis\"},{\"attributes\":{\"source\":{\"id\":\"1263\"}},\"id\":\"1270\",\"type\":\"CDSView\"},{\"attributes\":{\"bottom_units\":\"screen\",\"fill_alpha\":0.5,\"fill_color\":\"lightgrey\",\"left_units\":\"screen\",\"level\":\"overlay\",\"line_alpha\":1.0,\"line_color\":\"black\",\"line_dash\":[4,4],\"line_width\":2,\"right_units\":\"screen\",\"top_units\":\"screen\"},\"id\":\"1251\",\"type\":\"BoxAnnotation\"},{\"attributes\":{},\"id\":\"1235\",\"type\":\"LinearScale\"},{\"attributes\":{},\"id\":\"1244\",\"type\":\"CategoricalTicker\"},{\"attributes\":{\"axis\":{\"id\":\"1239\"},\"grid_line_color\":null,\"ticker\":null},\"id\":\"1242\",\"type\":\"Grid\"},{\"attributes\":{\"source\":{\"id\":\"1321\"}},\"id\":\"1328\",\"type\":\"CDSView\"},{\"attributes\":{\"data_source\":{\"id\":\"1263\"},\"glyph\":{\"id\":\"1266\"},\"hover_glyph\":null,\"muted_glyph\":{\"id\":\"1268\"},\"nonselection_glyph\":{\"id\":\"1267\"},\"selection_glyph\":null,\"view\":{\"id\":\"1270\"}},\"id\":\"1269\",\"type\":\"GlyphRenderer\"},{\"attributes\":{\"fill_color\":{\"value\":\"#d62628\"},\"line_color\":{\"value\":\"#d62628\"},\"size\":{\"units\":\"screen\",\"value\":5.477225575051661},\"x\":{\"field\":\"TotalCoinsMined\"},\"y\":{\"field\":\"TotalCoinSupply\"}},\"id\":\"1324\",\"type\":\"Scatter\"},{\"attributes\":{\"axis_label\":\"TotalCoinSupply\",\"bounds\":\"auto\",\"formatter\":{\"id\":\"1261\"},\"major_label_orientation\":\"horizontal\",\"ticker\":{\"id\":\"1244\"}},\"id\":\"1243\",\"type\":\"CategoricalAxis\"},{\"attributes\":{},\"id\":\"1240\",\"type\":\"BasicTicker\"},{\"attributes\":{\"axis\":{\"id\":\"1243\"},\"dimension\":1,\"grid_line_color\":null,\"ticker\":null},\"id\":\"1245\",\"type\":\"Grid\"},{\"attributes\":{\"fill_alpha\":{\"value\":0.2},\"fill_color\":{\"value\":\"#ff7e0e\"},\"line_alpha\":{\"value\":0.2},\"line_color\":{\"value\":\"#ff7e0e\"},\"size\":{\"units\":\"screen\",\"value\":5.477225575051661},\"x\":{\"field\":\"TotalCoinsMined\"},\"y\":{\"field\":\"TotalCoinSupply\"}},\"id\":\"1286\",\"type\":\"Scatter\"},{\"attributes\":{\"label\":{\"value\":\"1\"},\"renderers\":[{\"id\":\"1287\"}]},\"id\":\"1299\",\"type\":\"LegendItem\"},{\"attributes\":{\"fill_color\":{\"value\":\"#1f77b3\"},\"line_color\":{\"value\":\"#1f77b3\"},\"size\":{\"units\":\"screen\",\"value\":5.477225575051661},\"x\":{\"field\":\"TotalCoinsMined\"},\"y\":{\"field\":\"TotalCoinSupply\"}},\"id\":\"1266\",\"type\":\"Scatter\"},{\"attributes\":{\"fill_color\":{\"value\":\"#9367bc\"},\"line_color\":{\"value\":\"#9367bc\"},\"size\":{\"units\":\"screen\",\"value\":5.477225575051661},\"x\":{\"field\":\"TotalCoinsMined\"},\"y\":{\"field\":\"TotalCoinSupply\"}},\"id\":\"1347\",\"type\":\"Scatter\"},{\"attributes\":{\"data_source\":{\"id\":\"1344\"},\"glyph\":{\"id\":\"1347\"},\"hover_glyph\":null,\"muted_glyph\":{\"id\":\"1349\"},\"nonselection_glyph\":{\"id\":\"1348\"},\"selection_glyph\":null,\"view\":{\"id\":\"1351\"}},\"id\":\"1350\",\"type\":\"GlyphRenderer\"},{\"attributes\":{\"data_source\":{\"id\":\"1321\"},\"glyph\":{\"id\":\"1324\"},\"hover_glyph\":null,\"muted_glyph\":{\"id\":\"1326\"},\"nonselection_glyph\":{\"id\":\"1325\"},\"selection_glyph\":null,\"view\":{\"id\":\"1328\"}},\"id\":\"1327\",\"type\":\"GlyphRenderer\"},{\"attributes\":{\"fill_alpha\":{\"value\":0.1},\"fill_color\":{\"value\":\"#9367bc\"},\"line_alpha\":{\"value\":0.1},\"line_color\":{\"value\":\"#9367bc\"},\"size\":{\"units\":\"screen\",\"value\":5.477225575051661},\"x\":{\"field\":\"TotalCoinsMined\"},\"y\":{\"field\":\"TotalCoinSupply\"}},\"id\":\"1348\",\"type\":\"Scatter\"},{\"attributes\":{},\"id\":\"1297\",\"type\":\"UnionRenderers\"},{\"attributes\":{\"source\":{\"id\":\"1344\"}},\"id\":\"1351\",\"type\":\"CDSView\"},{\"attributes\":{},\"id\":\"1341\",\"type\":\"UnionRenderers\"},{\"attributes\":{\"fill_alpha\":{\"value\":0.2},\"fill_color\":{\"value\":\"#1f77b3\"},\"line_alpha\":{\"value\":0.2},\"line_color\":{\"value\":\"#1f77b3\"},\"size\":{\"units\":\"screen\",\"value\":5.477225575051661},\"x\":{\"field\":\"TotalCoinsMined\"},\"y\":{\"field\":\"TotalCoinSupply\"}},\"id\":\"1268\",\"type\":\"Scatter\"},{\"attributes\":{\"text\":\"\",\"text_color\":{\"value\":\"black\"},\"text_font_size\":{\"value\":\"12pt\"}},\"id\":\"1231\",\"type\":\"Title\"},{\"attributes\":{\"data\":{\"CoinName\":[\"Bitshares\",\"PayCoin\",\"CasinoCoin\",\"Exclusive Coin\",\"HyperStake\",\"MintCoin\",\"Nautilus Coin\",\"SuperCoin\",\"TeslaCoin\",\"TittieCoin\",\"Crypti\",\"BurstCoin\",\"RubyCoin\",\"Dnotes\",\"Ucoin\",\"Squall Coin\",\"Diggits\",\"GPU Coin\",\"ZeitCoin\",\"SafeExchangeCoin\",\"Nebuchadnezzar\",\"Let it Ride\",\"MudraCoin\",\"Lutetium Coin\",\"BitCurrency\",\"Opair\",\"CoffeeCoin\",\"RoyalCoin\",\"TeamUP\",\"ARK\",\"FreeCoin\",\"Creatio\",\"PandaCoin\",\"Allsafe\",\"Zilbercoin\",\"FindCoin\",\"RenosCoin\",\"Atmos\",\"MacronCoin\",\"ProCurrency\",\"GrowthCoin\",\"Phreak\",\"Ultimate Secure Cash\",\"QTUM\",\"Signatum\",\"Draftcoin\",\"Stakecoin\",\"Obsidian\",\"Cardano\",\"Rupee\",\"KekCoin\",\"Infinity Economics\",\"Lamden Tau\",\"Bulwark\",\"Kalkulus\",\"Digiwage\",\"Monkey Project\",\"TokenPay\",\"Tokyo Coin\",\"BiblePay\",\"Poa Network\",\"Velox\",\"Ontology\",\"MedicCoin\",\"Bitcoin Green\",\"Deviant Coin\",\"Semux\",\"Zealium\",\"Proton\",\"Bitcoin Incognito\",\"HollyWoodCoin\",\"Xt3ch\",\"Dekado\",\"Lynx\",\"Poseidon Quark\",\"BitcoinWSpectrum\",\"Dystem\",\"Peony Coin\",\"Vitae\",\"ARENON\",\"MMOCoin\",\"Ketan\",\"PAXEX\",\"Acute Angle Cloud\",\"Bettex coin\",\"Junson Ming Chan Coin\",\"Crypto Sports\",\"Dash Platinum\",\"ALAX\",\"NeosCoin\",\"Radium\",\"Lisk\",\"HiCoin\",\"Fiii\",\"EOS\",\"Oxycoin\",\"TigerCash\",\"Waves\",\"Particl\",\"Nxt\",\"ZEPHYR\",\"BitcoinPlus\"],\"TotalCoinSupply\":[\"3600570502\",\"12500000\",\"40000000000\",\"0\",\"0\",\"0\",\"16180000\",\"0\",\"100000000\",\"2300000000\",\"0\",\"2158812800\",\"0\",\"500000000\",\"20000000\",\"0\",\"100000000\",\"221052632\",\" 99000000000\",\"2147483647\",\"20000000\",\"33500000\",\"200000000\",\"657000000\",\"0\",\"74000000\",\"39999898\",\"2500124\",\"301000000\",\"125000000\",\"50000000\",\"20000000\",\"32514916898\",\"15000000\",\"55000000\",\"14524851.4827\",\"34426423\",\"110290030\",\"400000000\",\"75000000000\",\"2000000000\",\"30000000\",\"200084200\",\"100000000\",\"137500000\",\"17405891.19707116\",\"61599965\",\"91388946\",\"45000000000\",\"24000000\",\"21000000\",\"9000000000\",\"500000000\",\"27716121\",\"20000000\",\"120000000\",\"21000000\",\"25000000\",\"800000000\",\"5200000000\",\"252460800\",\"124000000\",\"1000000000\",\"500000000\",\"21000000\",\"88000000\",\"100000000\",\"80000000\",\"45000000\",\"21000000\",\"26000000\",\"44000000\",\"90000000\",\"92000000000\",\"650000000 \",\"100262205\",\"21000000\",\"16880000000\",\"100000000\",\"55000000\",\"260000000\",\"210000000\",\"100000000\",\"1000000000\",\"50000000\",\"0\",\"13370000\",\"19700000\",\"1000000000\",\"21000000\",\"9000000\",\"159918400\",\"10008835635\",\"5000000000\",\"0\",\"0\",\"1000000000\",\"100000000\",\"8634140\",\"1000000000\",\"2000000000\",\"1000000\"],\"TotalCoinsMined\":{\"__ndarray__\":\"AAAAOiFt5EEpu0/cGOFmQa625wpfoCJCAAAAQJaqVUH7XLHGCwPZQdP8FRHe1BNCAAAAAGTcbkEnrP5t5i2IQSa87r61IpNBsaedNq8s2EEAAAAAhNeXQQAAAPAsBNtBhfNEptbseUEai97DxtGkQQAAAACKhURBSIrIEMAXFEEAAAAAhNeXQQAAAJALTYNBVp2dlVA3IUIAAMD////fQQAAAADQEnNB/JNThatmgkEAAAAA0BJTQQAAACCDlMNBAAAAML03pEErDC47qqaRQQAAACB6uqFBAAAAAA4TQ0F4eqWiQ/5wQQAAAJAhzJlBAAAAAITXh0EAAAAA0BJzQbVVN4SufR9Ct0Cnl6EPZEGMg2z7OkxGQUVHcm82tGtBAAAA6K0wgUEEVo5zMX+aQQAAAFk07bdBAAAARNP4l0EJpFzqaJexQWBHLT+iuWVBAAAAIFm6Y0EAAAAAhNeXQQAAAHgivplB8muVFXjMcUEAAAAAgIROQQAAAACE13dBAAAozX4lGEIAAAAAYON2QeDzw8nmhGdBAACwz4jDAEJhb37H6SuxQb7tLlxZRGlBqtpuTpcrcEEAAAAA9gh6QQAAAAD1z1BBVgGNWKp/c0EAAABaKnSrQfHXeCf+Z9pBAAAAfjRgqEFaJijSrWJ4QQAAgLiUZcNBAACgGEfdr0F9BpRr9bJiQU0Fpq323HRBAAAAACvJMkFM2vnC1h9lQQAAAACWzFBBjX70YrDMZEGzdrvL83SCQUhQ/AAsG11Bz/PnRZrhfEFZ5otViSEyQujU/Hk0uURBGNIByAGRi0FNI9YPZgRbQZblkOe4zC9BIUABrTd/j0FxPQpfeGByQf+yq29isZlBB1Ybc0PKYUEAAADADy9RQQAAAABlzc1BcmCHS1PkWUFwTkFiKgcQQvT+3KxthT1B1Y1/4hbXJUEAAAAAZc3NQV5Lxo9QwVBBBonp3l4nTUEAAACw9ZycQQKaLf58oAJC0nu/vNIL9sHZPYkFI2rOQRSu13KMudBBAAAAAGXNzUEAAAAAhNeXQdmqyTHItGFBAAAAAGXNzUHzjtP+ZM3dQUfYAfFvVP9A\",\"dtype\":\"float64\",\"order\":\"little\",\"shape\":[102]},\"class\":[1,1,1,1,1,1,1,1,1,1,1,1,1,1,1,1,1,1,1,1,1,1,1,1,1,1,1,1,1,1,1,1,1,1,1,1,1,1,1,1,1,1,1,1,1,1,1,1,1,1,1,1,1,1,1,1,1,1,1,1,1,1,1,1,1,1,1,1,1,1,1,1,1,1,1,1,1,1,1,1,1,1,1,1,1,1,1,1,1,1,1,1,1,1,1,1,1,1,1,1,1,1]},\"selected\":{\"id\":\"1282\"},\"selection_policy\":{\"id\":\"1297\"}},\"id\":\"1281\",\"type\":\"ColumnDataSource\"},{\"attributes\":{\"end\":1032670428767.6898,\"reset_end\":1032670428767.6898,\"reset_start\":-48599692876.008446,\"start\":-48599692876.008446,\"tags\":[[[\"TotalCoinsMined\",\"TotalCoinsMined\",null]]]},\"id\":\"1223\",\"type\":\"Range1d\"},{\"attributes\":{\"fill_alpha\":{\"value\":0.2},\"fill_color\":{\"value\":\"#9367bc\"},\"line_alpha\":{\"value\":0.2},\"line_color\":{\"value\":\"#9367bc\"},\"size\":{\"units\":\"screen\",\"value\":5.477225575051661},\"x\":{\"field\":\"TotalCoinsMined\"},\"y\":{\"field\":\"TotalCoinSupply\"}},\"id\":\"1349\",\"type\":\"Scatter\"},{\"attributes\":{\"fill_alpha\":{\"value\":0.1},\"fill_color\":{\"value\":\"#ff7e0e\"},\"line_alpha\":{\"value\":0.1},\"line_color\":{\"value\":\"#ff7e0e\"},\"size\":{\"units\":\"screen\",\"value\":5.477225575051661},\"x\":{\"field\":\"TotalCoinsMined\"},\"y\":{\"field\":\"TotalCoinSupply\"}},\"id\":\"1285\",\"type\":\"Scatter\"},{\"attributes\":{},\"id\":\"1250\",\"type\":\"ResetTool\"},{\"attributes\":{},\"id\":\"1237\",\"type\":\"CategoricalScale\"},{\"attributes\":{\"source\":{\"id\":\"1281\"}},\"id\":\"1288\",\"type\":\"CDSView\"},{\"attributes\":{},\"id\":\"1264\",\"type\":\"Selection\"},{\"attributes\":{\"data\":{\"CoinName\":[\"42 Coin\",\"404Coin\",\"Bitcoin\",\"Litecoin\",\"Dash\",\"BitcoinDark\",\"ProsperCoin\",\"KoboCoin\",\"Spreadcoin\",\"Argentum\",\"Aurora Coin\",\"BlueCoin\",\"ZetaCoin\",\"SexCoin\",\"Quatloo\",\"EnergyCoin\",\"QuarkCoin\",\"Digitalcoin \",\"BitBar\",\"Catcoin\",\"CryptoBullion\",\"CannaCoin\",\"CryptCoin\",\"DevCoin\",\"EarthCoin\",\"E-Gulden\",\"Einsteinium\",\"Emerald\",\"FlutterCoin\",\"Franko\",\"GrandCoin\",\"GlobalCoin\",\"GoldCoin\",\"HoboNickels\",\"Infinite Coin\",\"IOCoin\",\"IXcoin\",\"KrugerCoin\",\"LuckyCoin\",\"Litebar \",\"MaxCoin\",\"MegaCoin\",\"MinCoin\",\"MazaCoin\",\"NavCoin\",\"NobleCoin\",\"Namecoin\",\"NyanCoin\",\"OpalCoin\",\"PotCoin\",\"PhoenixCoin\",\"Reddcoin\",\"RonPaulCoin\",\"StableCoin\",\"SmartCoin\",\"SyncCoin\",\"SysCoin\",\"TigerCoin\",\"TorCoin\",\"TerraCoin\",\"UnbreakableCoin\",\"Unobtanium\",\"UroCoin\",\"UnitaryStatus Dollar\",\"UltraCoin\",\"ViaCoin\",\"VeriCoin\",\"WorldCoin\",\"X11 Coin\",\"JouleCoin\",\"StealthCoin\",\"ZCC Coin\",\"MonaCoin\",\"Neutron\",\"Gulden\",\"PesetaCoin\",\"Kore\",\"Wild Beast Coin\",\"Flo\",\"8BIT Coin\",\"Sativa Coin\",\"ArtByte\",\"Folding Coin\",\"CypherPunkCoin\",\"OmniCron\",\"Vtorrent\",\"GreenCoin\",\"MasterCoin\",\"SoonCoin\",\"1Credit\",\"IslaCoin\",\"Nexus\",\"MarsCoin \",\"Anarchists Prime\",\"Droidz\",\"BowsCoin\",\"Song Coin\",\"BitZeny\",\"Paycon\",\"Emercoin\",\"EverGreenCoin\",\"MindCoin\",\"I0coin\",\"Revolution VR\",\"EDRCoin\",\"Hitcoin\",\"Gamecredits\",\"DubaiCoin\",\"CarpeDiemCoin\",\"BillaryCoin\",\"Adzcoin\",\"YoCoin\",\"SibCoin\",\"EuropeCoin\",\"SwingCoin\",\"Francs\",\"BolivarCoin\",\"Ratecoin\",\"Revenu\",\"Clockcoin\",\"BitSend\",\"Omni\",\"PutinCoin\",\"iBankCoin\",\"Frankywillcoin\",\"PizzaCoin\",\"GoldBlocks\",\"CarterCoin\",\"BitTokens\",\"ZayedCoin\",\"MustangCoin\",\"ZoneCoin\",\"RootCoin\",\"DopeCoin\",\"DollarCoin\",\"Swiscoin\",\"Shilling\",\"BuzzCoin\",\"PesoBit\",\"Halloween Coin\",\"GanjaCoin V2\",\"LanaCoin\",\"InsaneCoin\",\"KiloCoin\",\"ArtexCoin\",\"EmberCoin\",\"XenixCoin\",\"PLNCoin\",\"AquariusCoin\",\"Kurrent\",\"Eternity\",\"Eurocoin\",\"BitcoinFast\",\"Stakenet\",\"BitConnect Coin\",\"MoneyCoin\",\"Enigma\",\"Russiacoin\",\"GameUnits\",\"GAKHcoin\",\"LiteCreed\",\"OsmiumCoin\",\"Klingon Empire Darsek\",\"Internet of People\",\"KushCoin\",\"Printerium\",\"PacCoin\",\"Impeach\",\"FirstCoin\",\"BeaverCoin\",\"VaultCoin\",\"OpenChat\",\"Canada eCoin\",\"VirtacoinPlus\",\"Impact\",\"EB3coin\",\"HappyCoin\",\"Condensate\",\"Independent Money System\",\"ArgusCoin\",\"LomoCoin\",\"GoldReserve\",\"BenjiRolls\",\"ILCoin\",\"Degas Coin\",\"HTML5 Coin\",\"EquiTrader\",\"DigitalPrice\",\"Bitcoin Planet\",\"Unify\",\"BritCoin\",\"SocialCoin\",\"ArcticCoin\",\"DAS\",\"Linda\",\"DeepOnion\",\"Bitcore\",\"Onix\",\"Cream\",\"Bitcoin Cash\",\"Monoeci\",\"Vechain\",\"Sojourn Coin\",\"NewYorkCoin\",\"FrazCoin\",\"Kronecoin\",\"AdCoin\",\"Linx\",\"CoinonatX\",\"Ethereum Dark\",\"Regalcoin\",\"Elements\",\"TerraNovaCoin\",\"WomenCoin\",\"Theresa May Coin\",\"LUXCoin\",\"Xios\",\"Bitcloud 2.0\",\"eBoost\",\"BlackholeCoin\",\"Pura\",\"Magnet\",\"Bitcoin Diamond\",\"Cash & Back Coin\",\"AC3\",\"GermanCoin\",\"LiteCoin Ultra\",\"PopularCoin\",\"PhantomX\",\"Sucre\",\"IrishCoin\",\"Trollcoin\",\"Litecoin Plus\",\"Pioneer Coin\",\"UnitedBitcoin\",\"My Big Coin\",\"MUNcoin\",\"Unified Society USDEX\",\"ShareChain\",\"LitecoinCash\",\"BitFlip\",\"LottoCoin\",\"Crypto Improvement Fund\",\"Pushi\",\"Ellerium\",\"Poseidon\",\"Briacoin\",\"Ignition\",\"Abjcoin\",\"FuturoCoin\",\"Carebit\",\"iDealCash\",\"KEYCO\",\"Swisscoin\",\"TheVig\",\"EmaratCoin\",\"Motion\",\"Axe\",\"Trivechain\",\"Giant\",\"HexCoin\",\"TPCash\",\"Urals Coin\",\"EUNO\",\"Project Pai\",\"Azart\",\"ThunderStake\",\"Kcash\",\"Xchange\",\"Bitcoin SV\",\"BitMoney\",\"HerbCoin\",\"Block-Logic\",\"Oduwa\",\"Galilel\",\"Credit\",\"SLICE\",\"Nasdacoin\",\"Beetle Coin\",\"Titan Coin\",\"Award\",\"BLAST\",\"Bitcoin Rhodium\",\"GlobalToken\",\"Insane Coin\",\"LiteDoge\",\"SolarCoin\",\"TruckCoin\",\"OrangeCoin\",\"BitstarCoin\",\"HyperCoin\",\"PinkCoin\",\"Crypto Escudo\",\"AudioCoin\",\"IncaKoin\",\"Piggy Coin\",\"Crown Coin\",\"Genstake\",\"SmileyCoin\",\"XiaoMiCoin\",\"CapriCoin\",\" ClubCoin\",\"Bata\",\"Pakcoin\",\"Creditbit \",\"OKCash\",\"WhiteCoin\",\"Triangles Coin\",\"Gapcoin\"],\"TotalCoinSupply\":[\"42\",\"532000000\",\"21000000\",\"84000000\",\"22000000\",\"22000000\",\"21000000\",\"350000000\",\"20000000\",\"64000000\",\"16768584\",\"0\",\"169795588\",\"250000000\",\"100000000\",\"0\",\"247000000\",\"48166000\",\"500000\",\"21000000 \",\"1000000\",\"13140000\",\"18000000\",\"21000000000\",\"13500000000\",\"21000000 \",\"299792458\",\"32000000\",\"0\",\"11235813\",\"1420609614\",\"70000000\",\"72245700\",\"120000000\",\"90600000000\",\"22000000\",\"21000000\",\"265420800\",\"20000000\",\"1350000\",\"100000000\",\"42000000\",\"10000000\",\"2419200000\",\"0\",\"15000000000\",\"21000000\",\"337000000\",\"0\",\"420000000\",\"98000000\",\"0\",\"21000000\",\"250000000\",\"51200000\",\"1000\",\"888000000\",\"47011968\",\"10000000\",\"42000000\",\"80000000\",\"250000\",\"0\",\"1600000000\",\"100000000\",\"23000000\",\"0\",\"265420800\",\"5500000\",\"45000000\",\"0\",\"1000000000\",\"105120000\",\"68000000\",\"1680000000\",\"166386000\",\"12000000\",\"2628000\",\"160000000\",\"0\",\"10000000\",\"1000000000\",\"1000000000\",\"0\",\"3371337\",\"20000000\",\"10000000000\",\"619478\",\"21000000\",\"92000000000\",\"0\",\"78000000\",\"33000000\",\"53760000\",\"5060000\",\"21000000\",\"210240000\",\"250000000\",\"50000000\",\"1000000000\",\"26298000\",\"16000000\",\"21000000\",\"210000000\",\"22000000\",\"26550000000\",\"84000000\",\"10500000\",\"21626280000 \",\"42000000\",\"84000000\",\"168351300\",\"24000000\",\"384000000\",\"40000000\",\"20000000\",\"25000000\",\"75000000\",\"222725000\",\"525000000\",\"139000000\",\"616448\",\"2000000000\",\"44333333\",\"100000000\",\"25000000\",\"50000000\",\"90000000\",\"21000000\",\"9736000\",\"3000000\",\"21000000\",\"0\",\"200000000\",\"10638298\",\"3100000000\",\"30000000\",\"20000000000\",\"0\",\"1500000000\",\"100000000\",\"7506000000\",\"30000000\",\"10000000000\",\"500000000\",\"850000000\",\"3853326.77707314\",\"38540000 \",\"42000000\",\"228000000\",\"60000000\",\"20000000\",\"33000000\",\"76500000\",\"28000000\",\"650659833\",\"5000000\",\"144000000\",\"13000000\",\"3315789\",\"78835200\",\"2714286\",\"500000000\",\"21000000\",\"9354000\",\"20000000\",\"100000000000\",\"21933333\",\"110000000\",\"3360000\",\"1000000000\",\"1000000000\",\"100000000 \",\"100000000\",\"110000000\",\"4000000000\",\"100000000\",\"500000000\",\"21212121\",\"28600000\",\"1000000000\",\"40000000\",\"35520400\",\"2500000000\",\"105000000\",\"90000000000\",\"72000000\",\"100000000\",\"100000000\",\"19276800\",\"30000000\",\" 75000000\",\"60000000\",\"18900000\",\"50000000000\",\"18898187.6216583\",\"21000000\",\"1100000000\",\"100000000\",\"21000000\",\"9507271\",\"86712634466\",\"10500000000\",\"0\",\"20000000\",\"84000000\",\"100000000\",\"100000000\",\"48252000\",\"4200000\",\"27000000\",\"1800000000\",\"15733333\",\"25000000000\",\"100000000\",\"60000000\",\"21000000\",\"200000000\",\"100000000\",\"14788275.991\",\"350000000\",\"144000000\",\"210000000\",\"210000000\",\"550000000\",\"50000000000\",\"150000000\",\"4999999999\",\"50000000\",\"19800000\",\"64000000\",\"900000000\",\"4000000\",\"23000000\",\"20166000\",\"30000000\",\"16600000\",\"232000000\",\"10000000000\",\"840000000\",\"40000000\",\"18406979840\",\"500000000\",\"25000000\",\"60000000\",\"21000000\",\"3000000\",\"5000000\",\"30000000\",\"100000000\",\"200000000\",\"5121951220\",\"18000000\",\"10200000000\",\"100000000\",\"84000000\",\"22075700\",\"21000000\",\"82546564\",\"5151000\",\"22105263\",\"1000000000\",\"210000000\",\"50000000\",\"2100000000\",\"25000000\",\"18000000000\",\"1000000000\",\"100000000\",\"21000000\",\"70000000000\",\"54000000\",\"120000000\",\"21000000\",\"19035999\",\"74800000000\",\"100000000\",\"84000000\",\"500000000\",\"5000000000\",\"420000000\",\"64000000\",\"2100000\",\"168000000\",\"30000000\",\"35000000000\",\"98100000000\",\"0\",\"200000000\",\"54256119\",\"0\",\"500000000\",\"1000000000\",\"10500000000\",\"190000000\",\"1000000000\",\"42000000\",\"15000000\",\"50000000000\",\"400000000\",\"208000000\",\"160000000\",\"5000000\",\"182000000\",\"16504333\",\"105000000\",\"300000000\",\"120000\",\"250000000\"],\"TotalCoinsMined\":{\"__ndarray__\":\"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\",\"dtype\":\"float64\",\"order\":\"little\",\"shape\":[309]},\"class\":[0,0,0,0,0,0,0,0,0,0,0,0,0,0,0,0,0,0,0,0,0,0,0,0,0,0,0,0,0,0,0,0,0,0,0,0,0,0,0,0,0,0,0,0,0,0,0,0,0,0,0,0,0,0,0,0,0,0,0,0,0,0,0,0,0,0,0,0,0,0,0,0,0,0,0,0,0,0,0,0,0,0,0,0,0,0,0,0,0,0,0,0,0,0,0,0,0,0,0,0,0,0,0,0,0,0,0,0,0,0,0,0,0,0,0,0,0,0,0,0,0,0,0,0,0,0,0,0,0,0,0,0,0,0,0,0,0,0,0,0,0,0,0,0,0,0,0,0,0,0,0,0,0,0,0,0,0,0,0,0,0,0,0,0,0,0,0,0,0,0,0,0,0,0,0,0,0,0,0,0,0,0,0,0,0,0,0,0,0,0,0,0,0,0,0,0,0,0,0,0,0,0,0,0,0,0,0,0,0,0,0,0,0,0,0,0,0,0,0,0,0,0,0,0,0,0,0,0,0,0,0,0,0,0,0,0,0,0,0,0,0,0,0,0,0,0,0,0,0,0,0,0,0,0,0,0,0,0,0,0,0,0,0,0,0,0,0,0,0,0,0,0,0,0,0,0,0,0,0,0,0,0,0,0,0,0,0,0,0,0,0,0,0,0,0,0,0,0,0,0,0,0,0,0,0,0,0,0,0]},\"selected\":{\"id\":\"1264\"},\"selection_policy\":{\"id\":\"1277\"}},\"id\":\"1263\",\"type\":\"ColumnDataSource\"},{\"attributes\":{\"fill_alpha\":{\"value\":0.1},\"fill_color\":{\"value\":\"#d62628\"},\"line_alpha\":{\"value\":0.1},\"line_color\":{\"value\":\"#d62628\"},\"size\":{\"units\":\"screen\",\"value\":5.477225575051661},\"x\":{\"field\":\"TotalCoinsMined\"},\"y\":{\"field\":\"TotalCoinSupply\"}},\"id\":\"1325\",\"type\":\"Scatter\"},{\"attributes\":{\"label\":{\"value\":\"3\"},\"renderers\":[{\"id\":\"1327\"}]},\"id\":\"1343\",\"type\":\"LegendItem\"},{\"attributes\":{\"data\":{\"CoinName\":[\"BitTorrent\"],\"TotalCoinSupply\":[\"990000000000\"],\"TotalCoinsMined\":{\"__ndarray__\":\"xfR7nv3PbEI=\",\"dtype\":\"float64\",\"order\":\"little\",\"shape\":[1]},\"class\":[2]},\"selected\":{\"id\":\"1301\"},\"selection_policy\":{\"id\":\"1318\"}},\"id\":\"1300\",\"type\":\"ColumnDataSource\"},{\"attributes\":{\"label\":{\"value\":\"0\"},\"renderers\":[{\"id\":\"1269\"}]},\"id\":\"1280\",\"type\":\"LegendItem\"},{\"attributes\":{},\"id\":\"1246\",\"type\":\"SaveTool\"},{\"attributes\":{},\"id\":\"1247\",\"type\":\"PanTool\"},{\"attributes\":{\"fill_alpha\":{\"value\":0.1},\"fill_color\":{\"value\":\"#1f77b3\"},\"line_alpha\":{\"value\":0.1},\"line_color\":{\"value\":\"#1f77b3\"},\"size\":{\"units\":\"screen\",\"value\":5.477225575051661},\"x\":{\"field\":\"TotalCoinsMined\"},\"y\":{\"field\":\"TotalCoinSupply\"}},\"id\":\"1267\",\"type\":\"Scatter\"},{\"attributes\":{},\"id\":\"1277\",\"type\":\"UnionRenderers\"},{\"attributes\":{\"active_drag\":\"auto\",\"active_inspect\":\"auto\",\"active_multi\":null,\"active_scroll\":\"auto\",\"active_tap\":\"auto\",\"tools\":[{\"id\":\"1225\"},{\"id\":\"1246\"},{\"id\":\"1247\"},{\"id\":\"1248\"},{\"id\":\"1249\"},{\"id\":\"1250\"}]},\"id\":\"1252\",\"type\":\"Toolbar\"},{\"attributes\":{},\"id\":\"1282\",\"type\":\"Selection\"},{\"attributes\":{\"children\":[{\"id\":\"1222\"},{\"id\":\"1230\"},{\"id\":\"1513\"}],\"margin\":[0,0,0,0],\"name\":\"Row02045\",\"tags\":[\"embedded\"]},\"id\":\"1221\",\"type\":\"Row\"},{\"attributes\":{},\"id\":\"1301\",\"type\":\"Selection\"},{\"attributes\":{\"click_policy\":\"mute\",\"items\":[{\"id\":\"1280\"},{\"id\":\"1299\"},{\"id\":\"1320\"},{\"id\":\"1343\"},{\"id\":\"1368\"}],\"location\":[0,0],\"title\":\"class\"},\"id\":\"1279\",\"type\":\"Legend\"},{\"attributes\":{},\"id\":\"1259\",\"type\":\"BasicTickFormatter\"},{\"attributes\":{\"margin\":[5,5,5,5],\"name\":\"HSpacer02049\",\"sizing_mode\":\"stretch_width\"},\"id\":\"1222\",\"type\":\"Spacer\"},{\"attributes\":{\"callback\":null,\"renderers\":[{\"id\":\"1269\"},{\"id\":\"1287\"},{\"id\":\"1306\"},{\"id\":\"1327\"},{\"id\":\"1350\"}],\"tags\":[\"hv_created\"],\"tooltips\":[[\"class\",\"@{class}\"],[\"TotalCoinsMined\",\"@{TotalCoinsMined}\"],[\"TotalCoinSupply\",\"@{TotalCoinSupply}\"],[\"CoinName\",\"@{CoinName}\"]]},\"id\":\"1225\",\"type\":\"HoverTool\"},{\"attributes\":{\"overlay\":{\"id\":\"1251\"}},\"id\":\"1249\",\"type\":\"BoxZoomTool\"},{\"attributes\":{\"fill_alpha\":{\"value\":0.2},\"fill_color\":{\"value\":\"#2ba02b\"},\"line_alpha\":{\"value\":0.2},\"line_color\":{\"value\":\"#2ba02b\"},\"size\":{\"units\":\"screen\",\"value\":5.477225575051661},\"x\":{\"field\":\"TotalCoinsMined\"},\"y\":{\"field\":\"TotalCoinSupply\"}},\"id\":\"1305\",\"type\":\"Scatter\"},{\"attributes\":{\"fill_alpha\":{\"value\":0.2},\"fill_color\":{\"value\":\"#d62628\"},\"line_alpha\":{\"value\":0.2},\"line_color\":{\"value\":\"#d62628\"},\"size\":{\"units\":\"screen\",\"value\":5.477225575051661},\"x\":{\"field\":\"TotalCoinsMined\"},\"y\":{\"field\":\"TotalCoinSupply\"}},\"id\":\"1326\",\"type\":\"Scatter\"},{\"attributes\":{},\"id\":\"1261\",\"type\":\"CategoricalTickFormatter\"},{\"attributes\":{},\"id\":\"1248\",\"type\":\"WheelZoomTool\"},{\"attributes\":{\"source\":{\"id\":\"1300\"}},\"id\":\"1307\",\"type\":\"CDSView\"},{\"attributes\":{\"label\":{\"value\":\"2\"},\"renderers\":[{\"id\":\"1306\"}]},\"id\":\"1320\",\"type\":\"LegendItem\"},{\"attributes\":{},\"id\":\"1366\",\"type\":\"UnionRenderers\"},{\"attributes\":{\"label\":{\"value\":\"4\"},\"renderers\":[{\"id\":\"1350\"}]},\"id\":\"1368\",\"type\":\"LegendItem\"},{\"attributes\":{\"data\":{\"CoinName\":[\"Ethereum\",\"Monero\",\"Ethereum Classic\",\"ZCash\",\"DigiByte\",\"MyriadCoin\",\"Riecoin\",\"Diamond\",\"Verge\",\"FeatherCoin\",\"MediterraneanCoin\",\"Orbitcoin\",\"Vertcoin\",\"DigitalNote \",\"StorjCoin\",\"FairCoin\",\"Unitus\",\"Cryptonite\",\"Crypto\",\"Expanse\",\"Siacoin\",\"Decred\",\"HOdlcoin\",\"PWR Coin\",\"SoilCoin\",\"VIP Tokens\",\"Komodo\",\"Karbo\",\"Circuits of Value\",\"ZCoin\",\"Elementrem\",\"ZClassic\",\"Cannabis Industry Coin\",\"Bikercoins\",\"HexxCoin\",\"Citadel\",\"Zero\",\"Zoin\",\"DubaiCoin\",\"TajCoin\",\"Coinonat\",\"Quantum Resistant Ledger\",\"Espers\",\"Dynamic\",\"Nano\",\"ChanCoin\",\"Dinastycoin\",\"Denarius\",\"Virta Unique Coin\",\"LeviarCoin\",\"SmartCash\",\"Sumokoin\",\"BitcoinZ\",\"TrezarCoin\",\"VIVO Coin\",\"Bitcoin Gold\",\"NamoCoin\",\"Pirl\",\"Innova\",\"Ellaism\",\"GoByte\",\"Electra\",\"SHIELD\",\"UltraNote\",\"BitCoal\",\"DaxxCoin\",\"Lethean\",\"Photon\",\"SparksPay\",\"GunCoin\",\"Interzone\",\"1717 Masonic Commemorative Token\",\"Niobio Cash\",\"Travelflex\",\"KREDS\",\"Stipend\",\"Callisto Network\",\"BitTube\",\"Aidos Kuneen\",\"Bitspace\",\"Bitrolium\",\"Alpenschillling\",\"Monero Classic\",\"Jumpcoin\",\"Infinex\",\"GINcoin\",\"PlatinCoin\",\"Loki\",\"Newton Coin\",\"MassGrid\",\"PluraCoin\",\"Muse\",\"PlusOneCoin\",\"Absolute Coin\",\"Webchain\",\"Ryo\",\"XDNA\",\"CrypticCoin\",\"Actinium\",\"FREDEnergy\",\"Universal Molecule\",\"Lithium\",\"PirateCash\",\"Exosis\",\"Beam\",\"Bithereum\",\"UFO Coin\",\"BlakeCoin\",\"Groestlcoin\",\"FriendshipCoin\",\"JoinCoin\",\"Vollar\",\"Reality Clash\",\"Beldex\",\"Horizen\"],\"TotalCoinSupply\":[\"0\",\"0\",\"210000000\",\"21000000\",\"21000000000\",\"2000000000\",\"84000000\",\"4380000\",\"16555000000\",\"336000000\",\"200000000\",\"3770000\",\"84000000\",\"10000000000\",\"500000000\",\"0\",\"0\",\"1840000000\",\"65789100\",\"16906397\",\"0\",\"21000000\",\"81962100\",\"0\",\"30000000\",\"90000000\",\"200000000\",\"10000000\",\"1200000000\",\"21400000\",\"26205539\",\"21000000\",\"21000000\",\"25000000\",\"9999999\",\"185000000\",\"17000000\",\"21000000\",\"2232901\",\"36900000\",\"48252000\",\"105000000\",\"50000000000\",\"0\",\"340282367\",\"30000000\",\"2000000000\",\"10000000\",\"120000000\",\"54000000\",\"5000000000\",\"88888888\",\"21000000000\",\"400000000\",\"27000000\",\"21000000\",\"1200000000\",\"156306732.71\",\"45000000\",\"280000000\",\"31800000\",\"30000000000\",\"660000000\",\"85000000000\",\"12500000\",\"10000000000\",\"999481516\",\" 90000000000\",\"21000000\",\"500000000\",\"23000000\",\"1618033\",\"336000000\",\"100000000\",\"1100000000\",\"19340594\",\"6500000000\",\"1000000000\",\"25000000\",\"50000000\",\"70000000\",\"300000000\",\"18400000\",\"21000000\",\"26280000\",\"10500000\",\"600000518\",\"150000000\",\"184000000000\",\"168000000\",\"1000000000\",\"18081806 \",\"21000000\",\"52500000\",\"1750000000\",\"88188888\",\"366000000\",\"7600000000\",\"84000000\",\"8080000000\",\"105120001.44\",\"25228800\",\"105000000\",\"21000000\",\"262800000\",\"30886000\",\"4000000000\",\"7000000000\",\"105000000\",\"60168145\",\"2800000\",\"2100000000\",\"24487944\",\"1400222610\",\"21000000\"],\"TotalCoinsMined\":{\"__ndarray__\":\"2/m++oWsmUFmkFFyf2dwQQAAAFztBptBAAAAEAQqXEEAACi86D4FQgAAgMotKNlBjF0hSWmgh0GgX6nfEzZJQf32aMnKqw1CMPUDShPgqEEzMzOHh0eDQRKlvSNEkkhBx3eI3spmiEFxIKadorr5QQAAAMC4ZohBAAAAOGNdiUEAAACwZgyPQQAAAMx5HcVBAAAAQFI2akEAAADApQRkQQAASLM/0x5CZImz3Q7FY0EAAACgTtZlQc9mP8p8wQJCAAAAAGjAVUEAAACMaOWTQQAAAEzcoZtBKodcLhjXXUEAAAAAZc3NQVHN+E/m3lxBAAAAMNb9eEEAAACA+2lVQQAAAADC2S1BAAAAAOTYYUHogY9xsqA8QQcKvNAc7GRBHHiWeW1nWkEAAADYxa9xQQAAAIAiCUFBIY+gfVA9Z0EAAAAA+E5jQWUIVsOfdZBBAADce2Q8FUKonWsKIt5yQQAAAKTUxJ9BkdtqsfWNcUEAAMDBkfbaQQAAAAA7009BAAAA2FsDjkEAAABg8QJrQUsfp79isuBBAAAAoHsQYUEDPqDeH2rzQQAAAICuxaVBUXuZyafIT0H5hGyRy2dwQQAAAArCtMBBAAAAIM00gEEpXI/C1lFYQQAAAOCxVGhBAAAAuJw/VkEAAACS4nIaQunwkAagtrxBOPiV+yT1EUIAAAAAiCpRQQAAAIQtDL9BEoNgufFMukFZF6rN7wUcQqkEWVV+711BAAAAwY3esUFE3QeDpbpmQQAAAABxsDhBxa8Yz5bun0ElcxxInZaZQdUhxePFL8NBREsDxtF1ZUEAAABKiIStQXV1n+vOFZNBAAAAAITXd0EZwhbUWUxqQQAAAFQxA5FBg3RsWu0SekEAAAAAvIxuQZNBCSTiF3RBRFF9bTZyU0EEUxPtp6ZaQQAAAADAlPRAAAAAAC5EckEAAKK9sDojQoNtFCAxMqBBJcsz4B2xwEEAAACAH1pxQThQXsVjfWBBqLUfPhFuaUHXRuHphLdtQQAAAEBEqFJBe2YJdgDTUUEAAACK1Y3vQQAAAECkAWpBkCxSxj/S20GTuDtQKRU4Qcfd8SeoOW5BAAAAAAq0aUEzMzOzL8kYQQAAAABjBIFBAAAAOFT8d0EAAID6AX/sQUgFZGJXRnZBuqmMb8R5kUGg/UgBgRgxQQAAAECdbUlBAAAAAITXl0H4eoiBgFp3QQAAgEGBNs1BAAAAYIbVW0E=\",\"dtype\":\"float64\",\"order\":\"little\",\"shape\":[115]},\"class\":[3,3,3,3,3,3,3,3,3,3,3,3,3,3,3,3,3,3,3,3,3,3,3,3,3,3,3,3,3,3,3,3,3,3,3,3,3,3,3,3,3,3,3,3,3,3,3,3,3,3,3,3,3,3,3,3,3,3,3,3,3,3,3,3,3,3,3,3,3,3,3,3,3,3,3,3,3,3,3,3,3,3,3,3,3,3,3,3,3,3,3,3,3,3,3,3,3,3,3,3,3,3,3,3,3,3,3,3,3,3,3,3,3,3,3]},\"selected\":{\"id\":\"1322\"},\"selection_policy\":{\"id\":\"1341\"}},\"id\":\"1321\",\"type\":\"ColumnDataSource\"},{\"attributes\":{\"fill_color\":{\"value\":\"#ff7e0e\"},\"line_color\":{\"value\":\"#ff7e0e\"},\"size\":{\"units\":\"screen\",\"value\":5.477225575051661},\"x\":{\"field\":\"TotalCoinsMined\"},\"y\":{\"field\":\"TotalCoinSupply\"}},\"id\":\"1284\",\"type\":\"Scatter\"},{\"attributes\":{\"fill_color\":{\"value\":\"#2ba02b\"},\"line_color\":{\"value\":\"#2ba02b\"},\"size\":{\"units\":\"screen\",\"value\":5.477225575051661},\"x\":{\"field\":\"TotalCoinsMined\"},\"y\":{\"field\":\"TotalCoinSupply\"}},\"id\":\"1303\",\"type\":\"Scatter\"},{\"attributes\":{\"data\":{\"CoinName\":[\"EliteCoin\",\"MoonCoin\",\"ByteCoin\",\"gCn Coin\",\"TurtleCoin\",\"Qwertycoin\"],\"TotalCoinSupply\":[\"314159265359\",\"384000000000\",\"184467440735\",\"200000000000\",\"1000000000000\",\"184470000000\"],\"TotalCoinsMined\":{\"__ndarray__\":\"xAK6QcJEG0IAAAAAAABWQAAAB3WebUVCAABOq2v7QkI9ipsSw74oQl3NAOrTLTdC\",\"dtype\":\"float64\",\"order\":\"little\",\"shape\":[6]},\"class\":[4,4,4,4,4,4]},\"selected\":{\"id\":\"1345\"},\"selection_policy\":{\"id\":\"1366\"}},\"id\":\"1344\",\"type\":\"ColumnDataSource\"},{\"attributes\":{\"data_source\":{\"id\":\"1281\"},\"glyph\":{\"id\":\"1284\"},\"hover_glyph\":null,\"muted_glyph\":{\"id\":\"1286\"},\"nonselection_glyph\":{\"id\":\"1285\"},\"selection_glyph\":null,\"view\":{\"id\":\"1288\"}},\"id\":\"1287\",\"type\":\"GlyphRenderer\"},{\"attributes\":{\"fill_alpha\":{\"value\":0.1},\"fill_color\":{\"value\":\"#2ba02b\"},\"line_alpha\":{\"value\":0.1},\"line_color\":{\"value\":\"#2ba02b\"},\"size\":{\"units\":\"screen\",\"value\":5.477225575051661},\"x\":{\"field\":\"TotalCoinsMined\"},\"y\":{\"field\":\"TotalCoinSupply\"}},\"id\":\"1304\",\"type\":\"Scatter\"},{\"attributes\":{\"data_source\":{\"id\":\"1300\"},\"glyph\":{\"id\":\"1303\"},\"hover_glyph\":null,\"muted_glyph\":{\"id\":\"1305\"},\"nonselection_glyph\":{\"id\":\"1304\"},\"selection_glyph\":null,\"view\":{\"id\":\"1307\"}},\"id\":\"1306\",\"type\":\"GlyphRenderer\"},{\"attributes\":{\"factors\":[\"42\",\"532000000\",\"21000000\",\"84000000\",\"22000000\",\"350000000\",\"20000000\",\"64000000\",\"16768584\",\"0\",\"169795588\",\"250000000\",\"100000000\",\"247000000\",\"48166000\",\"500000\",\"21000000 \",\"1000000\",\"13140000\",\"18000000\",\"21000000000\",\"13500000000\",\"299792458\",\"32000000\",\"11235813\",\"1420609614\",\"70000000\",\"72245700\",\"120000000\",\"90600000000\",\"265420800\",\"1350000\",\"42000000\",\"10000000\",\"2419200000\",\"15000000000\",\"337000000\",\"420000000\",\"98000000\",\"51200000\",\"1000\",\"888000000\",\"47011968\",\"80000000\",\"250000\",\"1600000000\",\"23000000\",\"5500000\",\"45000000\",\"1000000000\",\"105120000\",\"68000000\",\"1680000000\",\"166386000\",\"12000000\",\"2628000\",\"160000000\",\"3371337\",\"10000000000\",\"619478\",\"92000000000\",\"78000000\",\"33000000\",\"53760000\",\"5060000\",\"210240000\",\"50000000\",\"26298000\",\"16000000\",\"210000000\",\"26550000000\",\"10500000\",\"21626280000 \",\"168351300\",\"24000000\",\"384000000\",\"40000000\",\"25000000\",\"75000000\",\"222725000\",\"525000000\",\"139000000\",\"616448\",\"2000000000\",\"44333333\",\"90000000\",\"9736000\",\"3000000\",\"200000000\",\"10638298\",\"3100000000\",\"30000000\",\"20000000000\",\"1500000000\",\"7506000000\",\"500000000\",\"850000000\",\"3853326.77707314\",\"38540000 \",\"228000000\",\"60000000\",\"76500000\",\"28000000\",\"650659833\",\"5000000\",\"144000000\",\"13000000\",\"3315789\",\"78835200\",\"2714286\",\"9354000\",\"100000000000\",\"21933333\",\"110000000\",\"3360000\",\"100000000 \",\"4000000000\",\"21212121\",\"28600000\",\"35520400\",\"2500000000\",\"105000000\",\"90000000000\",\"72000000\",\"19276800\",\" 75000000\",\"18900000\",\"50000000000\",\"18898187.6216583\",\"1100000000\",\"9507271\",\"86712634466\",\"10500000000\",\"48252000\",\"4200000\",\"27000000\",\"1800000000\",\"15733333\",\"25000000000\",\"14788275.991\",\"550000000\",\"150000000\",\"4999999999\",\"19800000\",\"900000000\",\"4000000\",\"20166000\",\"16600000\",\"232000000\",\"840000000\",\"18406979840\",\"5121951220\",\"10200000000\",\"22075700\",\"82546564\",\"5151000\",\"22105263\",\"2100000000\",\"18000000000\",\"70000000000\",\"54000000\",\"19035999\",\"74800000000\",\"5000000000\",\"2100000\",\"168000000\",\"35000000000\",\"98100000000\",\"54256119\",\"190000000\",\"15000000\",\"400000000\",\"208000000\",\"182000000\",\"16504333\",\"300000000\",\"120000\",\"3600570502\",\"12500000\",\"40000000000\",\"16180000\",\"2300000000\",\"2158812800\",\"221052632\",\" 99000000000\",\"2147483647\",\"33500000\",\"657000000\",\"74000000\",\"39999898\",\"2500124\",\"301000000\",\"125000000\",\"32514916898\",\"55000000\",\"14524851.4827\",\"34426423\",\"110290030\",\"75000000000\",\"200084200\",\"137500000\",\"17405891.19707116\",\"61599965\",\"91388946\",\"45000000000\",\"9000000000\",\"27716121\",\"800000000\",\"5200000000\",\"252460800\",\"124000000\",\"88000000\",\"26000000\",\"44000000\",\"650000000 \",\"100262205\",\"16880000000\",\"260000000\",\"13370000\",\"19700000\",\"9000000\",\"159918400\",\"10008835635\",\"8634140\",\"990000000000\",\"4380000\",\"16555000000\",\"336000000\",\"3770000\",\"1840000000\",\"65789100\",\"16906397\",\"81962100\",\"1200000000\",\"21400000\",\"26205539\",\"9999999\",\"185000000\",\"17000000\",\"2232901\",\"36900000\",\"340282367\",\"88888888\",\"156306732.71\",\"280000000\",\"31800000\",\"30000000000\",\"660000000\",\"85000000000\",\"999481516\",\" 90000000000\",\"1618033\",\"19340594\",\"6500000000\",\"18400000\",\"26280000\",\"600000518\",\"184000000000\",\"18081806 \",\"52500000\",\"1750000000\",\"88188888\",\"366000000\",\"7600000000\",\"8080000000\",\"105120001.44\",\"25228800\",\"262800000\",\"30886000\",\"7000000000\",\"60168145\",\"2800000\",\"24487944\",\"1400222610\",\"314159265359\",\"384000000000\",\"184467440735\",\"200000000000\",\"1000000000000\",\"184470000000\"],\"tags\":[[[\"TotalCoinSupply\",\"TotalCoinSupply\",null]]]},\"id\":\"1224\",\"type\":\"FactorRange\"},{\"attributes\":{\"margin\":[5,5,5,5],\"name\":\"HSpacer02050\",\"sizing_mode\":\"stretch_width\"},\"id\":\"1513\",\"type\":\"Spacer\"},{\"attributes\":{},\"id\":\"1322\",\"type\":\"Selection\"},{\"attributes\":{},\"id\":\"1345\",\"type\":\"Selection\"},{\"attributes\":{\"align\":null,\"below\":[{\"id\":\"1239\"}],\"center\":[{\"id\":\"1242\"},{\"id\":\"1245\"}],\"left\":[{\"id\":\"1243\"}],\"margin\":null,\"min_border_bottom\":10,\"min_border_left\":10,\"min_border_right\":10,\"min_border_top\":10,\"plot_height\":300,\"plot_width\":700,\"renderers\":[{\"id\":\"1269\"},{\"id\":\"1287\"},{\"id\":\"1306\"},{\"id\":\"1327\"},{\"id\":\"1350\"}],\"right\":[{\"id\":\"1279\"}],\"sizing_mode\":\"fixed\",\"title\":{\"id\":\"1231\"},\"toolbar\":{\"id\":\"1252\"},\"x_range\":{\"id\":\"1223\"},\"x_scale\":{\"id\":\"1235\"},\"y_range\":{\"id\":\"1224\"},\"y_scale\":{\"id\":\"1237\"}},\"id\":\"1230\",\"subtype\":\"Figure\",\"type\":\"Plot\"},{\"attributes\":{},\"id\":\"1318\",\"type\":\"UnionRenderers\"}],\"root_ids\":[\"1221\"]},\"title\":\"Bokeh Application\",\"version\":\"2.2.1\"}};\n",
       "  var render_items = [{\"docid\":\"69216203-6138-4be0-96de-185c9847e75e\",\"root_ids\":[\"1221\"],\"roots\":{\"1221\":\"ed9fd738-35d8-4bfd-a12f-fc5de4928e7f\"}}];\n",
       "  root.Bokeh.embed.embed_items_notebook(docs_json, render_items);\n",
       "  }\n",
       "if (root.Bokeh !== undefined) {\n",
       "    embed_document(root);\n",
       "  } else {\n",
       "    var attempts = 0;\n",
       "    var timer = setInterval(function(root) {\n",
       "      if (root.Bokeh !== undefined) {\n",
       "        clearInterval(timer);\n",
       "        embed_document(root);\n",
       "      } else if (document.readyState == \"complete\") {\n",
       "        attempts++;\n",
       "        if (attempts > 100) {\n",
       "          clearInterval(timer);\n",
       "          console.log(\"Bokeh: ERROR: Unable to run BokehJS code because BokehJS library is missing\");\n",
       "        }\n",
       "      }\n",
       "    }, 10, root)\n",
       "  }\n",
       "})(window);</script>"
      ],
      "text/plain": [
       ":NdOverlay   [class]\n",
       "   :Scatter   [TotalCoinsMined]   (TotalCoinSupply,CoinName)"
      ]
     },
     "execution_count": 22,
     "metadata": {
      "application/vnd.holoviews_exec.v0+json": {
       "id": "1221"
      }
     },
     "output_type": "execute_result"
    }
   ],
   "source": [
    "#Create a scatter plot using hvplot.scatter to present the clustered data about cryptocurrencies having x=\"TotalCoinsMined\" and y=\"TotalCoinSupply\" to contrast the number of available coins versus the total number of mined coins. Use the hover_cols=[\"CoinName\"] parameter to include the cryptocurrency name on each data point.\n",
    "clustered_df.hvplot.scatter(\n",
    "    x = 'TotalCoinsMined',\n",
    "    y = 'TotalCoinSupply',\n",
    "    hover_cols = ['CoinName'],\n",
    "    by = 'class'\n",
    ")"
   ]
  },
  {
   "cell_type": "code",
   "execution_count": null,
   "metadata": {},
   "outputs": [],
   "source": []
  },
  {
   "cell_type": "code",
   "execution_count": null,
   "metadata": {},
   "outputs": [],
   "source": []
  },
  {
   "cell_type": "code",
   "execution_count": null,
   "metadata": {},
   "outputs": [],
   "source": []
  },
  {
   "cell_type": "code",
   "execution_count": null,
   "metadata": {},
   "outputs": [],
   "source": []
  },
  {
   "cell_type": "code",
   "execution_count": null,
   "metadata": {},
   "outputs": [],
   "source": []
  },
  {
   "cell_type": "code",
   "execution_count": null,
   "metadata": {},
   "outputs": [],
   "source": []
  },
  {
   "cell_type": "code",
   "execution_count": null,
   "metadata": {},
   "outputs": [],
   "source": []
  },
  {
   "cell_type": "code",
   "execution_count": null,
   "metadata": {},
   "outputs": [],
   "source": []
  },
  {
   "cell_type": "code",
   "execution_count": null,
   "metadata": {},
   "outputs": [],
   "source": []
  },
  {
   "cell_type": "code",
   "execution_count": null,
   "metadata": {},
   "outputs": [],
   "source": []
  },
  {
   "cell_type": "code",
   "execution_count": null,
   "metadata": {},
   "outputs": [],
   "source": []
  },
  {
   "cell_type": "code",
   "execution_count": null,
   "metadata": {},
   "outputs": [],
   "source": []
  },
  {
   "cell_type": "code",
   "execution_count": null,
   "metadata": {},
   "outputs": [],
   "source": []
  },
  {
   "cell_type": "code",
   "execution_count": null,
   "metadata": {},
   "outputs": [],
   "source": []
  }
 ],
 "metadata": {
  "kernelspec": {
   "display_name": "Python 3",
   "language": "python",
   "name": "python3"
  },
  "language_info": {
   "codemirror_mode": {
    "name": "ipython",
    "version": 3
   },
   "file_extension": ".py",
   "mimetype": "text/x-python",
   "name": "python",
   "nbconvert_exporter": "python",
   "pygments_lexer": "ipython3",
   "version": "3.7.7"
  }
 },
 "nbformat": 4,
 "nbformat_minor": 4
}
